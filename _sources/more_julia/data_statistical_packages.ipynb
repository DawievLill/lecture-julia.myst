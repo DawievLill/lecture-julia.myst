{
 "cells": [
  {
   "cell_type": "markdown",
   "id": "67a64f6d",
   "metadata": {},
   "source": [
    "(data_statistical_packages)=\n",
    "```{raw} html\n",
    "<div id=\"qe-notebook-header\" style=\"text-align:right;\">\n",
    "        <a href=\"https://quantecon.org/\" title=\"quantecon.org\">\n",
    "                <img style=\"width:250px;display:inline;\" src=\"https://assets.quantecon.org/img/qe-menubar-logo.svg\" alt=\"QuantEcon\">\n",
    "        </a>\n",
    "</div>\n",
    "```\n",
    "\n",
    "# Data and Statistics Packages\n",
    "\n",
    "```{contents} Contents\n",
    ":depth: 2\n",
    "```\n",
    "\n",
    "## Overview\n",
    "\n",
    "This lecture explores some of the key packages for working with data and doing statistics in Julia.\n",
    "\n",
    "In particular, we will examine the `DataFrame` object in detail (i.e., construction, manipulation, querying, visualization, and nuances like missing data).\n",
    "\n",
    "While Julia is not an ideal language for pure cookie-cutter statistical analysis, it has many useful packages to provide those tools as part of a more general solution.\n",
    "\n",
    "This list is not exhaustive, and others can be found in organizations such as [JuliaStats](https://github.com/JuliaStats), [JuliaData](https://github.com/JuliaData/), and  [QueryVerse](https://github.com/queryverse)."
   ]
  },
  {
   "cell_type": "code",
   "execution_count": null,
   "id": "871b69ab",
   "metadata": {
    "tags": [
     "hide-output"
    ]
   },
   "outputs": [],
   "source": [
    "using LinearAlgebra, Statistics\n",
    "using DataFrames, RDatasets, DataFramesMeta, CategoricalArrays, Query, VegaLite\n",
    "using GLM"
   ]
  },
  {
   "cell_type": "markdown",
   "id": "7428f4d2",
   "metadata": {},
   "source": [
    "## DataFrames\n",
    "\n",
    "A useful package for working with data is [DataFrames.jl](https://github.com/JuliaStats/DataFrames.jl).\n",
    "\n",
    "The most important data type provided is a `DataFrame`, a two dimensional array for storing heterogeneous data.\n",
    "\n",
    "Although data can be heterogeneous within a `DataFrame`, the contents of the columns must be homogeneous\n",
    "(of the same type).\n",
    "\n",
    "This is analogous to a `data.frame` in R, a `DataFrame` in Pandas (Python) or, more loosely, a spreadsheet in Excel.\n",
    "\n",
    "There are a few different ways to create a DataFrame.\n",
    "\n",
    "### Constructing and Accessing a DataFrame\n",
    "\n",
    "The first is to set up columns and construct a dataframe by assigning names"
   ]
  },
  {
   "cell_type": "code",
   "execution_count": null,
   "id": "112fc8d6",
   "metadata": {},
   "outputs": [],
   "source": [
    "using DataFrames, RDatasets  # RDatasets provides good standard data examples from R\n",
    "\n",
    "# note use of missing\n",
    "commodities = [\"crude\", \"gas\", \"gold\", \"silver\"]\n",
    "last_price = [4.2, 11.3, 12.1, missing]\n",
    "df = DataFrame(commod = commodities, price = last_price)"
   ]
  },
  {
   "cell_type": "markdown",
   "id": "fb8fae78",
   "metadata": {},
   "source": [
    "Columns of the `DataFrame` can be accessed by name using `df.col`, as below"
   ]
  },
  {
   "cell_type": "code",
   "execution_count": null,
   "id": "c8eeb206",
   "metadata": {},
   "outputs": [],
   "source": [
    "df.price"
   ]
  },
  {
   "cell_type": "markdown",
   "id": "d53c1761",
   "metadata": {},
   "source": [
    "Note that the type of this array has values `Union{Missing, Float64}` since it was created with a `missing` value."
   ]
  },
  {
   "cell_type": "code",
   "execution_count": null,
   "id": "45841ede",
   "metadata": {},
   "outputs": [],
   "source": [
    "df.commod"
   ]
  },
  {
   "cell_type": "markdown",
   "id": "ab50d044",
   "metadata": {},
   "source": [
    "The `DataFrames.jl` package provides a number of methods for acting on `DataFrame`'s, such as `describe`."
   ]
  },
  {
   "cell_type": "code",
   "execution_count": null,
   "id": "cfb7d13e",
   "metadata": {},
   "outputs": [],
   "source": [
    "DataFrames.describe(df)"
   ]
  },
  {
   "cell_type": "markdown",
   "id": "470bce2b",
   "metadata": {},
   "source": [
    "While often data will be generated all at once, or read from a file, you can add to a `DataFrame` by providing the key parameters."
   ]
  },
  {
   "cell_type": "code",
   "execution_count": null,
   "id": "3ed2c119",
   "metadata": {},
   "outputs": [],
   "source": [
    "nt = (commod = \"nickel\", price= 5.1)\n",
    "push!(df, nt)"
   ]
  },
  {
   "cell_type": "markdown",
   "id": "e1b6391f",
   "metadata": {},
   "source": [
    "Named tuples can also be used to construct a `DataFrame`, and have it properly deduce all types."
   ]
  },
  {
   "cell_type": "code",
   "execution_count": null,
   "id": "9ddb6d03",
   "metadata": {},
   "outputs": [],
   "source": [
    "nt = (t = 1, col1 = 3.0)\n",
    "df2 = DataFrame([nt])\n",
    "push!(df2, (t=2, col1 = 4.0))"
   ]
  },
  {
   "cell_type": "markdown",
   "id": "a7c8d514",
   "metadata": {},
   "source": [
    "In order to modify a column, access the mutating version by the symbol `df[!, :col]`."
   ]
  },
  {
   "cell_type": "code",
   "execution_count": null,
   "id": "1ec51160",
   "metadata": {},
   "outputs": [],
   "source": [
    "df[!, :price]"
   ]
  },
  {
   "cell_type": "markdown",
   "id": "dc3e49fa",
   "metadata": {},
   "source": [
    "Which allows modifications, like other mutating `!` functions in julia."
   ]
  },
  {
   "cell_type": "code",
   "execution_count": null,
   "id": "cafd7d48",
   "metadata": {},
   "outputs": [],
   "source": [
    "df[!, :price] *= 2.0  # double prices"
   ]
  },
  {
   "cell_type": "markdown",
   "id": "c1587102",
   "metadata": {},
   "source": [
    "As discussed in the next section, note that the {ref}`fundamental types <missing>`, is propagated, i.e. `missing * 2 === missing`.\n",
    "\n",
    "### Working with Missing\n",
    "\n",
    "As we discussed in {ref}`fundamental types <missing>`, the semantics of `missing` are that mathematical operations will not silently ignore it.\n",
    "\n",
    "In order to allow `missing` in a column, you can create/load the `DataFrame`\n",
    "from a source with `missing`'s, or call `allowmissing!` on a column."
   ]
  },
  {
   "cell_type": "code",
   "execution_count": null,
   "id": "64f84ec9",
   "metadata": {},
   "outputs": [],
   "source": [
    "allowmissing!(df2, :col1) # necessary to add in a for col1\n",
    "push!(df2, (t=3, col1 = missing))\n",
    "push!(df2, (t=4, col1 = 5.1))"
   ]
  },
  {
   "cell_type": "markdown",
   "id": "71e2f0a1",
   "metadata": {},
   "source": [
    "We can see the propagation of `missing` to caller functions, as well as a way to efficiently calculate with non-missing data."
   ]
  },
  {
   "cell_type": "code",
   "execution_count": null,
   "id": "42a57ec1",
   "metadata": {},
   "outputs": [],
   "source": [
    "@show mean(df2.col1)\n",
    "@show mean(skipmissing(df2.col1))"
   ]
  },
  {
   "cell_type": "markdown",
   "id": "11088ca3",
   "metadata": {},
   "source": [
    "And to replace the `missing`"
   ]
  },
  {
   "cell_type": "code",
   "execution_count": null,
   "id": "4d4d7b1e",
   "metadata": {},
   "outputs": [],
   "source": [
    "df2.col1  .= coalesce.(df2.col1, 0.0) # replace all missing with 0.0"
   ]
  },
  {
   "cell_type": "markdown",
   "id": "4802c0e7",
   "metadata": {},
   "source": [
    "### Manipulating and Transforming DataFrames\n",
    "\n",
    "One way to do an additional calculation with a `DataFrame` is to tuse the `@transform` macro from `DataFramesMeta.jl`."
   ]
  },
  {
   "cell_type": "code",
   "execution_count": null,
   "id": "b1164d18",
   "metadata": {},
   "outputs": [],
   "source": [
    "using DataFramesMeta\n",
    "f(x) = x^2\n",
    "df2 = @transform(df2, col2 = f.(:col1))"
   ]
  },
  {
   "cell_type": "markdown",
   "id": "c45bd141",
   "metadata": {},
   "source": [
    "### Categorical Data\n",
    "\n",
    "For data that is [categorical](https://juliadata.github.io/DataFrames.jl/stable/man/categorical/)"
   ]
  },
  {
   "cell_type": "code",
   "execution_count": null,
   "id": "2730c6bc",
   "metadata": {},
   "outputs": [],
   "source": [
    "using CategoricalArrays\n",
    "id = [1, 2, 3, 4]\n",
    "y = [\"old\", \"young\", \"young\", \"old\"]\n",
    "y = CategoricalArray(y)\n",
    "df = DataFrame(id=id, y=y)"
   ]
  },
  {
   "cell_type": "code",
   "execution_count": null,
   "id": "c7051efe",
   "metadata": {},
   "outputs": [],
   "source": [
    "levels(df.y)"
   ]
  },
  {
   "cell_type": "markdown",
   "id": "bc5091ec",
   "metadata": {},
   "source": [
    "### Visualization, Querying, and Plots\n",
    "\n",
    "The `DataFrame` (and similar types that fulfill a standard generic interface) can fit into a variety of packages.\n",
    "\n",
    "One set of them is the [QueryVerse](https://github.com/queryverse).\n",
    "\n",
    "**Note:** The QueryVerse, in the same spirit as R's tidyverse, makes heavy use of the pipeline syntax `|>`."
   ]
  },
  {
   "cell_type": "code",
   "execution_count": null,
   "id": "4878ea6d",
   "metadata": {},
   "outputs": [],
   "source": [
    "x = 3.0\n",
    "f(x) = x^2\n",
    "g(x) = log(x)\n",
    "\n",
    "@show g(f(x))\n",
    "@show x |> f |> g; # pipes nest function calls"
   ]
  },
  {
   "cell_type": "markdown",
   "id": "8f854372",
   "metadata": {},
   "source": [
    "To give an example directly from the source of the LINQ inspired [Query.jl](http://www.queryverse.org/Query.jl/stable/)"
   ]
  },
  {
   "cell_type": "code",
   "execution_count": null,
   "id": "f253e418",
   "metadata": {},
   "outputs": [],
   "source": [
    "using Query\n",
    "\n",
    "df = DataFrame(name=[\"John\", \"Sally\", \"Kirk\"], age=[23., 42., 59.], children=[3,5,2])\n",
    "\n",
    "x = @from i in df begin\n",
    "    @where i.age>50\n",
    "    @select {i.name, i.children}\n",
    "    @collect DataFrame\n",
    "end"
   ]
  },
  {
   "cell_type": "markdown",
   "id": "7b8aa783",
   "metadata": {},
   "source": [
    "While it is possible to just use the `Plots.jl` library, there may be better options for displaying tabular data -- such as [VegaLite.jl](https://github.com/queryverse/VegaLite.jl)."
   ]
  },
  {
   "cell_type": "code",
   "execution_count": null,
   "id": "3a853b22",
   "metadata": {},
   "outputs": [],
   "source": [
    "using RDatasets, VegaLite\n",
    "iris = dataset(\"datasets\", \"iris\")\n",
    "\n",
    "iris |> @vlplot(\n",
    "    :point,\n",
    "    x=:PetalLength,\n",
    "    y=:PetalWidth,\n",
    "    color=:Species\n",
    ")"
   ]
  },
  {
   "cell_type": "markdown",
   "id": "6fea5409",
   "metadata": {},
   "source": [
    "## Statistics and Econometrics\n",
    "\n",
    "While Julia is not intended as a replacement for R, Stata, and similar specialty languages, it has a growing number of packages aimed at statistics and econometrics.\n",
    "\n",
    "Many of the packages live in the [JuliaStats organization](https://github.com/JuliaStats/).\n",
    "\n",
    "A few to point out\n",
    "\n",
    "* [StatsBase](https://github.com/JuliaStats/StatsBase.jl) has basic statistical functions such as geometric and harmonic means, auto-correlations, robust statistics, etc.\n",
    "* [StatsFuns](https://github.com/JuliaStats/StatsFuns.jl) has a variety of mathematical functions and constants such as pdf and cdf of many distributions, softmax, etc.\n",
    "\n",
    "### General Linear Models\n",
    "\n",
    "To run linear regressions and similar statistics, use the [GLM](http://juliastats.github.io/GLM.jl/latest/) package."
   ]
  },
  {
   "cell_type": "code",
   "execution_count": null,
   "id": "8aa6b2a4",
   "metadata": {},
   "outputs": [],
   "source": [
    "using GLM\n",
    "\n",
    "x = randn(100)\n",
    "y = 0.9 .* x + 0.5 * rand(100)\n",
    "df = DataFrame(x=x, y=y)\n",
    "ols = lm(@formula(y ~ x), df) # R-style notation"
   ]
  },
  {
   "cell_type": "markdown",
   "id": "47900663",
   "metadata": {},
   "source": [
    "To display the results in a useful tables for LaTeX and the REPL, use\n",
    "[RegressionTables](https://github.com/jmboehm/RegressionTables.jl/) for output\n",
    "similar to the Stata package esttab and the R package stargazer."
   ]
  },
  {
   "cell_type": "code",
   "execution_count": null,
   "id": "6628c0d2",
   "metadata": {},
   "outputs": [],
   "source": [
    "using RegressionTables\n",
    "regtable(ols)\n",
    "# regtable(ols,  renderSettings = latexOutput()) # for LaTex output"
   ]
  },
  {
   "cell_type": "markdown",
   "id": "036e1cae",
   "metadata": {},
   "source": [
    "### Fixed Effects\n",
    "\n",
    "While Julia may be overkill for estimating a simple linear regression,\n",
    "fixed-effects estimation with dummies for multiple variables are much more computationally intensive.\n",
    "\n",
    "For a 2-way fixed-effect, taking the example directly from the documentation using [cigarette consumption data](https://github.com/johnmyleswhite/RDatasets.jl/blob/master/doc/plm/rst/Cigar.rst)"
   ]
  },
  {
   "cell_type": "code",
   "execution_count": null,
   "id": "33bf6bbe",
   "metadata": {},
   "outputs": [],
   "source": [
    "using FixedEffectModels\n",
    "cigar = dataset(\"plm\", \"Cigar\")\n",
    "cigar.StateCategorical =  categorical(cigar.State)\n",
    "cigar.YearCategorical =  categorical(cigar.Year)\n",
    "fixedeffectresults = reg(cigar, @formula(Sales ~ NDI + fe(StateCategorical) + fe(YearCategorical)),\n",
    "                            weights = :Pop, Vcov.cluster(:State))\n",
    "regtable(fixedeffectresults)"
   ]
  }
 ],
 "metadata": {
  "kernelspec": {
   "display_name": "Julia 1.5.2",
   "language": "julia",
   "name": "julia-1.5"
  }
 },
 "nbformat": 4,
 "nbformat_minor": 5
}
