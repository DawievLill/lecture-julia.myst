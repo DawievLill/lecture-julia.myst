{
 "cells": [
  {
   "cell_type": "markdown",
   "id": "aba5f877",
   "metadata": {},
   "source": [
    "(status)=\n",
    "# Lecture Status\n",
    "\n",
    "```{raw} html\n",
    "<style type=\"text/css\">.lecture-options{display:none;}</style>\n",
    "<p>The badges below show which lectures are currently passing their execution test (i.e., executing without errors).</p>\n",
    "<p>The lecture code checker was last run: <strong id=\"last_test_time\">N/A</strong></p>\n",
    "<div class=\"status-table-container\">\n",
    "    <table id=\"status_table\" class=\"status-table\"></table>\n",
    "</div>\n",
    "<p>The code checker is run on a <code class=\"docutils literal notranslate\"><span class=\"pre\">t2.small</span></code> Amazon EC2 instance. This is an instance with a single CPU and 2 GiB of Memory.</p>\n",
    "<p>You should achieve faster run times on many common laptops and desktops.</p>\n",
    "```"
   ]
  }
 ],
 "metadata": {
  "kernelspec": {
   "display_name": "Julia 1.5.2",
   "language": "julia",
   "name": "julia-1.5"
  }
 },
 "nbformat": 4,
 "nbformat_minor": 5
}
