{
 "cells": [
  {
   "cell_type": "markdown",
   "id": "c2bcae7a",
   "metadata": {},
   "source": [
    "(references)=\n",
    "# References\n",
    "\n",
    "```{bibliography} _static/quant-econ.bib\n",
    "```"
   ]
  }
 ],
 "metadata": {
  "kernelspec": {
   "display_name": "Julia 1.5.2",
   "language": "julia",
   "name": "julia-1.5"
  }
 },
 "nbformat": 4,
 "nbformat_minor": 5
}
