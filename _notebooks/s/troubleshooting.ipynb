{
 "cells": [
  {
   "cell_type": "markdown",
   "id": "2f1b401c",
   "metadata": {},
   "source": [
    "\n",
    "<a id='troubleshooting'></a>"
   ]
  },
  {
   "cell_type": "markdown",
   "id": "49774c5b",
   "metadata": {},
   "source": [
    "# Troubleshooting"
   ]
  },
  {
   "cell_type": "markdown",
   "id": "6f3516d9",
   "metadata": {},
   "source": [
    "## Contents\n",
    "\n",
    "- [Troubleshooting](#Troubleshooting)  \n",
    "  - [Fixing Your Local Environment](#Fixing-Your-Local-Environment)  \n",
    "  - [Upgrading Julia](#Upgrading-Julia)  \n",
    "  - [Fixing Atom](#Fixing-Atom)  \n",
    "  - [Resetting a JupyterHub Lecture Set](#Resetting-a-JupyterHub-Lecture-Set)  \n",
    "  - [Reporting an Issue](#Reporting-an-Issue)  "
   ]
  },
  {
   "cell_type": "markdown",
   "id": "f25672e0",
   "metadata": {},
   "source": [
    "This troubleshooting page is to help ensure you software environment is setup correctly\n",
    "to run this lecture set locally on your machine."
   ]
  },
  {
   "cell_type": "markdown",
   "id": "f0572a68",
   "metadata": {},
   "source": [
    "## Fixing Your Local Environment\n",
    "\n",
    "To set up a standard desktop environment, you can run the instructions in our [local setup lecture](https://julia.quantecon.org/getting_started_julia/getting_started.html#Desktop-Installation-of-Julia-and-Jupyter).\n",
    "\n",
    "If you already have, make sure to try deleting your `.julia` directory (the “user depot,” where packages are stored) and re-running the lectures (after running `] add InstantiateFromURL`!).\n",
    "\n",
    "You can find this directory by running `DEPOT_PATH[1]` in a Julia REPL."
   ]
  },
  {
   "cell_type": "markdown",
   "id": "0091a89a",
   "metadata": {},
   "source": [
    "## Upgrading Julia\n",
    "\n",
    "See the [lecture section](https://julia.quantecon.org/more_julia/tools_editors.html#upgrading-julia) on getting Atom and Jupyter working with a new version."
   ]
  },
  {
   "cell_type": "markdown",
   "id": "f953d504",
   "metadata": {},
   "source": [
    "## Fixing Atom\n",
    "\n",
    "See the [lecture section](https://julia.quantecon.org/more_julia/tools_editors.html#atom-troubleshooting) on troubleshooting Atom."
   ]
  },
  {
   "cell_type": "markdown",
   "id": "5d7f0b0e",
   "metadata": {},
   "source": [
    "## Resetting a JupyterHub Lecture Set\n",
    "\n",
    "The lectures are delivered to JupyterHubs using `nbgitpuller`.\n",
    "\n",
    "To reset a single notebook, simply delete it and click the relevant link again.\n",
    "\n",
    "To reset your whole lecture set, run `rm -rf quantecon-notebooks-julia` in the Terminal (after `cd`-ing to where they’re downloaded, which is usually the root) and click any lecture’s link again."
   ]
  },
  {
   "cell_type": "markdown",
   "id": "c4bfab93",
   "metadata": {},
   "source": [
    "## Reporting an Issue\n",
    "\n",
    "One way to give feedback is to raise an issue through our [issue tracker](https://github.com/QuantEcon/lecture-source-py/issues).\n",
    "\n",
    "Please be as specific as possible.  Tell us where the problem is and as much\n",
    "detail about your local set up as you can provide.\n",
    "\n",
    "Another feedback option is to use our [discourse forum](https://discourse.quantecon.org/).\n",
    "\n",
    "Finally, you can provide direct feedback to [contact@quantecon.org](mailto:contact@quantecon.org)"
   ]
  }
 ],
 "metadata": {
  "date": 1628904822.8152292,
  "filename": "troubleshooting.md",
  "kernelspec": {
   "display_name": "Julia",
   "language": "julia",
   "name": "julia"
  },
  "title": "Troubleshooting"
 },
 "nbformat": 4,
 "nbformat_minor": 5
}