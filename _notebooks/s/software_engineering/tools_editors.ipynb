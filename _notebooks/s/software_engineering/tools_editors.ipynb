{
 "cells": [
  {
   "cell_type": "markdown",
   "id": "1ce3208f",
   "metadata": {},
   "source": [
    "\n",
    "<a id='tools-editors'></a>"
   ]
  },
  {
   "cell_type": "markdown",
   "id": "5a5bdfd6",
   "metadata": {},
   "source": [
    "# Julia Tools and Editors"
   ]
  },
  {
   "cell_type": "markdown",
   "id": "115e5a9b",
   "metadata": {},
   "source": [
    "## Contents\n",
    "\n",
    "- [Julia Tools and Editors](#Julia-Tools-and-Editors)  \n",
    "  - [Preliminary Setup](#Preliminary-Setup)  \n",
    "  - [The REPL](#The-REPL)  \n",
    "  - [Atom](#Atom)  \n",
    "  - [Package Environments](#Package-Environments)  "
   ]
  },
  {
   "cell_type": "markdown",
   "id": "71803093",
   "metadata": {},
   "source": [
    "Co-authored with Arnav Sood\n",
    "\n",
    "While Jupyter notebooks are a great way to get started with the language, eventually you will want to use more powerful tools.\n",
    "\n",
    "We’ll discuss a few of them here, such as\n",
    "\n",
    "- Text editors like Atom, which come with rich Julia support for debugging, documentation, git integration, plotting and inspecting data, and code execution.  \n",
    "- The Julia REPL, which has specialized modes for package management, shell commands, and help.  \n",
    "\n",
    "\n",
    "Note that we assume you’ve already completed the [getting started](https://julia.quantecon.org/../getting_started_julia/getting_started.html) and [interacting with Julia](https://julia.quantecon.org/../getting_started_julia/julia_environment.html) lectures."
   ]
  },
  {
   "cell_type": "markdown",
   "id": "cd4f4332",
   "metadata": {},
   "source": [
    "## Preliminary Setup\n",
    "\n",
    "Follow the instructions for setting up Julia [on your local computer](https://julia.quantecon.org/../getting_started_julia/getting_started.html#jl-jupyterlocal).\n",
    "\n",
    "\n",
    "<a id='repl-main'></a>"
   ]
  },
  {
   "cell_type": "markdown",
   "id": "6e8e7312",
   "metadata": {},
   "source": [
    "## The REPL\n",
    "\n",
    "Previously, we discussed basic use of the Julia REPL (“Read-Evaluate-Print Loop”).\n",
    "\n",
    "Here, we’ll consider some more advanced features."
   ]
  },
  {
   "cell_type": "markdown",
   "id": "dac3fc51",
   "metadata": {},
   "source": [
    "### Shell Mode\n",
    "\n",
    "Hitting `;` brings you into shell mode, which lets you run bash commands (PowerShell on Windows)"
   ]
  },
  {
   "cell_type": "markdown",
   "id": "e0a403cb",
   "metadata": {
    "hide-output": false
   },
   "source": [
    "```julia\n",
    "; pwd\n",
    "```\n"
   ]
  },
  {
   "cell_type": "markdown",
   "id": "6f75911a",
   "metadata": {},
   "source": [
    "You can also use Julia variables from shell mode"
   ]
  },
  {
   "cell_type": "markdown",
   "id": "8123a367",
   "metadata": {
    "hide-output": false
   },
   "source": [
    "```julia\n",
    "x = 2\n",
    "```\n"
   ]
  },
  {
   "cell_type": "markdown",
   "id": "3b546c70",
   "metadata": {
    "hide-output": false
   },
   "source": [
    "```julia\n",
    "; echo $x\n",
    "```\n"
   ]
  },
  {
   "cell_type": "markdown",
   "id": "0b0c697e",
   "metadata": {},
   "source": [
    "### Package Mode\n",
    "\n",
    "Hitting `]` brings you into package mode.\n",
    "\n",
    "- `] add Expectations` will add a package (here, `Expectations.jl`).  \n",
    "- Likewise, `] rm Expectations` will remove that package.  \n",
    "- `] st` will show you a snapshot of what you have installed.  \n",
    "- `] up` will (intelligently) upgrade versions of your packages.  \n",
    "- `] precompile` will precompile everything possible.  \n",
    "- `] build` will execute build scripts for all packages.  \n",
    "- Running `] preview` before a command (i.e., `] preview up`) will display the changes without executing.  \n",
    "\n",
    "\n",
    "You can get a full list of package mode commands by running"
   ]
  },
  {
   "cell_type": "markdown",
   "id": "bbba35c0",
   "metadata": {
    "hide-output": false
   },
   "source": [
    "```julia\n",
    "] ?\n",
    "```\n"
   ]
  },
  {
   "cell_type": "markdown",
   "id": "9173ef55",
   "metadata": {},
   "source": [
    "On some operating systems (such as OSX) REPL pasting may not work for package mode, and you will need to access it in the standard way (i.e., hit `]` first and then run your commands)."
   ]
  },
  {
   "cell_type": "markdown",
   "id": "4acf864d",
   "metadata": {},
   "source": [
    "### Help Mode\n",
    "\n",
    "Hitting `?` will bring you into help mode.\n",
    "\n",
    "The key use case is to find docstrings for functions and macros, e.g."
   ]
  },
  {
   "cell_type": "markdown",
   "id": "539be3cf",
   "metadata": {
    "hide-output": false
   },
   "source": [
    "```julia\n",
    "? print\n",
    "```\n"
   ]
  },
  {
   "cell_type": "markdown",
   "id": "17a2980e",
   "metadata": {},
   "source": [
    "Note that objects must be loaded for Julia to return their documentation, e.g."
   ]
  },
  {
   "cell_type": "markdown",
   "id": "66e9ecf5",
   "metadata": {
    "hide-output": false
   },
   "source": [
    "```julia\n",
    "? @test\n",
    "```\n"
   ]
  },
  {
   "cell_type": "markdown",
   "id": "40209c14",
   "metadata": {},
   "source": [
    "will fail, but"
   ]
  },
  {
   "cell_type": "markdown",
   "id": "e496d94a",
   "metadata": {
    "hide-output": false
   },
   "source": [
    "```julia\n",
    "using Test\n",
    "```\n"
   ]
  },
  {
   "cell_type": "markdown",
   "id": "c8bd27ff",
   "metadata": {
    "hide-output": false
   },
   "source": [
    "```julia\n",
    "? @test\n",
    "```\n"
   ]
  },
  {
   "cell_type": "markdown",
   "id": "b2a54509",
   "metadata": {},
   "source": [
    "will succeed."
   ]
  },
  {
   "cell_type": "markdown",
   "id": "e3556890",
   "metadata": {},
   "source": [
    "## Atom\n",
    "\n",
    "As discussed [previously](https://julia.quantecon.org/../getting_started_julia/getting_started.html), eventually you will want to use a fully fledged text editor.\n",
    "\n",
    "The most feature-rich one for Julia development is [Atom](https://atom.io/), with the [Juno](http://junolab.org/) package.\n",
    "\n",
    "There are several reasons to use a text editor like Atom, including\n",
    "\n",
    "- Git integration (more on this in the [next lecture](https://julia.quantecon.org/version_control.html)).  \n",
    "- Painless inspection of variables and data.  \n",
    "- Easily run code blocks, and drop in custom snippets of code.  \n",
    "- Integration with Julia documentation and plots.  "
   ]
  },
  {
   "cell_type": "markdown",
   "id": "1b231f84",
   "metadata": {},
   "source": [
    "### Installation and Configuration"
   ]
  },
  {
   "cell_type": "markdown",
   "id": "f2105986",
   "metadata": {},
   "source": [
    "#### Installing Atom\n",
    "\n",
    "1. Download and Install Atom from the [Atom website](https://atom.io/).  \n",
    "1. (Optional, but recommended): Change default Atom settings  \n",
    "  - Use `Ctrl-,` to get the `Settings` pane  \n",
    "  - Choose the `Packages` tab  \n",
    "  - Type `line-ending-selector` into the Filter and then click “Settings” for that package  \n",
    "    - Change the default line ending to `LF` (only necessary on Windows)  \n",
    "  - Choose the Editor tab  \n",
    "    - Turn on `Soft Wrap`  \n",
    "    - Set the `Tab Length` default to `4`  "
   ]
  },
  {
   "cell_type": "markdown",
   "id": "2e7ef415",
   "metadata": {},
   "source": [
    "#### Installing Juno\n",
    "\n",
    "1. Use `Ctrl-,` to get the Settings pane.  \n",
    "1. Go to the `Install` tab.  \n",
    "1. Type `uber-juno` into the search box and then click Install on the package that appears.  \n",
    "1. Wait while Juno installs dependencies.  \n",
    "1. When it asks you whether or not to use the standard layout, click `yes`.  \n",
    "\n",
    "\n",
    "At that point, you should see a built-in REPL at the bottom of the screen and be able to start using Julia and Atom.\n",
    "\n",
    "\n",
    "<a id='atom-troubleshooting'></a>"
   ]
  },
  {
   "cell_type": "markdown",
   "id": "e7ec9f07",
   "metadata": {},
   "source": [
    "#### Troubleshooting\n",
    "\n",
    "Sometimes, Juno will fail to find the Julia executable (say, if it’s installed somewhere nonstandard, or you have multiple).\n",
    "\n",
    "To do this\n",
    "\n",
    "1. `Ctrl-,` to get Settings pane, and select the Packages tab.  \n",
    "1. Type in `julia-client` and choose Settings.  \n",
    "1. Find the Julia Path, and fill it in with the location of the Julia binary.  \n",
    "\n",
    "\n",
    "- To find the binary, you could run `Sys.BINDIR` in the REPL, then add in an additional `/julia` to the end of the screen.  \n",
    "- e.g. `C:\\Users\\YOURUSERNAME\\AppData\\Local\\Julia-1.0.1\\bin\\julia.exe` on Windows as `/Applications/Julia-1.0.app/Contents/Resources/julia/bin/julia` on OSX.  \n",
    "\n",
    "\n",
    "See the [setup instructions for Juno](http://docs.junolab.org/latest/man/installation.html)  if you have further issues.\n",
    "\n",
    "If you upgrade Atom and it breaks Juno, run the following in a terminal."
   ]
  },
  {
   "cell_type": "markdown",
   "id": "77a59c21",
   "metadata": {
    "hide-output": false
   },
   "source": [
    "```text\n",
    "apm uninstall ink julia-client\n",
    "apm install ink julia-client\n",
    "```\n"
   ]
  },
  {
   "cell_type": "markdown",
   "id": "d84ffe65",
   "metadata": {},
   "source": [
    "If you aren’t able to install `apm` in your PATH, you can do the above by running the following in PowerShell:"
   ]
  },
  {
   "cell_type": "markdown",
   "id": "91e898a7",
   "metadata": {
    "hide-output": false
   },
   "source": [
    "```text\n",
    "cd $ENV:LOCALAPPDATA/atom/bin\n",
    "```\n"
   ]
  },
  {
   "cell_type": "markdown",
   "id": "2f28ab46",
   "metadata": {},
   "source": [
    "Then navigating to a folder like `C:\\Users\\USERNAME\\AppData\\Local\\atom\\bin` (which will contain the `apm` tool), and running:"
   ]
  },
  {
   "cell_type": "markdown",
   "id": "7c5f55fe",
   "metadata": {
    "hide-output": false
   },
   "source": [
    "```text\n",
    "./apm uninstall ink julia-client\n",
    "./apm install ink julia-client\n",
    "```\n"
   ]
  },
  {
   "cell_type": "markdown",
   "id": "b6674f3f",
   "metadata": {},
   "source": [
    "\n",
    "<a id='upgrading-julia'></a>"
   ]
  },
  {
   "cell_type": "markdown",
   "id": "693c3f55",
   "metadata": {},
   "source": [
    "#### Upgrading Julia\n",
    "\n",
    "To get a new release working with Jupyter, run (in the new version’s REPL)"
   ]
  },
  {
   "cell_type": "markdown",
   "id": "946ceb1e",
   "metadata": {
    "hide-output": false
   },
   "source": [
    "```julia\n",
    "] add IJulia\n",
    "] build IJulia\n",
    "```\n"
   ]
  },
  {
   "cell_type": "markdown",
   "id": "1c2997da",
   "metadata": {},
   "source": [
    "This will install (and build) the `IJulia` kernel.\n",
    "\n",
    "To get it working with Atom, open the command palette and type “Julia Client: Settings.”\n",
    "\n",
    "Then, in the box labelled “Julia Path,” enter the path to yor Julia executabe.\n",
    "\n",
    "You can find the folder by running `Sys.BINDIR` in a new REPL, and then add the `/julia` at the end to give the exact path.\n",
    "\n",
    "For example:\n",
    "\n",
    "![https://julia.quantecon.org/_static/figures/julia-path.png](https://julia.quantecon.org/_static/figures/julia-path.png)"
   ]
  },
  {
   "cell_type": "markdown",
   "id": "327b3d4a",
   "metadata": {},
   "source": [
    "### Standard Layout\n",
    "\n",
    "If you follow the instructions, you should see something like this when you open a new file.\n",
    "\n",
    "If you don’t, simply go to the command palette and type “Julia standard layout”\n",
    "\n",
    "![https://julia.quantecon.org/_static/figures/juno-standard-layout.png](https://julia.quantecon.org/_static/figures/juno-standard-layout.png)\n",
    "\n",
    "  \n",
    "The bottom pane is a standard REPL, which supports the different modes above.\n",
    "\n",
    "The “workspace” pane is a snapshot of currently-defined objects.\n",
    "\n",
    "For example, if we define an object in the REPL"
   ]
  },
  {
   "cell_type": "markdown",
   "id": "3b80cb0f",
   "metadata": {
    "hide-output": false
   },
   "source": [
    "```julia\n",
    "x = 2\n",
    "```\n"
   ]
  },
  {
   "cell_type": "markdown",
   "id": "918da338",
   "metadata": {},
   "source": [
    "Our workspace should read\n",
    "\n",
    "![https://julia.quantecon.org/_static/figures/juno-workspace-1.png](https://julia.quantecon.org/_static/figures/juno-workspace-1.png)\n",
    "\n",
    "  \n",
    "The `ans` variable simply captures the result of the last computation.\n",
    "\n",
    "The `Documentation` pane simply lets us query Julia documentation\n",
    "\n",
    "![https://julia.quantecon.org/_static/figures/juno-docs.png](https://julia.quantecon.org/_static/figures/juno-docs.png)\n",
    "\n",
    "  \n",
    "The `Plots` pane captures Julia plots output (the code is as follows)"
   ]
  },
  {
   "cell_type": "markdown",
   "id": "4ff41411",
   "metadata": {
    "hide-output": false
   },
   "source": [
    "```julia\n",
    "using Plots\n",
    "gr(fmt = :png);\n",
    "data = rand(10, 10)\n",
    "h = heatmap(data)\n",
    "```\n"
   ]
  },
  {
   "cell_type": "markdown",
   "id": "125d5960",
   "metadata": {},
   "source": [
    "![https://julia.quantecon.org/_static/figures/juno-plots.png](https://julia.quantecon.org/_static/figures/juno-plots.png)\n",
    "\n",
    "  \n",
    "**Note:** The plots feature is not perfectly reliable across all plotting backends, see [the Basic Usage](http://docs.junolab.org/latest/man/basic_usage.html) page."
   ]
  },
  {
   "cell_type": "markdown",
   "id": "aaddbb79",
   "metadata": {},
   "source": [
    "### Other Features\n",
    "\n",
    "- `Shift + Enter` will evaluate a highlighted selection or line (as above).  \n",
    "- The run symbol in the left sidebar (or `Ctrl+Shift+Enter`) will run the whole file.  \n",
    "\n",
    "\n",
    "See [basic usage](http://docs.junolab.org/latest/man/basic_usage.html) for an exploration of features, and  the [FAQ](http://docs.junolab.org/latest/man/faq.html) for more advanced steps.\n",
    "\n",
    "\n",
    "<a id='jl-packages'></a>"
   ]
  },
  {
   "cell_type": "markdown",
   "id": "a87d3f00",
   "metadata": {},
   "source": [
    "## Package Environments\n",
    "\n",
    "Julia’s package manager lets you set up Python-style “virtualenvs,” or subsets of packages that draw from an underlying pool of assets on the machine.\n",
    "\n",
    "This way, you can work with (and specify) the dependencies (i.e., required packages) for one project without worrying about impacts on other projects.\n",
    "\n",
    "- An `environment` is a set of packages specified by a `Project.toml` (and optionally, a `Manifest.toml`).  \n",
    "- A `registry` is a git repository corresponding to a list of (typically) registered packages, from which Julia can pull (for more on git repositories, see [version control](https://julia.quantecon.org/version_control.html)).  \n",
    "- A `depot` is a directory, like `~/.julia`, which contains assets (compile caches, registries, package source directories, etc.).  \n",
    "\n",
    "\n",
    "Essentially, an environment is a dependency tree for a project, or a “frame of mind” for Julia’s package manager.\n",
    "\n",
    "- We can see the default (`v1.1`) environment as such  "
   ]
  },
  {
   "cell_type": "markdown",
   "id": "be9b4f9f",
   "metadata": {
    "hide-output": false
   },
   "source": [
    "```julia\n",
    "] st\n",
    "```\n"
   ]
  },
  {
   "cell_type": "markdown",
   "id": "83e876ed",
   "metadata": {},
   "source": [
    "- We can also create and activate a new environment  "
   ]
  },
  {
   "cell_type": "markdown",
   "id": "20cdf0b5",
   "metadata": {
    "hide-output": false
   },
   "source": [
    "```julia\n",
    "] generate ExampleEnvironment\n",
    "```\n"
   ]
  },
  {
   "cell_type": "markdown",
   "id": "68e9920a",
   "metadata": {},
   "source": [
    "- And go to it  "
   ]
  },
  {
   "cell_type": "markdown",
   "id": "d59b3255",
   "metadata": {
    "hide-output": false
   },
   "source": [
    "```julia\n",
    "; cd ExampleEnvironment\n",
    "```\n"
   ]
  },
  {
   "cell_type": "markdown",
   "id": "36767b6d",
   "metadata": {},
   "source": [
    "- To activate the directory, simply  "
   ]
  },
  {
   "cell_type": "markdown",
   "id": "dad01f83",
   "metadata": {
    "hide-output": false
   },
   "source": [
    "```julia\n",
    "] activate .\n",
    "```\n"
   ]
  },
  {
   "cell_type": "markdown",
   "id": "1a9a5cd7",
   "metadata": {},
   "source": [
    "where “.” stands in for the “present working directory”.\n",
    "\n",
    "- Let’s make some changes to this  "
   ]
  },
  {
   "cell_type": "markdown",
   "id": "68cea484",
   "metadata": {
    "hide-output": false
   },
   "source": [
    "```julia\n",
    "] add Expectations Parameters\n",
    "```\n"
   ]
  },
  {
   "cell_type": "markdown",
   "id": "1a0ebba0",
   "metadata": {},
   "source": [
    "Note the lack of commas\n",
    "\n",
    "- To see the changes, simply open the `ExampleEnvironment` directory in an editor like Atom.  \n",
    "\n",
    "\n",
    "The Project TOML should look something like this"
   ]
  },
  {
   "cell_type": "markdown",
   "id": "00b803c1",
   "metadata": {
    "hide-output": false
   },
   "source": [
    "```text\n",
    "name = \"ExampleEnvironment\"\n",
    "uuid = \"14d3e79e-e2e5-11e8-28b9-19823016c34c\"\n",
    "authors = [\"QuantEcon User <quanteconuser@gmail.com>\"]\n",
    "version = \"0.1.0\"\n",
    "\n",
    "[deps]\n",
    "Expectations = \"2fe49d83-0758-5602-8f54-1f90ad0d522b\"\n",
    "Parameters = \"d96e819e-fc66-5662-9728-84c9c7592b0a\"\n",
    "```\n"
   ]
  },
  {
   "cell_type": "markdown",
   "id": "169d7c29",
   "metadata": {},
   "source": [
    "We can also"
   ]
  },
  {
   "cell_type": "markdown",
   "id": "c0dade72",
   "metadata": {
    "hide-output": false
   },
   "source": [
    "```julia\n",
    "] precompile\n",
    "```\n"
   ]
  },
  {
   "cell_type": "markdown",
   "id": "2526dda7",
   "metadata": {},
   "source": [
    "**Note** The TOML files are independent of the actual assets (which live in `~/.julia/packages`, `~/.julia/dev`, and `~/.julia/compiled`).\n",
    "\n",
    "You can think of the TOML as specifying demands for resources, which are supplied by the `~/.julia` user depot.\n",
    "\n",
    "- To return to the default Julia environment, simply  "
   ]
  },
  {
   "cell_type": "markdown",
   "id": "68b71e81",
   "metadata": {
    "hide-output": false
   },
   "source": [
    "```julia\n",
    "] activate\n",
    "```\n"
   ]
  },
  {
   "cell_type": "markdown",
   "id": "78218112",
   "metadata": {},
   "source": [
    "without any arguments.\n",
    "\n",
    "- Lastly, let’s clean up  "
   ]
  },
  {
   "cell_type": "markdown",
   "id": "41c3e1e8",
   "metadata": {
    "hide-output": false
   },
   "source": [
    "```julia\n",
    "; cd ..\n",
    "```\n"
   ]
  },
  {
   "cell_type": "markdown",
   "id": "b1021ac6",
   "metadata": {
    "hide-output": false
   },
   "source": [
    "```julia\n",
    "; rm -rf ExampleEnvironment\n",
    "```\n"
   ]
  },
  {
   "cell_type": "markdown",
   "id": "a0ff325f",
   "metadata": {},
   "source": [
    "### InstantiateFromURL\n",
    "\n",
    "With this knowledge, we can explain the operation of the setup block\n",
    "\n",
    "What this `github_project` function does is activate (and if necessary, download, instantiate and precompile) a particular Julia environment."
   ]
  }
 ],
 "metadata": {
  "date": 1629257175.3469589,
  "filename": "tools_editors.md",
  "kernelspec": {
   "display_name": "Julia",
   "language": "julia",
   "name": "julia"
  },
  "title": "Julia Tools and Editors"
 },
 "nbformat": 4,
 "nbformat_minor": 5
}