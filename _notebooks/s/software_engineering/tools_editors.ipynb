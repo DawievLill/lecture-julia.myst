{
 "cells": [
  {
   "cell_type": "markdown",
   "id": "1b5230bc",
   "metadata": {},
   "source": [
    "\n",
    "<a id='tools-editors'></a>"
   ]
  },
  {
   "cell_type": "markdown",
   "id": "fc0dcef6",
   "metadata": {},
   "source": [
    "# Visual Studio Code and other Julia Tools"
   ]
  },
  {
   "cell_type": "markdown",
   "id": "2ae3bca3",
   "metadata": {},
   "source": [
    "## Contents\n",
    "\n",
    "- [Visual Studio Code and other Julia Tools](#Visual-Studio-Code-and-other-Julia-Tools)  \n",
    "  - [Installing VS Code](#Installing-VS-Code)  \n",
    "  - [The REPL](#The-REPL)  \n",
    "  - [Atom](#Atom)  \n",
    "  - [Package Environments](#Package-Environments)  "
   ]
  },
  {
   "cell_type": "markdown",
   "id": "4c00c9ff",
   "metadata": {},
   "source": [
    "While Jupyter notebooks are a great way to get started with the language, eventually you will want to use more powerful tools.  Visual Studio Code (VS Code) in particular, is the most popular open source editor for programming, and has a huge set of extensions and strong industry support.\n",
    "\n",
    "While you can use source code control, run terminals/REPLs, without VS Code, we will concentrate on using it as a full IDE for all of these features."
   ]
  },
  {
   "cell_type": "markdown",
   "id": "28a1b84c",
   "metadata": {},
   "source": [
    "## Installing VS Code\n",
    "\n",
    "To install VS Code and the Julia Extension,\n",
    "\n",
    "1. Follow the instructions for setting up Julia [on your local computer](https://julia.quantecon.org/../getting_started_julia/getting_started.html#jl-jupyterlocal).  \n",
    "1. Install [VS Code](https://code.visualstudio.com/) for your platform and open it  \n",
    "1. Install the [VS Code Julia](https://marketplace.visualstudio.com/items?itemName=julialang.language-julia) extension  \n",
    "  - After installation of VS Code, you should be able to choose `Install` on the webpage of any extensions and it will open on your desktop.  \n",
    "  - Otherwise, open the extensions with `<Ctrl-Shift-X>` or selecting extensions in the left-hand side of the VS Code window.  Then search for `Julia` in the Marketplace  \n",
    "\n",
    "\n",
    "See the [Julia VS Code Documentation](https://www.julia-vscode.org/docs/dev/gettingstarted/#Installation-and-Configuration-1) for more details.\n",
    "\n",
    "If you have done a typical Julia installation, then this may be all that is needed and no configuration may be necessary.  However, if you have installed Julia in a non-standard location you may need to manually set the executable path.  See [here](https://www.julia-vscode.org/docs/dev/gettingstarted/#Configuring-the-Julia-extension-1) for instructions if it errors when starting Julia terminals."
   ]
  },
  {
   "cell_type": "markdown",
   "id": "f78ff077",
   "metadata": {},
   "source": [
    "### Optional Extensions\n",
    "\n",
    "While not required for these lectures, consider installing the following extensions.  As before, you can search for them on the Marketplace or choose `Install` from the webpages themselves.\n",
    "\n",
    "1. [Jupyter](https://marketplace.visualstudio.com/items?itemName=ms-toolsai.jupyter): VS Code increasingly supports Jupyter notebooks directly, and this extension provides the ability to open and edit `.ipynb` notebook files wihtout running `jupyter lab`, etc.  \n",
    "1. [GitLens](https://marketplace.visualstudio.com/items?itemName=eamodio.gitlens): An extension that provides an enormous amount of detail on exact code changes within github repositories (e.g., seamless information on the time and individual who [last modified](https://marketplace.visualstudio.com/items?itemName=eamodio.gitlens#current-line-blame-) each line of code)  \n",
    "1. [GitHub Pull Requests and Issues](https://marketplace.visualstudio.com/items?itemName=GitHub.vscode-pull-request-github): while VS Code supports the git [version control](https://julia.quantecon.org/version_control.html) natively, these extension provides additional features for working with repositories on GitHub itself.  \n",
    "1. [Markdown All in One](https://marketplace.visualstudio.com/items?itemName=yzhang.markdown-all-in-one): For editing the markdown format, such as `README.md` and similar files.  \n",
    "1. Finally, VS Code is an excellent latex editor.  To install support,  \n",
    "  - Install a recent version of miktex or texlive for your platform  \n",
    "  - Install [LaTeX Workshop](https://marketplace.visualstudio.com/items?itemName=James-Yu.latex-workshop)  \n",
    "  - Optionally install [Code Spell Checker](https://marketplace.visualstudio.com/items?itemName=streetsidesoftware.code-spell-checker) for spell checking  \n",
    "  - See [documentation](https://github.com/James-Yu/LaTeX-Workshop#manual). The easiest use is to put the magic comment `!TEX program = pdflatex` at the top of a `.tex` file.  \n",
    "  - \n",
    "\n",
    "See the [VS Code documentation](https://code.visualstudio.com/docs/getstarted/userinterface) for an introduction.\n",
    "\n",
    "A key feature is the [Command Palette](https://code.visualstudio.com/docs/getstarted/userinterface#_command-palette), which can be accessed with `<Ctrl+Shift+P>`.\n",
    "\n",
    "![[/https://julia.quantecon.org/_static/figures/juno-standard-layout.png](https://code.visualstudio.com/assets/docs/getstarted/userinterface/commands.png)]([/https://julia.quantecon.org/_static/figures/juno-standard-layout.png](https://code.visualstudio.com/assets/docs/getstarted/userinterface/commands.png))\n",
    "\n",
    "  \n",
    "With this, you can type partial strings for different commands and it helps you to find features of vscode and its extensions.  This is so common that in these notes we\n",
    "denote opening the command palette and searching for a command with things like `> Julia: Start REPL` , etc.  You will only need to type part of the string, and the command palette remembers\n",
    "your most commonly used"
   ]
  },
  {
   "cell_type": "markdown",
   "id": "f4a3df4f",
   "metadata": {},
   "source": [
    "### Optional Extensions and Settings\n",
    "\n",
    "Open the settings, either with `> Preferences: User Settings` (recall this can be found with the palette and `<Ctrl-Shift-P>`) or with the menu.\n",
    "\n",
    "As a few optional suggestions for working with the settings,\n",
    "\n",
    "- In the settings, search for `Tab Size` and you should find `Editor: Tab Size` which you can modify to 4.  \n",
    "- Search for `quick open` and change `Workbench > Editor: Enable Preview from Quick Open` and consider setting it to false, though this is a matter of personal taste.  \n",
    "- Finally, if you are on Windows, search for `eol` and change `Files: Eol` to be `\\n`.  \n",
    "\n",
    "\n",
    "\n",
    "<a id='repl-main'></a>"
   ]
  },
  {
   "cell_type": "markdown",
   "id": "121b802b",
   "metadata": {},
   "source": [
    "## The REPL\n",
    "\n",
    "Previously, we discussed basic use of the Julia REPL (“Read-Evaluate-Print Loop”).\n",
    "\n",
    "Here, we’ll consider some more advanced features."
   ]
  },
  {
   "cell_type": "markdown",
   "id": "8bc915d1",
   "metadata": {},
   "source": [
    "### Shell Mode\n",
    "\n",
    "Hitting `;` brings you into shell mode, which lets you run bash commands (PowerShell on Windows)"
   ]
  },
  {
   "cell_type": "code",
   "execution_count": null,
   "id": "f83f0026",
   "metadata": {
    "hide-output": false
   },
   "outputs": [],
   "source": [
    "; pwd"
   ]
  },
  {
   "cell_type": "markdown",
   "id": "6323f83f",
   "metadata": {},
   "source": [
    "You can also use Julia variables from shell mode"
   ]
  },
  {
   "cell_type": "code",
   "execution_count": null,
   "id": "02d40b76",
   "metadata": {
    "hide-output": false
   },
   "outputs": [],
   "source": [
    "x = 2"
   ]
  },
  {
   "cell_type": "code",
   "execution_count": null,
   "id": "86df5460",
   "metadata": {
    "hide-output": false
   },
   "outputs": [],
   "source": [
    "; echo $x"
   ]
  },
  {
   "cell_type": "markdown",
   "id": "c347105d",
   "metadata": {},
   "source": [
    "### Package Mode\n",
    "\n",
    "Hitting `]` brings you into package mode.\n",
    "\n",
    "- `] add Expectations` will add a package (here, `Expectations.jl`).  \n",
    "- Likewise, `] rm Expectations` will remove that package.  \n",
    "- `] st` will show you a snapshot of what you have installed.  \n",
    "- `] up` will (intelligently) upgrade versions of your packages.  \n",
    "- `] precompile` will precompile everything possible.  \n",
    "- `] build` will execute build scripts for all packages.  \n",
    "- Running `] preview` before a command (i.e., `] preview up`) will display the changes without executing.  \n",
    "\n",
    "\n",
    "You can get a full list of package mode commands by running"
   ]
  },
  {
   "cell_type": "code",
   "execution_count": null,
   "id": "bba5f60d",
   "metadata": {
    "hide-output": false
   },
   "outputs": [],
   "source": [
    "] ?"
   ]
  },
  {
   "cell_type": "markdown",
   "id": "a539c5a5",
   "metadata": {},
   "source": [
    "On some operating systems (such as OSX) REPL pasting may not work for package mode, and you will need to access it in the standard way (i.e., hit `]` first and then run your commands)."
   ]
  },
  {
   "cell_type": "markdown",
   "id": "fb4daa2b",
   "metadata": {},
   "source": [
    "### Help Mode\n",
    "\n",
    "Hitting `?` will bring you into help mode.\n",
    "\n",
    "The key use case is to find docstrings for functions and macros, e.g."
   ]
  },
  {
   "cell_type": "code",
   "execution_count": null,
   "id": "105dc951",
   "metadata": {
    "hide-output": false
   },
   "outputs": [],
   "source": [
    "? print"
   ]
  },
  {
   "cell_type": "markdown",
   "id": "8529d682",
   "metadata": {},
   "source": [
    "Note that objects must be loaded for Julia to return their documentation, e.g."
   ]
  },
  {
   "cell_type": "code",
   "execution_count": null,
   "id": "297c38a3",
   "metadata": {
    "hide-output": false
   },
   "outputs": [],
   "source": [
    "? @test"
   ]
  },
  {
   "cell_type": "markdown",
   "id": "d759f0b4",
   "metadata": {},
   "source": [
    "will fail, but"
   ]
  },
  {
   "cell_type": "code",
   "execution_count": null,
   "id": "83189ec4",
   "metadata": {
    "hide-output": false
   },
   "outputs": [],
   "source": [
    "using Test"
   ]
  },
  {
   "cell_type": "code",
   "execution_count": null,
   "id": "69e02b15",
   "metadata": {
    "hide-output": false
   },
   "outputs": [],
   "source": [
    "? @test"
   ]
  },
  {
   "cell_type": "markdown",
   "id": "81c5479f",
   "metadata": {},
   "source": [
    "will succeed."
   ]
  },
  {
   "cell_type": "markdown",
   "id": "3f39d443",
   "metadata": {},
   "source": [
    "## Atom\n",
    "\n",
    "As discussed [previously](https://julia.quantecon.org/../getting_started_julia/getting_started.html), eventually you will want to use a fully fledged text editor.\n",
    "\n",
    "The most feature-rich one for Julia development is [Atom](https://atom.io/), with the [Juno](http://junolab.org/) package.\n",
    "\n",
    "There are several reasons to use a text editor like Atom, including\n",
    "\n",
    "\n",
    "<a id='upgrading-julia'></a>"
   ]
  },
  {
   "cell_type": "markdown",
   "id": "bf9ed058",
   "metadata": {},
   "source": [
    "### Upgrading Julia\n",
    "\n",
    "To get a new release working with Jupyter, run (in the new version’s REPL)"
   ]
  },
  {
   "cell_type": "code",
   "execution_count": null,
   "id": "9c20ab61",
   "metadata": {
    "hide-output": false
   },
   "outputs": [],
   "source": [
    "] add IJulia\n",
    "] build IJulia"
   ]
  },
  {
   "cell_type": "markdown",
   "id": "141e6adb",
   "metadata": {},
   "source": [
    "This will install (and build) the `IJulia` kernel.\n",
    "\n",
    "To get it working with Atom, open the command palette and type “Julia Client: Settings.”\n",
    "\n",
    "Then, in the box labelled “Julia Path,” enter the path to yor Julia executabe.\n",
    "\n",
    "You can find the folder by running `Sys.BINDIR` in a new REPL, and then add the `/julia` at the end to give the exact path.\n",
    "\n",
    "For example:\n",
    "\n",
    "![https://julia.quantecon.org/_static/figures/julia-path.png](https://julia.quantecon.org/_static/figures/julia-path.png)"
   ]
  },
  {
   "cell_type": "markdown",
   "id": "f71115e7",
   "metadata": {},
   "source": [
    "### Standard Layout\n",
    "\n",
    "If you follow the instructions, you should see something like this when you open a new file.\n",
    "\n",
    "If you don’t, simply go to the command palette and type “Julia standard layout”\n",
    "\n",
    "![https://julia.quantecon.org/_static/figures/juno-standard-layout.png](https://julia.quantecon.org/_static/figures/juno-standard-layout.png)\n",
    "\n",
    "  \n",
    "The bottom pane is a standard REPL, which supports the different modes above.\n",
    "\n",
    "The “workspace” pane is a snapshot of currently-defined objects.\n",
    "\n",
    "For example, if we define an object in the REPL"
   ]
  },
  {
   "cell_type": "code",
   "execution_count": null,
   "id": "e847f219",
   "metadata": {
    "hide-output": false
   },
   "outputs": [],
   "source": [
    "x = 2"
   ]
  },
  {
   "cell_type": "markdown",
   "id": "9219a39f",
   "metadata": {},
   "source": [
    "Our workspace should read\n",
    "\n",
    "![https://julia.quantecon.org/_static/figures/juno-workspace-1.png](https://julia.quantecon.org/_static/figures/juno-workspace-1.png)\n",
    "\n",
    "  \n",
    "The `ans` variable simply captures the result of the last computation.\n",
    "\n",
    "The `Documentation` pane simply lets us query Julia documentation\n",
    "\n",
    "![https://julia.quantecon.org/_static/figures/juno-docs.png](https://julia.quantecon.org/_static/figures/juno-docs.png)\n",
    "\n",
    "  \n",
    "The `Plots` pane captures Julia plots output (the code is as follows)"
   ]
  },
  {
   "cell_type": "code",
   "execution_count": null,
   "id": "f07854f3",
   "metadata": {
    "hide-output": false
   },
   "outputs": [],
   "source": [
    "using Plots\n",
    "gr(fmt = :png);\n",
    "data = rand(10, 10)\n",
    "h = heatmap(data)"
   ]
  },
  {
   "cell_type": "markdown",
   "id": "2e3fd508",
   "metadata": {},
   "source": [
    "![https://julia.quantecon.org/_static/figures/juno-plots.png](https://julia.quantecon.org/_static/figures/juno-plots.png)\n",
    "\n",
    "  \n",
    "**Note:** The plots feature is not perfectly reliable across all plotting backends, see [the Basic Usage](http://docs.junolab.org/latest/man/basic_usage.html) page."
   ]
  },
  {
   "cell_type": "markdown",
   "id": "efaad27e",
   "metadata": {},
   "source": [
    "### Other Features\n",
    "\n",
    "- `Shift + Enter` will evaluate a highlighted selection or line (as above).  \n",
    "- The run symbol in the left sidebar (or `Ctrl+Shift+Enter`) will run the whole file.  \n",
    "\n",
    "\n",
    "See [basic usage](http://docs.junolab.org/latest/man/basic_usage.html) for an exploration of features, and  the [FAQ](http://docs.junolab.org/latest/man/faq.html) for more advanced steps.\n",
    "\n",
    "\n",
    "<a id='jl-packages'></a>"
   ]
  },
  {
   "cell_type": "markdown",
   "id": "abf27a50",
   "metadata": {},
   "source": [
    "## Package Environments\n",
    "\n",
    "Julia’s package manager lets you set up Python-style “virtualenvs,” or subsets of packages that draw from an underlying pool of assets on the machine.\n",
    "\n",
    "This way, you can work with (and specify) the dependencies (i.e., required packages) for one project without worrying about impacts on other projects.\n",
    "\n",
    "- An `environment` is a set of packages specified by a `Project.toml` (and optionally, a `Manifest.toml`).  \n",
    "- A `registry` is a git repository corresponding to a list of (typically) registered packages, from which Julia can pull (for more on git repositories, see [version control](https://julia.quantecon.org/version_control.html)).  \n",
    "- A `depot` is a directory, like `~/.julia`, which contains assets (compile caches, registries, package source directories, etc.).  \n",
    "\n",
    "\n",
    "Essentially, an environment is a dependency tree for a project, or a “frame of mind” for Julia’s package manager.\n",
    "\n",
    "- We can see the default (`v1.1`) environment as such  "
   ]
  },
  {
   "cell_type": "code",
   "execution_count": null,
   "id": "b211e4cc",
   "metadata": {
    "hide-output": false
   },
   "outputs": [],
   "source": [
    "] st"
   ]
  },
  {
   "cell_type": "markdown",
   "id": "5100a1e9",
   "metadata": {},
   "source": [
    "- We can also create and activate a new environment  "
   ]
  },
  {
   "cell_type": "code",
   "execution_count": null,
   "id": "cb0fe4c1",
   "metadata": {
    "hide-output": false
   },
   "outputs": [],
   "source": [
    "] generate ExampleEnvironment"
   ]
  },
  {
   "cell_type": "markdown",
   "id": "4ffa5df0",
   "metadata": {},
   "source": [
    "- And go to it  "
   ]
  },
  {
   "cell_type": "code",
   "execution_count": null,
   "id": "00b0b83e",
   "metadata": {
    "hide-output": false
   },
   "outputs": [],
   "source": [
    "; cd ExampleEnvironment"
   ]
  },
  {
   "cell_type": "markdown",
   "id": "c5f66eae",
   "metadata": {},
   "source": [
    "- To activate the directory, simply  "
   ]
  },
  {
   "cell_type": "code",
   "execution_count": null,
   "id": "3de8221d",
   "metadata": {
    "hide-output": false
   },
   "outputs": [],
   "source": [
    "] activate ."
   ]
  },
  {
   "cell_type": "markdown",
   "id": "dd072dd7",
   "metadata": {},
   "source": [
    "where “.” stands in for the “present working directory”.\n",
    "\n",
    "- Let’s make some changes to this  "
   ]
  },
  {
   "cell_type": "code",
   "execution_count": null,
   "id": "e53d53e8",
   "metadata": {
    "hide-output": false
   },
   "outputs": [],
   "source": [
    "] add Expectations Parameters"
   ]
  },
  {
   "cell_type": "markdown",
   "id": "0d8186d4",
   "metadata": {},
   "source": [
    "Note the lack of commas\n",
    "\n",
    "- To see the changes, simply open the `ExampleEnvironment` directory in an editor like Atom.  \n",
    "\n",
    "\n",
    "The Project TOML should look something like this"
   ]
  },
  {
   "cell_type": "markdown",
   "id": "69c8b70b",
   "metadata": {
    "hide-output": false
   },
   "source": [
    "```text\n",
    "name = \"ExampleEnvironment\"\n",
    "uuid = \"14d3e79e-e2e5-11e8-28b9-19823016c34c\"\n",
    "authors = [\"QuantEcon User <quanteconuser@gmail.com>\"]\n",
    "version = \"0.1.0\"\n",
    "\n",
    "[deps]\n",
    "Expectations = \"2fe49d83-0758-5602-8f54-1f90ad0d522b\"\n",
    "Parameters = \"d96e819e-fc66-5662-9728-84c9c7592b0a\"\n",
    "```\n"
   ]
  },
  {
   "cell_type": "markdown",
   "id": "2ec93a27",
   "metadata": {},
   "source": [
    "We can also"
   ]
  },
  {
   "cell_type": "code",
   "execution_count": null,
   "id": "e45b1446",
   "metadata": {
    "hide-output": false
   },
   "outputs": [],
   "source": [
    "] precompile"
   ]
  },
  {
   "cell_type": "markdown",
   "id": "79d5d0ca",
   "metadata": {},
   "source": [
    "**Note** The TOML files are independent of the actual assets (which live in `~/.julia/packages`, `~/.julia/dev`, and `~/.julia/compiled`).\n",
    "\n",
    "You can think of the TOML as specifying demands for resources, which are supplied by the `~/.julia` user depot.\n",
    "\n",
    "- To return to the default Julia environment, simply  "
   ]
  },
  {
   "cell_type": "code",
   "execution_count": null,
   "id": "057e016c",
   "metadata": {
    "hide-output": false
   },
   "outputs": [],
   "source": [
    "] activate"
   ]
  },
  {
   "cell_type": "markdown",
   "id": "74d7c1a2",
   "metadata": {},
   "source": [
    "without any arguments.\n",
    "\n",
    "- Lastly, let’s clean up  "
   ]
  },
  {
   "cell_type": "code",
   "execution_count": null,
   "id": "0d247c23",
   "metadata": {
    "hide-output": false
   },
   "outputs": [],
   "source": [
    "; cd .."
   ]
  },
  {
   "cell_type": "code",
   "execution_count": null,
   "id": "ae892ab9",
   "metadata": {
    "hide-output": false
   },
   "outputs": [],
   "source": [
    "; rm -rf ExampleEnvironment"
   ]
  },
  {
   "cell_type": "markdown",
   "id": "4e37cacc",
   "metadata": {},
   "source": [
    "### InstantiateFromURL\n",
    "\n",
    "With this knowledge, we can explain the operation of the setup block\n",
    "\n",
    "What this `github_project` function does is activate (and if necessary, download, instantiate and precompile) a particular Julia environment."
   ]
  }
 ],
 "metadata": {
  "date": 1629855405.821203,
  "filename": "tools_editors.md",
  "kernelspec": {
   "display_name": "Julia",
   "language": "julia",
   "name": "julia-1.6"
  },
  "title": "Visual Studio Code and other Julia Tools"
 },
 "nbformat": 4,
 "nbformat_minor": 5
}