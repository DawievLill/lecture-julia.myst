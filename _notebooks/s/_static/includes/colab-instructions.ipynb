{
 "cells": [
  {
   "cell_type": "markdown",
   "id": "eeb43326",
   "metadata": {},
   "source": [
    "# Colab Instructions\n",
    "\n",
    "Colab does not have direct Julia support, and it must be installed each time you are working on a notebook.\n",
    "\n",
    "Instructions:\n",
    "\n",
    "1. Ignore any errors about a missing kernel when loading the notebook.  Choose `Run Anyway` when it prompts that the notebook wasn’t authored by google.  \n",
    "1. Run the cell below this with `Shift+Enter`.  \n",
    "  - It will **5 to 8 minutes** the first time you run it for Julia and key packages to install  \n",
    "1. Refresh your browser, and then execute any code as normal.  \n",
    "\n",
    "\n",
    "- Even after installation, there will be more precompiling latency for some packages.  "
   ]
  }
 ],
 "metadata": {
  "date": 1629257169.9012895,
  "filename": "colab-instructions.md",
  "kernelspec": {
   "display_name": "Julia",
   "language": "julia",
   "name": "julia"
  },
  "title": "Colab Instructions"
 },
 "nbformat": 4,
 "nbformat_minor": 5
}