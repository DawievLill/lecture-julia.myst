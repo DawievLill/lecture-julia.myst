{
 "cells": [
  {
   "cell_type": "markdown",
   "id": "1b34f11b",
   "metadata": {},
   "source": [
    "\n",
    "<a id='status'></a>"
   ]
  },
  {
   "cell_type": "markdown",
   "id": "def70ff3",
   "metadata": {},
   "source": [
    "# Lecture Status"
   ]
  }
 ],
 "metadata": {
  "date": 1629091993.390901,
  "filename": "status.md",
  "kernelspec": {
   "display_name": "Julia",
   "language": "julia",
   "name": "julia"
  },
  "title": "Lecture Status"
 },
 "nbformat": 4,
 "nbformat_minor": 5
}