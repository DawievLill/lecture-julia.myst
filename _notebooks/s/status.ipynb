{
 "cells": [
  {
   "cell_type": "markdown",
   "id": "61d0b69b",
   "metadata": {},
   "source": [
    "\n",
    "<a id='status'></a>"
   ]
  },
  {
   "cell_type": "markdown",
   "id": "b223cc8c",
   "metadata": {},
   "source": [
    "# Lecture Status"
   ]
  }
 ],
 "metadata": {
  "date": 1628904820.4779794,
  "filename": "status.md",
  "kernelspec": {
   "display_name": "Julia",
   "language": "julia",
   "name": "julia"
  },
  "title": "Lecture Status"
 },
 "nbformat": 4,
 "nbformat_minor": 5
}