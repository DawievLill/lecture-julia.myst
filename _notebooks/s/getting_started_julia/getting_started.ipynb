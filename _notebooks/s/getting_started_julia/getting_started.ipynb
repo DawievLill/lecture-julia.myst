{
 "cells": [
  {
   "cell_type": "markdown",
   "id": "cb08e713",
   "metadata": {},
   "source": [
    "\n",
    "<a id='getting-started'></a>"
   ]
  },
  {
   "cell_type": "markdown",
   "id": "bbc8f9dd",
   "metadata": {},
   "source": [
    "# Setting up Your Julia Environment"
   ]
  },
  {
   "cell_type": "markdown",
   "id": "693066f1",
   "metadata": {},
   "source": [
    "## Contents\n",
    "\n",
    "- [Setting up Your Julia Environment](#Setting-up-Your-Julia-Environment)  \n",
    "  - [Overview](#Overview)  \n",
    "  - [A Note on Jupyter](#A-Note-on-Jupyter)  \n",
    "  - [Desktop Installation of Julia and Jupyter](#Desktop-Installation-of-Julia-and-Jupyter)  \n",
    "  - [Using Julia on the Web](#Using-Julia-on-the-Web)  \n",
    "  - [Installing Packages](#Installing-Packages)  "
   ]
  },
  {
   "cell_type": "markdown",
   "id": "e1d5a598",
   "metadata": {},
   "source": [
    "## Overview\n",
    "\n",
    "In this lecture we will cover how to get up and running with Julia.\n",
    "\n",
    "There are a few different options for using Julia, including a [local desktop installation](#jl-jupyterlocal) and [Jupyter hosted on the web](#jl-jupyterhub).\n",
    "\n",
    "If you have access to a web-based Jupyter and Julia setup, it is typically the most straightforward way to get started."
   ]
  },
  {
   "cell_type": "markdown",
   "id": "10d6ea65",
   "metadata": {},
   "source": [
    "## A Note on Jupyter\n",
    "\n",
    "Like Python and R, and unlike products such as Matlab and Stata, there is a looser connection between Julia as a programming language and Julia as a specific development environment.\n",
    "\n",
    "While you will eventually use other editors, there are some advantages to starting with the [Jupyter](http://jupyter.org/) environment while learning Julia.\n",
    "\n",
    "- The ability to mix formatted text (including mathematical expressions) and code in a single document.  \n",
    "- Nicely formatted output including tables, figures, animation, video, etc.  \n",
    "- Conversion tools to generate PDF slides, static HTML, etc.  \n",
    "- [Online Jupyter](#jl-jupyterhub) may be available, and requires no installation.  \n",
    "\n",
    "\n",
    "We’ll discuss the workflow on these features in the [next lecture](https://julia.quantecon.org/julia_environment.html).\n",
    "\n",
    "\n",
    "<a id='jl-jupyterlocal'></a>"
   ]
  },
  {
   "cell_type": "markdown",
   "id": "7e5c59fa",
   "metadata": {},
   "source": [
    "## Desktop Installation of Julia and Jupyter\n",
    "\n",
    "If you want to install these tools locally on your machine\n",
    "\n",
    "- Download and install Julia, from [download page](http://julialang.org/downloads/) , accepting all default options.  \n",
    "- Currently, these instructions and packages will work with Julia 1.4.X or 1.5.X  \n",
    "\n",
    "\n",
    "\n",
    "<a id='intro-repl'></a>\n",
    "- Open Julia, by either  \n",
    "  1. Navigating to Julia through your menus or desktop icons (Windows, Mac), or  \n",
    "  1. Opening a terminal and typing `julia` (Linux; to set this up on Mac, see end of section)  \n",
    "\n",
    "\n",
    "You should now be looking at something like this\n",
    "\n",
    "![https://julia.quantecon.org/_static/figures/julia_term_1.png](https://julia.quantecon.org/_static/figures/julia_term_1.png)\n",
    "\n",
    "  \n",
    "This is called the JULIA *REPL* (Read-Evaluate-Print-Loop), which we discuss more [later](https://julia.quantecon.org/../software_engineering/tools_editors.html#repl-main).\n",
    "\n",
    "- In the Julia REPL, hit `]` to enter package mode and then enter.  "
   ]
  },
  {
   "cell_type": "markdown",
   "id": "2569c602",
   "metadata": {
    "hide-output": false
   },
   "source": [
    "```julia\n",
    "add IJulia\n",
    "```\n"
   ]
  },
  {
   "cell_type": "markdown",
   "id": "5c862da6",
   "metadata": {},
   "source": [
    "This adds packages for the `IJulia` kernel which links Julia to Jupyter (i.e., allows your browser to run Julia code, manage Julia packages, etc.).\n",
    "\n",
    "Note: To set up the Julia terminal command on Mac, see [here](https://julialang.org/downloads/platform/#macos).\n",
    "\n",
    "\n",
    "<a id='jupyter-installation'></a>"
   ]
  },
  {
   "cell_type": "markdown",
   "id": "e2ab83cf",
   "metadata": {},
   "source": [
    "### Installing Jupyter\n",
    "\n",
    "If you have previously installed Jupyter (e.g., installing Anaconda Python by downloading the binary [https://www.anaconda.com/download/](https://www.anaconda.com/download/))\n",
    "then the `add IJulia` installs everything you need into your existing environment.\n",
    "\n",
    "Otherwise, you can let `IJulia` install its own version of Conda by following [these instructions](https://julialang.github.io/IJulia.jl/dev/manual/running/).\n",
    "\n",
    "\n",
    "<a id='clone-lectures'></a>"
   ]
  },
  {
   "cell_type": "markdown",
   "id": "d60bf681",
   "metadata": {},
   "source": [
    "### Starting Jupyter\n",
    "\n",
    "Next, let’s install the QuantEcon lecture notes to our machine and run them (for more details on the tools we’ll use, see our lecture on [version control](https://julia.quantecon.org/../software_engineering/version_control.html)).\n",
    "\n",
    "1. Install [git](https://git-scm.com/book/en/v2/Getting-Started-Installing-Git/).  \n",
    "1. (**Optional, but strongly recommended**) Install the [GitHub Desktop](https://desktop.github.com/).  "
   ]
  },
  {
   "cell_type": "markdown",
   "id": "78286732",
   "metadata": {},
   "source": [
    "#### GitHub Desktop Approach\n",
    "\n",
    "After installing the Git Desktop application, go to `x-github-client://openRepo/https://github.com/QuantEcon/lecture-julia.notebooks` on your desktop computer to automatically install the notebooks.\n",
    "\n",
    "It should open a window in the GitHub desktop app like this\n",
    "\n",
    "![https://julia.quantecon.org/_static/figures/git-desktop-intro.png](https://julia.quantecon.org/_static/figures/git-desktop-intro.png)\n",
    "\n",
    "  \n",
    "Choose a path you like and clone the repo.\n",
    "\n",
    "**Note:** the workflow will be easiest if you clone the repo to the default location relative to the home folder for your user.\n",
    "\n",
    "Then, you can run Jupyterlab using the Conda installation with"
   ]
  },
  {
   "cell_type": "markdown",
   "id": "3fd00ac7",
   "metadata": {
    "hide-output": false
   },
   "source": [
    "```text\n",
    "jupyter lab\n",
    "```\n"
   ]
  },
  {
   "cell_type": "markdown",
   "id": "6475f0fa",
   "metadata": {},
   "source": [
    "Or following [these instructions](https://julialang.github.io/IJulia.jl/dev/manual/running/) instructions if you didn’t install Anaconda separately.\n",
    "\n",
    "Navigate to the location you stored the lecture notes, and open the [Interacting with Julia](https://julia.quantecon.org/julia_environment.html) notebook to explore this interface and start writing code."
   ]
  },
  {
   "cell_type": "markdown",
   "id": "f7f29174",
   "metadata": {},
   "source": [
    "#### Git Command Line Approach\n",
    "\n",
    "If you do not wish to install the GitHub Desktop, you can get the notebooks using the Git command-line tool.\n",
    "\n",
    "Open a new terminal session and run"
   ]
  },
  {
   "cell_type": "markdown",
   "id": "5a2ac72c",
   "metadata": {
    "hide-output": false
   },
   "source": [
    "```text\n",
    "git clone https://github.com/quantecon/lecture-julia.notebooks\n",
    "```\n"
   ]
  },
  {
   "cell_type": "markdown",
   "id": "f66c089a",
   "metadata": {},
   "source": [
    "This will download the repository with the notebooks in the working directory.\n",
    "\n",
    "Then, `cd` to that location in your Mac, Linux, or Windows PowerShell terminal"
   ]
  },
  {
   "cell_type": "markdown",
   "id": "73ccabd7",
   "metadata": {
    "hide-output": false
   },
   "source": [
    "```text\n",
    "cd lecture-julia.notebooks\n",
    "```\n"
   ]
  },
  {
   "cell_type": "markdown",
   "id": "95ed5c10",
   "metadata": {},
   "source": [
    "Then, either using the `using IJulia; jupyterlab()` or execute `jupyter lab` within your shell.\n",
    "\n",
    "And open the [Interacting With Julia](https://julia.quantecon.org/julia_environment.html) lecture (the file `julia_environment.ipynb` in the list of notebooks in JupyterLab) to continue."
   ]
  },
  {
   "cell_type": "markdown",
   "id": "53574f4d",
   "metadata": {},
   "source": [
    "## Using Julia on the Web\n",
    "\n",
    "If you have access to an online Julia installation, it is the easiest way to get started.\n",
    "\n",
    "Eventually, you will want to do a [local installation](#jl-jupyterlocal) in order to use other\n",
    "[tools and editors](https://julia.quantecon.org/../software_engineering/tools_editors.html) such as [Atom/Juno](http://junolab.org/), but\n",
    "don’t let the environment get in the way of learning the language.\n",
    "\n",
    "\n",
    "<a id='jl-jupyterhub'></a>"
   ]
  },
  {
   "cell_type": "markdown",
   "id": "f33a0d9f",
   "metadata": {},
   "source": [
    "### Using Julia with JupyterHub\n",
    "\n",
    "If you have access to a web-based solution for Jupyter, then that is typically a straightforward option\n",
    "\n",
    "- Students: ask your department if these resources are available.  \n",
    "- Universities and workgroups: email [contact@quantecon.org](mailto:contact@quantecon.org%22) for\n",
    "  help on setting up a shared JupyterHub instance with precompiled packages ready for these lecture notes.  "
   ]
  },
  {
   "cell_type": "markdown",
   "id": "165afa8d",
   "metadata": {},
   "source": [
    "#### Obtaining Notebooks\n",
    "\n",
    "Your first step is to get a copy of the notebooks in your JupyterHub environment.\n",
    "\n",
    "While you can individually download the notebooks from the website, the easiest way to access the notebooks is usually to clone the repository with Git into your JupyterHub environment.\n",
    "\n",
    "JupyterHub installations have different methods for cloning repositories, with which you can use the url for the notebooks repository: [https://github.com/QuantEcon/lecture-julia.notebooks](https://github.com/QuantEcon/lecture-julia.notebooks).\n",
    "\n",
    "\n",
    "<a id='package-setup'></a>"
   ]
  },
  {
   "cell_type": "markdown",
   "id": "23e1f9b1",
   "metadata": {},
   "source": [
    "## Installing Packages\n",
    "\n",
    "After you have the notebooks available, as in [above](#clone-lectures), these lectures depend on functionality (like packages for plotting, benchmarking, and statistics) that are not installed with every Jupyter installation on the web.\n",
    "\n",
    "Navigate to the root of the downloaded notebooks, e.g. open in vscode, and run"
   ]
  },
  {
   "cell_type": "markdown",
   "id": "e0d5c7fe",
   "metadata": {
    "hide-output": false
   },
   "source": [
    "```text\n",
    "julia --project --threads auto -e 'using Pkg; Pkg.instantiate();'\n",
    "```\n"
   ]
  },
  {
   "cell_type": "markdown",
   "id": "b2fad6ce",
   "metadata": {},
   "source": [
    "Or, alternatively, in a Julia REPL (e.g. in vscode) run `] activate; instantiate` or simply `] instantiate` if in vscode (which automatically activates projects)\n",
    "\n",
    "After this step, open the downloaded [Interacting with Julia](https://julia.quantecon.org/julia_environment.html) notebook to begin writing code."
   ]
  }
 ],
 "metadata": {
  "date": 1629257172.7128174,
  "filename": "getting_started.md",
  "kernelspec": {
   "display_name": "Julia",
   "language": "julia",
   "name": "julia"
  },
  "title": "Setting up Your Julia Environment"
 },
 "nbformat": 4,
 "nbformat_minor": 5
}