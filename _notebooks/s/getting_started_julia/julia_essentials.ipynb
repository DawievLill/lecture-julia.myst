{
 "cells": [
  {
   "cell_type": "markdown",
   "id": "77fd32ce",
   "metadata": {},
   "source": [
    "\n",
    "<a id='julia-essentials'></a>"
   ]
  },
  {
   "cell_type": "markdown",
   "id": "9894edc3",
   "metadata": {},
   "source": [
    "# Julia Essentials"
   ]
  },
  {
   "cell_type": "markdown",
   "id": "924f31a1",
   "metadata": {},
   "source": [
    "## Contents\n",
    "\n",
    "- [Julia Essentials](#Julia-Essentials)  \n",
    "  - [Overview](#Overview)  \n",
    "  - [Common Data Types](#Common-Data-Types)  \n",
    "  - [Iterating](#Iterating)  \n",
    "  - [Comparisons and Logical Operators](#Comparisons-and-Logical-Operators)  \n",
    "  - [User-Defined Functions](#User-Defined-Functions)  \n",
    "  - [Broadcasting](#Broadcasting)  \n",
    "  - [Scoping and Closures](#Scoping-and-Closures)  \n",
    "  - [Exercises](#Exercises)  \n",
    "  - [Solutions](#Solutions)  "
   ]
  },
  {
   "cell_type": "markdown",
   "id": "49dc2ad3",
   "metadata": {},
   "source": [
    "Having covered a few examples, let’s now turn to a more systematic exposition\n",
    "of the essential features of the language."
   ]
  },
  {
   "cell_type": "markdown",
   "id": "982b8b9a",
   "metadata": {},
   "source": [
    "## Overview\n",
    "\n",
    "Topics:\n",
    "\n",
    "- Common data types  \n",
    "- Iteration  \n",
    "- More on user-defined functions  \n",
    "- Comparisons and logic  "
   ]
  },
  {
   "cell_type": "markdown",
   "id": "cac46c14",
   "metadata": {
    "hide-output": false
   },
   "source": [
    "```julia\n",
    "using LinearAlgebra, Statistics\n",
    "```\n"
   ]
  },
  {
   "cell_type": "markdown",
   "id": "133a51cf",
   "metadata": {},
   "source": [
    "## Common Data Types\n",
    "\n",
    "Like most languages, Julia language defines and provides functions for operating on standard data types such as\n",
    "\n",
    "- integers  \n",
    "- floats  \n",
    "- strings  \n",
    "- arrays, etc…  \n",
    "\n",
    "\n",
    "Let’s learn a bit more about them."
   ]
  },
  {
   "cell_type": "markdown",
   "id": "2b75f848",
   "metadata": {},
   "source": [
    "### Primitive Data Types\n",
    "\n",
    "A particularly simple data type is a Boolean value, which can be either `true` or\n",
    "`false`."
   ]
  },
  {
   "cell_type": "markdown",
   "id": "f4e74b91",
   "metadata": {
    "hide-output": false
   },
   "source": [
    "```julia\n",
    "x = true\n",
    "```\n"
   ]
  },
  {
   "cell_type": "markdown",
   "id": "95cbaa5e",
   "metadata": {
    "hide-output": false
   },
   "source": [
    "```julia\n",
    "typeof(x)\n",
    "```\n"
   ]
  },
  {
   "cell_type": "markdown",
   "id": "53a30b68",
   "metadata": {
    "hide-output": false
   },
   "source": [
    "```julia\n",
    "y = 1 > 2  # now y = false\n",
    "```\n"
   ]
  },
  {
   "cell_type": "markdown",
   "id": "fce3132c",
   "metadata": {},
   "source": [
    "The two most common data types used to represent numbers are integers and\n",
    "floats.\n",
    "\n",
    "(Computers distinguish between floats and integers because arithmetic is\n",
    "handled in a different way)"
   ]
  },
  {
   "cell_type": "markdown",
   "id": "fdff4614",
   "metadata": {
    "hide-output": false
   },
   "source": [
    "```julia\n",
    "typeof(1.0)\n",
    "```\n"
   ]
  },
  {
   "cell_type": "markdown",
   "id": "198907ea",
   "metadata": {
    "hide-output": false
   },
   "source": [
    "```julia\n",
    "typeof(1)\n",
    "```\n"
   ]
  },
  {
   "cell_type": "markdown",
   "id": "eb5fa3ff",
   "metadata": {},
   "source": [
    "If you’re running a 32 bit system you’ll still see `Float64`, but you will see `Int32` instead of `Int64` (see [the section on Integer types](https://docs.julialang.org/en/v1.1/manual/integers-and-floating-point-numbers/#Integers-1) from the Julia manual).\n",
    "\n",
    "Arithmetic operations are fairly standard."
   ]
  },
  {
   "cell_type": "markdown",
   "id": "314c58f0",
   "metadata": {
    "hide-output": false
   },
   "source": [
    "```julia\n",
    "x = 2; y = 1.0;\n",
    "```\n"
   ]
  },
  {
   "cell_type": "markdown",
   "id": "3a505ffd",
   "metadata": {},
   "source": [
    "The `;` can be used to suppress output from a line of code, or to combine two lines of code together (as above), but is otherwise not necessary."
   ]
  },
  {
   "cell_type": "markdown",
   "id": "332cb49e",
   "metadata": {
    "hide-output": false
   },
   "source": [
    "```julia\n",
    "x * y\n",
    "```\n"
   ]
  },
  {
   "cell_type": "markdown",
   "id": "82a5d782",
   "metadata": {
    "hide-output": false
   },
   "source": [
    "```julia\n",
    "x^2\n",
    "```\n"
   ]
  },
  {
   "cell_type": "markdown",
   "id": "7647cd42",
   "metadata": {
    "hide-output": false
   },
   "source": [
    "```julia\n",
    "y / x\n",
    "```\n"
   ]
  },
  {
   "cell_type": "markdown",
   "id": "45396d64",
   "metadata": {},
   "source": [
    "Although the `*` can be omitted for multiplication between a numeric literal and a variable."
   ]
  },
  {
   "cell_type": "markdown",
   "id": "9a88e71c",
   "metadata": {
    "hide-output": false
   },
   "source": [
    "```julia\n",
    "2x - 3y\n",
    "```\n"
   ]
  },
  {
   "cell_type": "markdown",
   "id": "d03a6bf0",
   "metadata": {},
   "source": [
    "A useful tool for displaying both expressions and code is to use the `@show` macro, which displays the text and the results."
   ]
  },
  {
   "cell_type": "markdown",
   "id": "f5b20761",
   "metadata": {
    "hide-output": false
   },
   "source": [
    "```julia\n",
    "@show 2x - 3y\n",
    "@show x + y;\n",
    "```\n"
   ]
  },
  {
   "cell_type": "markdown",
   "id": "b7b8486d",
   "metadata": {},
   "source": [
    "Here we have used `;` to suppress the output on the last line, which otherwise returns the results of `x + y`.\n",
    "\n",
    "Complex numbers are another primitive data type, with the imaginary part being specified by `im`."
   ]
  },
  {
   "cell_type": "markdown",
   "id": "b16640a1",
   "metadata": {
    "hide-output": false
   },
   "source": [
    "```julia\n",
    "x = 1 + 2im\n",
    "```\n"
   ]
  },
  {
   "cell_type": "markdown",
   "id": "14f173b1",
   "metadata": {
    "hide-output": false
   },
   "source": [
    "```julia\n",
    "y = 1 - 2im\n",
    "```\n"
   ]
  },
  {
   "cell_type": "markdown",
   "id": "543f48f8",
   "metadata": {
    "hide-output": false
   },
   "source": [
    "```julia\n",
    "x * y  # complex multiplication\n",
    "```\n"
   ]
  },
  {
   "cell_type": "markdown",
   "id": "63c836ff",
   "metadata": {},
   "source": [
    "There are several more primitive data types that we’ll introduce as necessary."
   ]
  },
  {
   "cell_type": "markdown",
   "id": "4f30952b",
   "metadata": {},
   "source": [
    "### Strings\n",
    "\n",
    "A string is a data type for storing a sequence of characters.\n",
    "\n",
    "In Julia, strings are created using double quotation marks (single quotations are\n",
    "reserved for the character type)."
   ]
  },
  {
   "cell_type": "markdown",
   "id": "b8464146",
   "metadata": {
    "hide-output": false
   },
   "source": [
    "```julia\n",
    "x = \"foobar\"\n",
    "```\n"
   ]
  },
  {
   "cell_type": "markdown",
   "id": "fb57816b",
   "metadata": {
    "hide-output": false
   },
   "source": [
    "```julia\n",
    "typeof(x)\n",
    "```\n"
   ]
  },
  {
   "cell_type": "markdown",
   "id": "f254cd5b",
   "metadata": {},
   "source": [
    "You’ve already seen examples of Julia’s simple string formatting operations."
   ]
  },
  {
   "cell_type": "markdown",
   "id": "606b26de",
   "metadata": {
    "hide-output": false
   },
   "source": [
    "```julia\n",
    "x = 10; y = 20\n",
    "```\n"
   ]
  },
  {
   "cell_type": "markdown",
   "id": "42614df1",
   "metadata": {},
   "source": [
    "The `\\$` inside of a string is used to interpolate a variable."
   ]
  },
  {
   "cell_type": "markdown",
   "id": "8f4a8657",
   "metadata": {
    "hide-output": false
   },
   "source": [
    "```julia\n",
    "\"x = $x\"\n",
    "```\n"
   ]
  },
  {
   "cell_type": "markdown",
   "id": "8bc38f43",
   "metadata": {},
   "source": [
    "With parentheses, you can splice the results of expressions into strings as well."
   ]
  },
  {
   "cell_type": "markdown",
   "id": "b87bcb25",
   "metadata": {
    "hide-output": false
   },
   "source": [
    "```julia\n",
    "\"x + y = $(x + y)\"\n",
    "```\n"
   ]
  },
  {
   "cell_type": "markdown",
   "id": "2f92147d",
   "metadata": {},
   "source": [
    "To concatenate strings use `*`"
   ]
  },
  {
   "cell_type": "markdown",
   "id": "876043d9",
   "metadata": {
    "hide-output": false
   },
   "source": [
    "```julia\n",
    "\"foo\" * \"bar\"\n",
    "```\n"
   ]
  },
  {
   "cell_type": "markdown",
   "id": "80e850c2",
   "metadata": {},
   "source": [
    "Julia provides many functions for working with strings."
   ]
  },
  {
   "cell_type": "markdown",
   "id": "e15f484e",
   "metadata": {
    "hide-output": false
   },
   "source": [
    "```julia\n",
    "s = \"Charlie don't surf\"\n",
    "```\n"
   ]
  },
  {
   "cell_type": "markdown",
   "id": "f1c8ca7b",
   "metadata": {
    "hide-output": false
   },
   "source": [
    "```julia\n",
    "split(s)\n",
    "```\n"
   ]
  },
  {
   "cell_type": "markdown",
   "id": "b806d656",
   "metadata": {
    "hide-output": false
   },
   "source": [
    "```julia\n",
    "replace(s, \"surf\" => \"ski\")\n",
    "```\n"
   ]
  },
  {
   "cell_type": "markdown",
   "id": "43b832ed",
   "metadata": {
    "hide-output": false
   },
   "source": [
    "```julia\n",
    "split(\"fee,fi,fo\", \",\")\n",
    "```\n"
   ]
  },
  {
   "cell_type": "markdown",
   "id": "4a7a7c6a",
   "metadata": {
    "hide-output": false
   },
   "source": [
    "```julia\n",
    "strip(\" foobar \")  # remove whitespace\n",
    "```\n"
   ]
  },
  {
   "cell_type": "markdown",
   "id": "45b885c7",
   "metadata": {},
   "source": [
    "Julia can also find and replace using [regular expressions](https://en.wikipedia.org/wiki/Regular_expression) ([see regular expressions documentation](https://docs.julialang.org/en/v1/manual/strings/#Regular-Expressions-1) for more info)."
   ]
  },
  {
   "cell_type": "markdown",
   "id": "0d3223ba",
   "metadata": {
    "hide-output": false
   },
   "source": [
    "```julia\n",
    "match(r\"(\\d+)\", \"Top 10\")  # find digits in string\n",
    "```\n"
   ]
  },
  {
   "cell_type": "markdown",
   "id": "c6996e57",
   "metadata": {},
   "source": [
    "### Containers\n",
    "\n",
    "Julia has several basic types for storing collections of data.\n",
    "\n",
    "We have already discussed arrays.\n",
    "\n",
    "A related data type is a **tuple**, which is immutable and can contain different types."
   ]
  },
  {
   "cell_type": "markdown",
   "id": "451e201d",
   "metadata": {
    "hide-output": false
   },
   "source": [
    "```julia\n",
    "x = (\"foo\", \"bar\")\n",
    "y = (\"foo\", 2)\n",
    "```\n"
   ]
  },
  {
   "cell_type": "markdown",
   "id": "ec5f3d71",
   "metadata": {
    "hide-output": false
   },
   "source": [
    "```julia\n",
    "typeof(x), typeof(y)\n",
    "```\n"
   ]
  },
  {
   "cell_type": "markdown",
   "id": "7dc9f197",
   "metadata": {},
   "source": [
    "An immutable value is one that cannot be altered once it resides in memory.\n",
    "\n",
    "In particular, tuples do not support item assignment (i.e. `x[1] = \"test\"` would fail).\n",
    "\n",
    "Tuples can be constructed with or without parentheses."
   ]
  },
  {
   "cell_type": "markdown",
   "id": "c0252d44",
   "metadata": {
    "hide-output": false
   },
   "source": [
    "```julia\n",
    "x = \"foo\", 1\n",
    "```\n"
   ]
  },
  {
   "cell_type": "markdown",
   "id": "8d83eb08",
   "metadata": {
    "hide-output": false
   },
   "source": [
    "```julia\n",
    "function f()\n",
    "    return \"foo\", 1\n",
    "end\n",
    "f()\n",
    "```\n"
   ]
  },
  {
   "cell_type": "markdown",
   "id": "d13b6b4e",
   "metadata": {},
   "source": [
    "Tuples can also be unpacked directly into variables."
   ]
  },
  {
   "cell_type": "markdown",
   "id": "b9dd6d20",
   "metadata": {
    "hide-output": false
   },
   "source": [
    "```julia\n",
    "x = (\"foo\", 1)\n",
    "```\n"
   ]
  },
  {
   "cell_type": "markdown",
   "id": "225c594a",
   "metadata": {
    "hide-output": false
   },
   "source": [
    "```julia\n",
    "word, val = x\n",
    "println(\"word = $word, val = $val\")\n",
    "```\n"
   ]
  },
  {
   "cell_type": "markdown",
   "id": "5b82519a",
   "metadata": {},
   "source": [
    "Tuples can be created with a hanging `,` – this is useful to create a tuple with one element."
   ]
  },
  {
   "cell_type": "markdown",
   "id": "04242aa0",
   "metadata": {
    "hide-output": false
   },
   "source": [
    "```julia\n",
    "x = (\"foo\", 1,)\n",
    "y = (\"foo\",)\n",
    "typeof(x), typeof(y)\n",
    "```\n"
   ]
  },
  {
   "cell_type": "markdown",
   "id": "d5a2d01c",
   "metadata": {},
   "source": [
    "#### Referencing Items\n",
    "\n",
    "The last element of a sequence type can be accessed with the keyword `end`."
   ]
  },
  {
   "cell_type": "markdown",
   "id": "8173ca34",
   "metadata": {
    "hide-output": false
   },
   "source": [
    "```julia\n",
    "x = [10, 20, 30, 40]\n",
    "```\n"
   ]
  },
  {
   "cell_type": "markdown",
   "id": "30405137",
   "metadata": {
    "hide-output": false
   },
   "source": [
    "```julia\n",
    "x[end]\n",
    "```\n"
   ]
  },
  {
   "cell_type": "markdown",
   "id": "2c826c83",
   "metadata": {
    "hide-output": false
   },
   "source": [
    "```julia\n",
    "x[end-1]\n",
    "```\n"
   ]
  },
  {
   "cell_type": "markdown",
   "id": "a3667a2a",
   "metadata": {},
   "source": [
    "To access multiple elements of an array or tuple, you can use slice notation."
   ]
  },
  {
   "cell_type": "markdown",
   "id": "be1ad7bb",
   "metadata": {
    "hide-output": false
   },
   "source": [
    "```julia\n",
    "x[1:3]\n",
    "```\n"
   ]
  },
  {
   "cell_type": "markdown",
   "id": "15859eee",
   "metadata": {
    "hide-output": false
   },
   "source": [
    "```julia\n",
    "x[2:end]\n",
    "```\n"
   ]
  },
  {
   "cell_type": "markdown",
   "id": "d2461b38",
   "metadata": {},
   "source": [
    "The same slice notation works on strings."
   ]
  },
  {
   "cell_type": "markdown",
   "id": "c0fc8faf",
   "metadata": {
    "hide-output": false
   },
   "source": [
    "```julia\n",
    "\"foobar\"[3:end]\n",
    "```\n"
   ]
  },
  {
   "cell_type": "markdown",
   "id": "cb12b0cf",
   "metadata": {},
   "source": [
    "#### Dictionaries\n",
    "\n",
    "Another container type worth mentioning is dictionaries.\n",
    "\n",
    "Dictionaries are like arrays except that the items are named instead of numbered."
   ]
  },
  {
   "cell_type": "markdown",
   "id": "03fe2fae",
   "metadata": {
    "hide-output": false
   },
   "source": [
    "```julia\n",
    "d = Dict(\"name\" => \"Frodo\", \"age\" => 33)\n",
    "```\n"
   ]
  },
  {
   "cell_type": "markdown",
   "id": "7d34d50f",
   "metadata": {
    "hide-output": false
   },
   "source": [
    "```julia\n",
    "d[\"age\"]\n",
    "```\n"
   ]
  },
  {
   "cell_type": "markdown",
   "id": "0a6f25af",
   "metadata": {},
   "source": [
    "The strings `name` and `age` are called the **keys**.\n",
    "\n",
    "The keys are mapped to **values** (in this case `\"Frodo\"` and `33`).\n",
    "\n",
    "They can be accessed via `keys(d)` and `values(d)` respectively.\n",
    "\n",
    "**Note** Unlike in Python and some other dynamic languages, dictionaries\n",
    "are rarely the right approach (ie. often referred to as “the devil’s datastructure”).\n",
    "\n",
    "The flexibility (i.e. can store anything and use anything as a key) frequently\n",
    "comes at the cost of performance if misused.\n",
    "\n",
    "It is usually better to have collections of parameters and results in a named\n",
    "tuple, which both provide the compiler with more opportunties to optimize the\n",
    "performance, and also makes the code more safe.\n",
    "\n",
    "\n",
    "<a id='iterating-version-1'></a>"
   ]
  },
  {
   "cell_type": "markdown",
   "id": "a4fdabf8",
   "metadata": {},
   "source": [
    "## Iterating\n",
    "\n",
    "One of the most important tasks in computing is stepping through a\n",
    "sequence of data and performing a given action.\n",
    "\n",
    "Julia provides neat and flexible tools for iteration as we now discuss."
   ]
  },
  {
   "cell_type": "markdown",
   "id": "849d1f2b",
   "metadata": {},
   "source": [
    "### Iterables\n",
    "\n",
    "An iterable is something you can put on the right hand side of `for` and loop over.\n",
    "\n",
    "These include sequence data types like arrays."
   ]
  },
  {
   "cell_type": "markdown",
   "id": "7f2d683b",
   "metadata": {
    "hide-output": false
   },
   "source": [
    "```julia\n",
    "actions = [\"surf\", \"ski\"]\n",
    "for action in actions\n",
    "    println(\"Charlie doesn't $action\")\n",
    "end\n",
    "```\n"
   ]
  },
  {
   "cell_type": "markdown",
   "id": "d39ad4e3",
   "metadata": {},
   "source": [
    "They also include so-called **iterators**.\n",
    "\n",
    "You’ve already come across these types of values"
   ]
  },
  {
   "cell_type": "markdown",
   "id": "4ea96505",
   "metadata": {
    "hide-output": false
   },
   "source": [
    "```julia\n",
    "for i in 1:3\n",
    "    print(i)\n",
    "end\n",
    "```\n"
   ]
  },
  {
   "cell_type": "markdown",
   "id": "441d35d9",
   "metadata": {},
   "source": [
    "If you ask for the keys of dictionary you get an iterator"
   ]
  },
  {
   "cell_type": "markdown",
   "id": "a8c32dd9",
   "metadata": {
    "hide-output": false
   },
   "source": [
    "```julia\n",
    "d = Dict(\"name\" => \"Frodo\", \"age\" => 33)\n",
    "```\n"
   ]
  },
  {
   "cell_type": "markdown",
   "id": "af0f9f2a",
   "metadata": {
    "hide-output": false
   },
   "source": [
    "```julia\n",
    "keys(d)\n",
    "```\n"
   ]
  },
  {
   "cell_type": "markdown",
   "id": "9800cc0e",
   "metadata": {},
   "source": [
    "This makes sense, since the most common thing you want to do with keys is loop over them.\n",
    "\n",
    "The benefit of providing an iterator rather than an array, say, is that the former is more memory efficient.\n",
    "\n",
    "Should you need to transform an iterator into an array you can always use `collect()`."
   ]
  },
  {
   "cell_type": "markdown",
   "id": "7e58e998",
   "metadata": {
    "hide-output": false
   },
   "source": [
    "```julia\n",
    "collect(keys(d))\n",
    "```\n"
   ]
  },
  {
   "cell_type": "markdown",
   "id": "3d5576ee",
   "metadata": {},
   "source": [
    "### Looping without Indices\n",
    "\n",
    "You can loop over sequences without explicit indexing, which often leads to\n",
    "neater code.\n",
    "\n",
    "For example compare"
   ]
  },
  {
   "cell_type": "markdown",
   "id": "6e01c698",
   "metadata": {
    "hide-output": false
   },
   "source": [
    "```julia\n",
    "x_values = 1:5\n",
    "```\n"
   ]
  },
  {
   "cell_type": "markdown",
   "id": "8e893c33",
   "metadata": {
    "hide-output": false
   },
   "source": [
    "```julia\n",
    "for x in x_values\n",
    "    println(x * x)\n",
    "end\n",
    "```\n"
   ]
  },
  {
   "cell_type": "markdown",
   "id": "8cd690ad",
   "metadata": {
    "hide-output": false
   },
   "source": [
    "```julia\n",
    "for i in eachindex(x_values)\n",
    "    println(x_values[i] * x_values[i])\n",
    "end\n",
    "```\n"
   ]
  },
  {
   "cell_type": "markdown",
   "id": "339a9847",
   "metadata": {},
   "source": [
    "Julia provides some functional-style helper functions (similar to Python and R) to facilitate looping without indices.\n",
    "\n",
    "One is `zip()`, which is used for stepping through pairs from two sequences.\n",
    "\n",
    "For example, try running the following code"
   ]
  },
  {
   "cell_type": "markdown",
   "id": "67122cad",
   "metadata": {
    "hide-output": false
   },
   "source": [
    "```julia\n",
    "countries = (\"Japan\", \"Korea\", \"China\")\n",
    "cities = (\"Tokyo\", \"Seoul\", \"Beijing\")\n",
    "for (country, city) in zip(countries, cities)\n",
    "    println(\"The capital of $country is $city\")\n",
    "end\n",
    "```\n"
   ]
  },
  {
   "cell_type": "markdown",
   "id": "61180690",
   "metadata": {},
   "source": [
    "If we happen to need the index as well as the value, one option is to use `enumerate()`.\n",
    "\n",
    "The following snippet will give you the idea"
   ]
  },
  {
   "cell_type": "markdown",
   "id": "18c95cab",
   "metadata": {
    "hide-output": false
   },
   "source": [
    "```julia\n",
    "countries = (\"Japan\", \"Korea\", \"China\")\n",
    "cities = (\"Tokyo\", \"Seoul\", \"Beijing\")\n",
    "for (i, country) in enumerate(countries)\n",
    "    city = cities[i]\n",
    "    println(\"The capital of $country is $city\")\n",
    "end\n",
    "```\n"
   ]
  },
  {
   "cell_type": "markdown",
   "id": "9a40047a",
   "metadata": {},
   "source": [
    "### Comprehensions\n",
    "\n",
    "([See comprehensions documentation](https://docs.julialang.org/en/v1/manual/arrays/#man-comprehensions-1))\n",
    "\n",
    "Comprehensions are an elegant tool for creating new arrays, dictionaries, etc. from iterables.\n",
    "\n",
    "Here are some examples"
   ]
  },
  {
   "cell_type": "markdown",
   "id": "50b5e943",
   "metadata": {
    "hide-output": false
   },
   "source": [
    "```julia\n",
    "doubles = [ 2i for i in 1:4 ]\n",
    "```\n"
   ]
  },
  {
   "cell_type": "markdown",
   "id": "f87dc2ae",
   "metadata": {
    "hide-output": false
   },
   "source": [
    "```julia\n",
    "animals = [\"dog\", \"cat\", \"bird\"];   # Semicolon suppresses output\n",
    "```\n"
   ]
  },
  {
   "cell_type": "markdown",
   "id": "cca1ce73",
   "metadata": {
    "hide-output": false
   },
   "source": [
    "```julia\n",
    "plurals = [ animal * \"s\" for animal in animals ]\n",
    "```\n"
   ]
  },
  {
   "cell_type": "markdown",
   "id": "542ba71c",
   "metadata": {
    "hide-output": false
   },
   "source": [
    "```julia\n",
    "[ i + j for i in 1:3, j in 4:6 ]\n",
    "```\n"
   ]
  },
  {
   "cell_type": "markdown",
   "id": "ad05a7b3",
   "metadata": {
    "hide-output": false
   },
   "source": [
    "```julia\n",
    "[ i + j + k for i in 1:3, j in 4:6, k in 7:9 ]\n",
    "```\n"
   ]
  },
  {
   "cell_type": "markdown",
   "id": "8f670826",
   "metadata": {},
   "source": [
    "Comprehensions can also create arrays of tuples or named tuples"
   ]
  },
  {
   "cell_type": "markdown",
   "id": "63fe1128",
   "metadata": {
    "hide-output": false
   },
   "source": [
    "```julia\n",
    "[ (i, j) for i in 1:2, j in animals]\n",
    "```\n"
   ]
  },
  {
   "cell_type": "markdown",
   "id": "58abc462",
   "metadata": {
    "hide-output": false
   },
   "source": [
    "```julia\n",
    "[ (num = i, animal = j) for i in 1:2, j in animals]\n",
    "```\n"
   ]
  },
  {
   "cell_type": "markdown",
   "id": "d474bf5a",
   "metadata": {},
   "source": [
    "### Generators\n",
    "\n",
    "([See generator documentation](https://docs.julialang.org/en/v1/manual/arrays/#Generator-Expressions-1))\n",
    "\n",
    "In some cases, you may wish to use a comprehension to create an iterable list rather\n",
    "than actually making it a concrete array.\n",
    "\n",
    "The benefit of this is that you can use functions which take general iterators rather\n",
    "than arrays without allocating and storing any temporary values.\n",
    "\n",
    "For example, the following code generates a temporary array of size 10,000 and finds the sum."
   ]
  },
  {
   "cell_type": "markdown",
   "id": "0894977a",
   "metadata": {
    "hide-output": false
   },
   "source": [
    "```julia\n",
    "xs = 1:10000\n",
    "f(x) = x^2\n",
    "f_x = f.(xs)\n",
    "sum(f_x)\n",
    "```\n"
   ]
  },
  {
   "cell_type": "markdown",
   "id": "374eb2f5",
   "metadata": {},
   "source": [
    "We could have created the temporary using a comprehension, or even done the comprehension\n",
    "within the `sum` function, but these all create temporary arrays."
   ]
  },
  {
   "cell_type": "markdown",
   "id": "4c0b1300",
   "metadata": {
    "hide-output": false
   },
   "source": [
    "```julia\n",
    "f_x2 = [f(x) for x in xs]\n",
    "@show sum(f_x2)\n",
    "@show sum([f(x) for x in xs]); # still allocates temporary\n",
    "```\n"
   ]
  },
  {
   "cell_type": "markdown",
   "id": "eb0521c5",
   "metadata": {},
   "source": [
    "Note, that if you were hand-code this, you would be able to calculate the sum by simply\n",
    "iterating to 10000, applying `f` to each number, and accumulating the results.  No temporary\n",
    "vectors would be necessary.\n",
    "\n",
    "A generator can emulate this behavior, leading to clear (and sometimes more efficient) code when used\n",
    "with any function that accepts iterators.  All you need to do is drop the `]` brackets."
   ]
  },
  {
   "cell_type": "markdown",
   "id": "928912c8",
   "metadata": {
    "hide-output": false
   },
   "source": [
    "```julia\n",
    "sum(f(x) for x in xs)\n",
    "```\n"
   ]
  },
  {
   "cell_type": "markdown",
   "id": "098b3eb3",
   "metadata": {},
   "source": [
    "We can use `BenchmarkTools` to investigate"
   ]
  },
  {
   "cell_type": "markdown",
   "id": "e7d30512",
   "metadata": {
    "hide-output": false
   },
   "source": [
    "```julia\n",
    "using BenchmarkTools\n",
    "@btime sum([f(x) for x in $xs])\n",
    "@btime sum(f.($xs))\n",
    "@btime sum(f(x) for x in $xs);\n",
    "```\n"
   ]
  },
  {
   "cell_type": "markdown",
   "id": "eddc708a",
   "metadata": {},
   "source": [
    "Notice that the first two cases are nearly identical, and allocate a temporary array, while the\n",
    "final case using generators has no allocations.\n",
    "\n",
    "In this example you may see a speedup of over 1000x.  Whether using generators leads to code that is faster or slower depends on the cirumstances, and you should (1) always profile rather than guess; and (2) worry about code clarify first, and performance second—if ever."
   ]
  },
  {
   "cell_type": "markdown",
   "id": "6edd8f99",
   "metadata": {},
   "source": [
    "## Comparisons and Logical Operators"
   ]
  },
  {
   "cell_type": "markdown",
   "id": "0b15f33d",
   "metadata": {},
   "source": [
    "### Comparisons\n",
    "\n",
    "As we saw earlier, when testing for equality we use `==`."
   ]
  },
  {
   "cell_type": "markdown",
   "id": "d129f544",
   "metadata": {
    "hide-output": false
   },
   "source": [
    "```julia\n",
    "x = 1\n",
    "```\n"
   ]
  },
  {
   "cell_type": "markdown",
   "id": "31298145",
   "metadata": {
    "hide-output": false
   },
   "source": [
    "```julia\n",
    "x == 2\n",
    "```\n"
   ]
  },
  {
   "cell_type": "markdown",
   "id": "ccb4b5fb",
   "metadata": {},
   "source": [
    "For “not equal” use `!=` or `≠` (`\\ne<TAB>`)."
   ]
  },
  {
   "cell_type": "markdown",
   "id": "58175428",
   "metadata": {
    "hide-output": false
   },
   "source": [
    "```julia\n",
    "x != 3\n",
    "```\n"
   ]
  },
  {
   "cell_type": "markdown",
   "id": "3ec010e3",
   "metadata": {},
   "source": [
    "Julia can also test approximate equality with `≈` (`\\approx<TAB>`)."
   ]
  },
  {
   "cell_type": "markdown",
   "id": "0a51cdec",
   "metadata": {
    "hide-output": false
   },
   "source": [
    "```julia\n",
    "1 + 1E-8 ≈ 1\n",
    "```\n"
   ]
  },
  {
   "cell_type": "markdown",
   "id": "e386556f",
   "metadata": {},
   "source": [
    "Be careful when using this, however, as there are subtleties involving the scales of the quantities compared."
   ]
  },
  {
   "cell_type": "markdown",
   "id": "cde8cda7",
   "metadata": {},
   "source": [
    "### Combining Expressions\n",
    "\n",
    "Here are the standard logical connectives (conjunction, disjunction)"
   ]
  },
  {
   "cell_type": "markdown",
   "id": "ed8a0c75",
   "metadata": {
    "hide-output": false
   },
   "source": [
    "```julia\n",
    "true && false\n",
    "```\n"
   ]
  },
  {
   "cell_type": "markdown",
   "id": "b08440ab",
   "metadata": {
    "hide-output": false
   },
   "source": [
    "```julia\n",
    "true || false\n",
    "```\n"
   ]
  },
  {
   "cell_type": "markdown",
   "id": "18d00623",
   "metadata": {},
   "source": [
    "Remember\n",
    "\n",
    "- `P && Q` is `true` if both are `true`, otherwise it’s `false`.  \n",
    "- `P || Q` is `false` if both are `false`, otherwise it’s `true`.  "
   ]
  },
  {
   "cell_type": "markdown",
   "id": "7c687010",
   "metadata": {},
   "source": [
    "## User-Defined Functions\n",
    "\n",
    "Let’s talk a little more about user-defined functions.\n",
    "\n",
    "User-defined functions are important for improving the clarity of your code by\n",
    "\n",
    "- separating different strands of logic  \n",
    "- facilitating code reuse (writing the same thing twice is always a bad idea)  \n",
    "\n",
    "\n",
    "Julia functions are convenient:\n",
    "\n",
    "- Any number of functions can be defined in a given file.  \n",
    "- Any “value” can be passed to a function as an argument, including other functions.  \n",
    "- Functions can be (and often are) defined inside other functions.  \n",
    "- A function can return any kind of value, including functions.  \n",
    "\n",
    "\n",
    "We’ll see many examples of these structures in the following lectures.\n",
    "\n",
    "For now let’s just cover some of the different ways of defining functions."
   ]
  },
  {
   "cell_type": "markdown",
   "id": "679a568b",
   "metadata": {},
   "source": [
    "### Return Statement\n",
    "\n",
    "In Julia, the `return` statement is optional, so that the following functions\n",
    "have identical behavior"
   ]
  },
  {
   "cell_type": "markdown",
   "id": "1271ba24",
   "metadata": {
    "hide-output": false
   },
   "source": [
    "```julia\n",
    "function f1(a, b)\n",
    "    return a * b\n",
    "end\n",
    "\n",
    "function f2(a, b)\n",
    "    a * b\n",
    "end\n",
    "```\n"
   ]
  },
  {
   "cell_type": "markdown",
   "id": "9cc111c1",
   "metadata": {},
   "source": [
    "When no return statement is present, the last value obtained when executing the code block is returned.\n",
    "\n",
    "Although some prefer the second option, we often favor the former on the basis that explicit is better than implicit.\n",
    "\n",
    "A function can have arbitrarily many `return` statements, with execution terminating when the first return is hit.\n",
    "\n",
    "You can see this in action when experimenting with the following function"
   ]
  },
  {
   "cell_type": "markdown",
   "id": "b5022059",
   "metadata": {
    "hide-output": false
   },
   "source": [
    "```julia\n",
    "function foo(x)\n",
    "    if x > 0\n",
    "        return \"positive\"\n",
    "    end\n",
    "    return \"nonpositive\"\n",
    "end\n",
    "```\n"
   ]
  },
  {
   "cell_type": "markdown",
   "id": "2edd8267",
   "metadata": {},
   "source": [
    "### Other Syntax for Defining Functions\n",
    "\n",
    "For short function definitions Julia offers some attractive simplified syntax.\n",
    "\n",
    "First, when the function body is a simple expression, it can be defined\n",
    "without the `function` keyword or `end`."
   ]
  },
  {
   "cell_type": "markdown",
   "id": "b2dd069b",
   "metadata": {
    "hide-output": false
   },
   "source": [
    "```julia\n",
    "f(x) = sin(1 / x)\n",
    "```\n"
   ]
  },
  {
   "cell_type": "markdown",
   "id": "45fa5a41",
   "metadata": {},
   "source": [
    "Let’s check that it works"
   ]
  },
  {
   "cell_type": "markdown",
   "id": "d4e21f34",
   "metadata": {
    "hide-output": false
   },
   "source": [
    "```julia\n",
    "f(1 / pi)\n",
    "```\n"
   ]
  },
  {
   "cell_type": "markdown",
   "id": "3bdc4728",
   "metadata": {},
   "source": [
    "Julia also allows you to define anonymous functions.\n",
    "\n",
    "For example, to define `f(x) = sin(1 / x)` you can use `x -> sin(1 / x)`.\n",
    "\n",
    "The difference is that the second function has no name bound to it.\n",
    "\n",
    "How can you use a function with no name?\n",
    "\n",
    "Typically it’s as an argument to another function"
   ]
  },
  {
   "cell_type": "markdown",
   "id": "40280d00",
   "metadata": {
    "hide-output": false
   },
   "source": [
    "```julia\n",
    "map(x -> sin(1 / x), randn(3))  # apply function to each element\n",
    "```\n"
   ]
  },
  {
   "cell_type": "markdown",
   "id": "67bb1e15",
   "metadata": {},
   "source": [
    "### Optional and Keyword Arguments\n",
    "\n",
    "([See keyword arguments documentation](https://docs.julialang.org/en/v1/manual/functions/#Keyword-Arguments-1))\n",
    "\n",
    "Function arguments can be given default values"
   ]
  },
  {
   "cell_type": "markdown",
   "id": "9bf1afbe",
   "metadata": {
    "hide-output": false
   },
   "source": [
    "```julia\n",
    "f(x, a = 1) = exp(cos(a * x))\n",
    "```\n"
   ]
  },
  {
   "cell_type": "markdown",
   "id": "20148a7f",
   "metadata": {},
   "source": [
    "If the argument is not supplied, the default value is substituted."
   ]
  },
  {
   "cell_type": "markdown",
   "id": "13849192",
   "metadata": {
    "hide-output": false
   },
   "source": [
    "```julia\n",
    "f(pi)\n",
    "```\n"
   ]
  },
  {
   "cell_type": "markdown",
   "id": "f5c24306",
   "metadata": {
    "hide-output": false
   },
   "source": [
    "```julia\n",
    "f(pi, 2)\n",
    "```\n"
   ]
  },
  {
   "cell_type": "markdown",
   "id": "06040a09",
   "metadata": {},
   "source": [
    "Another option is to use **keyword** arguments.\n",
    "\n",
    "The difference between keyword and standard (positional) arguments is that\n",
    "they are parsed and bounded by name rather than the order in the function call.\n",
    "\n",
    "For example, in the call"
   ]
  },
  {
   "cell_type": "markdown",
   "id": "003d191a",
   "metadata": {
    "hide-output": false
   },
   "source": [
    "```julia\n",
    "f(x; a = 1) = exp(cos(a * x))  # note the ; in the definition\n",
    "\n",
    "f(pi, a = 2) # calling with ; is usually optional and generally discouraged\n",
    "```\n"
   ]
  },
  {
   "cell_type": "markdown",
   "id": "d366b7e8",
   "metadata": {},
   "source": [
    "## Broadcasting\n",
    "\n",
    "([See broadcasting documentation](https://docs.julialang.org/en/v1/manual/arrays/#Broadcasting-1))\n",
    "\n",
    "A common scenario in computing is that\n",
    "\n",
    "- we have a function `f` such that `f(x)` returns a number for any number `x`  \n",
    "- we wish to apply `f` to every element of an iterable `x_vec` to produce a new result `y_vec`  \n",
    "\n",
    "\n",
    "In Julia loops are fast and we can do this easily enough with a loop.\n",
    "\n",
    "For example, suppose that we want to apply `sin` to `x_vec = [2.0, 4.0, 6.0, 8.0]`.\n",
    "\n",
    "The following code will do the job"
   ]
  },
  {
   "cell_type": "markdown",
   "id": "1ccd89dd",
   "metadata": {
    "hide-output": false
   },
   "source": [
    "```julia\n",
    "x_vec = [2.0, 4.0, 6.0, 8.0]\n",
    "y_vec = similar(x_vec)\n",
    "for (i, x) in enumerate(x_vec)\n",
    "    y_vec[i] = sin(x)\n",
    "end\n",
    "```\n"
   ]
  },
  {
   "cell_type": "markdown",
   "id": "4e86c88b",
   "metadata": {},
   "source": [
    "But this is a bit unwieldy so Julia offers the alternative syntax"
   ]
  },
  {
   "cell_type": "markdown",
   "id": "5f2349c7",
   "metadata": {
    "hide-output": false
   },
   "source": [
    "```julia\n",
    "y_vec = sin.(x_vec)\n",
    "```\n"
   ]
  },
  {
   "cell_type": "markdown",
   "id": "fb37cc17",
   "metadata": {},
   "source": [
    "More generally, if `f` is any Julia function, then `f.` references the broadcasted version.\n",
    "\n",
    "Conveniently, this applies to user-defined functions as well.\n",
    "\n",
    "To illustrate, let’s write a function `chisq` such that `chisq(k)` returns a chi-squared random variable with `k` degrees of freedom when `k` is an integer.\n",
    "\n",
    "In doing this we’ll exploit the fact that, if we take `k` independent standard normals, square them all and sum, we get a chi-squared with `k` degrees of freedom."
   ]
  },
  {
   "cell_type": "markdown",
   "id": "d2646b5c",
   "metadata": {
    "hide-output": false
   },
   "source": [
    "```julia\n",
    "function chisq(k)\n",
    "    @assert k > 0\n",
    "    z = randn(k)\n",
    "    return sum(z -> z^2, z)  # same as `sum(x^2 for x in z)`\n",
    "end\n",
    "```\n"
   ]
  },
  {
   "cell_type": "markdown",
   "id": "37a9415f",
   "metadata": {},
   "source": [
    "The macro `@assert` will check that the next expression evaluates to `true`, and will stop and display an error otherwise."
   ]
  },
  {
   "cell_type": "markdown",
   "id": "eaad7f53",
   "metadata": {
    "hide-output": false
   },
   "source": [
    "```julia\n",
    "chisq(3)\n",
    "```\n"
   ]
  },
  {
   "cell_type": "markdown",
   "id": "0329df75",
   "metadata": {},
   "source": [
    "Note that calls with integers less than 1 will trigger an assertion failure inside\n",
    "the function body."
   ]
  },
  {
   "cell_type": "markdown",
   "id": "ceed74e9",
   "metadata": {
    "hide-output": false
   },
   "source": [
    "```julia\n",
    "chisq(-2)\n",
    "```\n"
   ]
  },
  {
   "cell_type": "markdown",
   "id": "4dbc8978",
   "metadata": {},
   "source": [
    "Let’s try this out on an array of integers, adding the broadcast"
   ]
  },
  {
   "cell_type": "markdown",
   "id": "fcc7273b",
   "metadata": {
    "hide-output": false
   },
   "source": [
    "```julia\n",
    "chisq.([2, 4, 6])\n",
    "```\n"
   ]
  },
  {
   "cell_type": "markdown",
   "id": "ffd2bbb6",
   "metadata": {},
   "source": [
    "The broadcasting notation is not simply vectorization, as it is able to “fuse” multiple broadcasts together to generate efficient code."
   ]
  },
  {
   "cell_type": "markdown",
   "id": "cb14dc3b",
   "metadata": {
    "hide-output": false
   },
   "source": [
    "```julia\n",
    "x = 1.0:1.0:5.0\n",
    "y = [2.0, 4.0, 5.0, 6.0, 8.0]\n",
    "z = similar(y)\n",
    "z .= x .+ y .- sin.(x) # generates efficient code instead of many temporaries\n",
    "```\n"
   ]
  },
  {
   "cell_type": "markdown",
   "id": "b8e0b271",
   "metadata": {},
   "source": [
    "A convenience macro for adding broadcasting on every function call is `@.`"
   ]
  },
  {
   "cell_type": "markdown",
   "id": "4cfae377",
   "metadata": {
    "hide-output": false
   },
   "source": [
    "```julia\n",
    "@. z = x + y - sin(x)\n",
    "```\n"
   ]
  },
  {
   "cell_type": "markdown",
   "id": "dede082d",
   "metadata": {},
   "source": [
    "Since the `+, -, =` operators are functions, behind the scenes this is broadcasting against both the `x` and `y` vectors.\n",
    "\n",
    "The compiler will fix anything which is a scalar, and otherwise iterate across every vector"
   ]
  },
  {
   "cell_type": "markdown",
   "id": "f2bbb38a",
   "metadata": {
    "hide-output": false
   },
   "source": [
    "```julia\n",
    "f(a, b) = a + b # bivariate function\n",
    "a = [1 2 3]\n",
    "b = [4 5 6]\n",
    "@show f.(a, b) # across both\n",
    "@show f.(a, 2); # fix scalar for second\n",
    "```\n"
   ]
  },
  {
   "cell_type": "markdown",
   "id": "b1bee018",
   "metadata": {},
   "source": [
    "The compiler is only able to detect “scalar” values in this way for a limited number of types (e.g. integers, floating points, etc) and some packages (e.g. Distributions).\n",
    "\n",
    "For other types, you will need to wrap any scalars in `Ref` to fix them, or else it will try to broadcast the value.\n",
    "\n",
    "Another place that you may use a `Ref` is to fix a function parameter you do not want to broadcast over."
   ]
  },
  {
   "cell_type": "markdown",
   "id": "7beee663",
   "metadata": {
    "hide-output": false
   },
   "source": [
    "```julia\n",
    "f(x, y) = [1, 2, 3] ⋅ x + y   # \"⋅\" can be typed by \\cdot<tab>\n",
    "f([3, 4, 5], 2)   # uses vector as first parameter\n",
    "f.(Ref([3, 4, 5]), [2, 3])   # broadcasting over 2nd parameter, fixing first\n",
    "```\n"
   ]
  },
  {
   "cell_type": "markdown",
   "id": "6a4b8da4",
   "metadata": {},
   "source": [
    "## Scoping and Closures\n",
    "\n",
    "Since global variables are usually a bad idea, we will concentrate on understanding the role of good local scoping practice.\n",
    "\n",
    "That said, while many of the variables in these Jupyter notebook are global, we have been careful to write the code so that the entire code could be copied inside of a function.\n",
    "\n",
    "When copied inside a function, variables become local and functions become closures.\n",
    "\n",
    "**Warning**.\n",
    "\n",
    "For/while loops and global variables in Jupyter vs. the REPL:\n",
    "\n",
    "- In the current version of Julia, there is a distinction between the use of scope in an interactive Jupyter environment.  \n",
    "- The description here of globals applies to Jupyter notebooks, and may also apply to the REPL and top-level scripts.  \n",
    "- In general, you should be creating functions when working with .jl files, and the distinction generally won’t apply.  \n",
    "\n",
    "\n",
    "For more information on using globals outside of Jupyter,\n",
    "([see variable scoping documentation](https://docs.julialang.org/en/v1/manual/variables-and-scoping/)), though these rules are likely to become consistent in a future version."
   ]
  },
  {
   "cell_type": "markdown",
   "id": "ebc7b518",
   "metadata": {},
   "source": [
    "### Functions\n",
    "\n",
    "The scope of a variable name determines where it is valid to refer to it, and how clashes between names can occur.\n",
    "\n",
    "Think of the scope as a list of all of the name bindings of relevant variables.\n",
    "\n",
    "Different scopes could contain the same name but be assigned to different things.\n",
    "\n",
    "An obvious place to start is to notice that functions introduce their own local names."
   ]
  },
  {
   "cell_type": "markdown",
   "id": "874debe7",
   "metadata": {
    "hide-output": false
   },
   "source": [
    "```julia\n",
    "f(x) = x^2  # local `x` in scope\n",
    "\n",
    "# x is not bound to anything in this outer scope\n",
    "y = 5\n",
    "f(y)\n",
    "```\n"
   ]
  },
  {
   "cell_type": "markdown",
   "id": "405cb515",
   "metadata": {},
   "source": [
    "This would be roughly equivalent to"
   ]
  },
  {
   "cell_type": "markdown",
   "id": "a93b1dff",
   "metadata": {
    "hide-output": false
   },
   "source": [
    "```julia\n",
    "function g() # scope within the `g` function\n",
    "\n",
    "    f(x) = x^2 # local `x` in scope\n",
    "\n",
    "    # x is not bound to anything in this outer scope\n",
    "    y = 5\n",
    "    f(y)\n",
    "end\n",
    "g() # run the function\n",
    "```\n"
   ]
  },
  {
   "cell_type": "markdown",
   "id": "10f5a0f3",
   "metadata": {},
   "source": [
    "This is also equivalent if the `y` was changed to `x`, since it is a different scope."
   ]
  },
  {
   "cell_type": "markdown",
   "id": "6d271c59",
   "metadata": {
    "hide-output": false
   },
   "source": [
    "```julia\n",
    "f(x) = x^2  # local `x` in scope\n",
    "\n",
    "# x is not bound to anything in this outer scope\n",
    "x = 5   # a different `x` than the local variable name\n",
    "f(x)    # calling `f` with `x`\n",
    "```\n"
   ]
  },
  {
   "cell_type": "markdown",
   "id": "6101609e",
   "metadata": {},
   "source": [
    "The scoping also applies to named arguments in functions."
   ]
  },
  {
   "cell_type": "markdown",
   "id": "da00e576",
   "metadata": {
    "hide-output": false
   },
   "source": [
    "```julia\n",
    "f(x; y = 1) = x + y  # `x` and `y` are names local to the `f` function\n",
    "xval = 0.1\n",
    "yval = 2\n",
    "f(xval; y = yval)\n",
    "```\n"
   ]
  },
  {
   "cell_type": "markdown",
   "id": "eb407dda",
   "metadata": {},
   "source": [
    "Due to scoping, you could write this as"
   ]
  },
  {
   "cell_type": "markdown",
   "id": "1b0ed374",
   "metadata": {
    "hide-output": false
   },
   "source": [
    "```julia\n",
    "f(x; y = 1) = x + y  # `x` and `y` are names local to the `f` function\n",
    "x = 0.1\n",
    "y = 2\n",
    "f(x; y = y) # left hand `y` is the local name of the argument in the function\n",
    "```\n"
   ]
  },
  {
   "cell_type": "markdown",
   "id": "e3ea6c81",
   "metadata": {},
   "source": [
    "Similarly to named arguments, the local scope also works with named tuples."
   ]
  },
  {
   "cell_type": "markdown",
   "id": "7458428d",
   "metadata": {
    "hide-output": false
   },
   "source": [
    "```julia\n",
    "xval = 0.1\n",
    "yval = 2\n",
    "@show (x = xval, y = yval)  # named tuple with names `x` and `y`\n",
    "\n",
    "x = 0.1\n",
    "y = 2\n",
    "\n",
    "# create a named tuple with names `x` and `y` local to the tuple, bound to the RHS `x` and `y`\n",
    "(x = x, y = y)\n",
    "```\n"
   ]
  },
  {
   "cell_type": "markdown",
   "id": "dd51407f",
   "metadata": {},
   "source": [
    "As you use Julia, you will find that scoping is very natural and that there is no reason to avoid using `x` and `y` in both places.\n",
    "\n",
    "In fact, it frequently leads to clear code closer to the math when you don’t need to specify intermediaries.\n",
    "\n",
    "Another example is with broadcasting"
   ]
  },
  {
   "cell_type": "markdown",
   "id": "784613be",
   "metadata": {
    "hide-output": false
   },
   "source": [
    "```julia\n",
    "f(x) = x^2  # local `x` in scope\n",
    "\n",
    "x = 1:5     # not an integer\n",
    "\n",
    "f.(x)       # broadcasts the x^2 function over the vector\n",
    "```\n"
   ]
  },
  {
   "cell_type": "markdown",
   "id": "8793cfbd",
   "metadata": {},
   "source": [
    "### Closures\n",
    "\n",
    "Frequently, you will want to have a function that calculates a value given some fixed parameters."
   ]
  },
  {
   "cell_type": "markdown",
   "id": "3f66dc2d",
   "metadata": {
    "hide-output": false
   },
   "source": [
    "```julia\n",
    "f(x, a) = a * x^2\n",
    "\n",
    "f(1, 0.2)\n",
    "```\n"
   ]
  },
  {
   "cell_type": "markdown",
   "id": "31b31dbb",
   "metadata": {},
   "source": [
    "While the above was convenient, there are other times when you want to simply fix a variable or refer to something already calculated."
   ]
  },
  {
   "cell_type": "markdown",
   "id": "1f2f519d",
   "metadata": {
    "hide-output": false
   },
   "source": [
    "```julia\n",
    "a = 0.2\n",
    "f(x) = a * x^2     # refers to the `a` in the outer scope\n",
    "f(1)               # univariate function\n",
    "```\n"
   ]
  },
  {
   "cell_type": "markdown",
   "id": "3d1a05ab",
   "metadata": {},
   "source": [
    "When the function `f` is parsed in Julia, it will look to see if any of the variables are already defined in the current scope.\n",
    "\n",
    "In this case, it finds the `a` since it was defined previously, whereas if the\n",
    "code defines `a = 0.2` **after** the `f(x)` definition, it would fail.\n",
    "\n",
    "This also works when embedded in other functions"
   ]
  },
  {
   "cell_type": "markdown",
   "id": "c50cb8ad",
   "metadata": {
    "hide-output": false
   },
   "source": [
    "```julia\n",
    "function g(a)\n",
    "    f(x) = a * x^2  # refers to the `a` passed in the function\n",
    "    f(1)            # univariate function\n",
    "end\n",
    "g(0.2)\n",
    "```\n"
   ]
  },
  {
   "cell_type": "markdown",
   "id": "901e6faa",
   "metadata": {},
   "source": [
    "Comparing the two:  the key here is not that `a` is a global variable, but rather that the `f` function is defined to capture a variable from an outer scope.\n",
    "\n",
    "This is called a **closure**, and are used throughout the lectures.\n",
    "\n",
    "It is generally bad practice to modify the captured variable in the function, but otherwise the code becomes very clear.\n",
    "\n",
    "One place where this can be helpful is in a string of dependent calculations.\n",
    "\n",
    "For example, if you wanted to calculate a `(a, b, c)` from $ a = f(x), b = g(a), c = h(a, b) $ where $ f(x) = x^2, g(a) = 2 a, h(a, b) = a + b $"
   ]
  },
  {
   "cell_type": "markdown",
   "id": "b6a02006",
   "metadata": {
    "hide-output": false
   },
   "source": [
    "```julia\n",
    "function solvemodel(x)\n",
    "    a = x^2\n",
    "    b = 2 * a\n",
    "    c = a + b\n",
    "    return (a = a, b = b, c = c)  # note local scope of tuples!\n",
    "end\n",
    "\n",
    "solvemodel(0.1)\n",
    "```\n"
   ]
  },
  {
   "cell_type": "markdown",
   "id": "8e4cac02",
   "metadata": {},
   "source": [
    "### Higher-Order Functions\n",
    "\n",
    "One of the benefits of working with closures and functions is that you can return them from other functions.\n",
    "\n",
    "This leads to some natural programming patterns we have already been using, where we can use **functions of functions** and **functions returning functions** (or closures).\n",
    "\n",
    "To see a simple example, consider functions that accept other functions (including closures)"
   ]
  },
  {
   "cell_type": "markdown",
   "id": "d47f8fd4",
   "metadata": {
    "hide-output": false
   },
   "source": [
    "```julia\n",
    "twice(f, x) = f(f(x))  # applies f to itself twice\n",
    "f(x) = x^2\n",
    "@show twice(f, 2.0)\n",
    "\n",
    "twice(x -> x^2, 2.0)\n",
    "a = 5\n",
    "g(x) = a * x\n",
    "@show twice(g, 2.0);   # using a closure\n",
    "```\n"
   ]
  },
  {
   "cell_type": "markdown",
   "id": "e0793712",
   "metadata": {},
   "source": [
    "This pattern has already been used extensively in our code and is key to keeping things like interpolation, numerical integration, and plotting generic.\n",
    "\n",
    "One example of using this in a library is [Expectations.jl](https://github.com/QuantEcon/Expectations.jl), where we can pass a function to the `expectation` function."
   ]
  },
  {
   "cell_type": "markdown",
   "id": "46f34c8e",
   "metadata": {
    "hide-output": false
   },
   "source": [
    "```julia\n",
    "using Expectations, Distributions\n",
    "\n",
    "@show d = Exponential(2.0)\n",
    "\n",
    "f(x) = x^2\n",
    "@show expectation(f, d);  # E(f(x))\n",
    "```\n"
   ]
  },
  {
   "cell_type": "markdown",
   "id": "c310142c",
   "metadata": {},
   "source": [
    "Another example is for a function that returns a closure itself."
   ]
  },
  {
   "cell_type": "markdown",
   "id": "a6344099",
   "metadata": {
    "hide-output": false
   },
   "source": [
    "```julia\n",
    "function multiplyit(a, g)\n",
    "    return x -> a * g(x)  # function with `g` used in the closure\n",
    "end\n",
    "\n",
    "f(x) = x^2\n",
    "h = multiplyit(2.0, f)    # use our quadratic, returns a new function which doubles the result\n",
    "h(2)     # returned function is like any other function\n",
    "```\n"
   ]
  },
  {
   "cell_type": "markdown",
   "id": "82ff90d2",
   "metadata": {},
   "source": [
    "You can create and define using `function` as well"
   ]
  },
  {
   "cell_type": "markdown",
   "id": "2ed48663",
   "metadata": {
    "hide-output": false
   },
   "source": [
    "```julia\n",
    "function snapabove(g, a)\n",
    "    function f(x)\n",
    "        if x > a         # \"a\" is captured in the closure f\n",
    "            return g(x)\n",
    "        else\n",
    "            return g(a)\n",
    "        end\n",
    "    end\n",
    "    return f    # closure with the embedded a\n",
    "end\n",
    "\n",
    "f(x) = x^2\n",
    "h = snapabove(f, 2.0)\n",
    "\n",
    "using Plots\n",
    "gr(fmt=:png);\n",
    "plot(h, 0.0:0.1:3.0)\n",
    "```\n"
   ]
  },
  {
   "cell_type": "markdown",
   "id": "589f8cfa",
   "metadata": {},
   "source": [
    "### Loops\n",
    "\n",
    "The `for` and `while` loops also introduce a local scope, and you can roughly reason about them the same way you would a function/closure.\n",
    "\n",
    "In particular"
   ]
  },
  {
   "cell_type": "markdown",
   "id": "079be349",
   "metadata": {
    "hide-output": false
   },
   "source": [
    "```julia\n",
    "for i in 1:2  # introduces local i\n",
    "    dval1 = i\n",
    "    println(i)\n",
    "end\n",
    "\n",
    "# @show (i, dval1)  # would fail as neither exists in this scope\n",
    "\n",
    "for i in 1:2  # introduces a different local i\n",
    "    println(i)\n",
    "end\n",
    "```\n"
   ]
  },
  {
   "cell_type": "markdown",
   "id": "855450a5",
   "metadata": {},
   "source": [
    "On the other hand just as with closures, if a variable is already defined it will be available in the inner scope."
   ]
  },
  {
   "cell_type": "markdown",
   "id": "828129f0",
   "metadata": {
    "hide-output": false
   },
   "source": [
    "```julia\n",
    "dval2 = 0  # introduces variables\n",
    "for i in 1:2   # introduces local i\n",
    "    dval2 = i  # refers to outer variable\n",
    "end\n",
    "\n",
    "dval2 # still can't refer to `i`\n",
    "```\n"
   ]
  },
  {
   "cell_type": "markdown",
   "id": "4336a59a",
   "metadata": {},
   "source": [
    "Similarly, for while loops"
   ]
  },
  {
   "cell_type": "markdown",
   "id": "45d14c0b",
   "metadata": {
    "hide-output": false
   },
   "source": [
    "```julia\n",
    "val = 1.0\n",
    "tol = 0.002\n",
    "while val > tol\n",
    "    old = val\n",
    "    val = val / 2\n",
    "    difference = val - old\n",
    "end\n",
    "\n",
    "@show val;\n",
    "# @show difference fails, not in scope\n",
    "```\n"
   ]
  },
  {
   "cell_type": "markdown",
   "id": "16767925",
   "metadata": {},
   "source": [
    "### A Quick Check for Scoping Design\n",
    "\n",
    "While we have argued against global variables as poor practice, you may have noticed that in Jupyter notebooks we have been using them throughout.\n",
    "\n",
    "Here, global variables are used in an interactive editor because they are convenient, and not because they are essential to the design of functions.\n",
    "\n",
    "A simple test of the difference is to take a segment of code and wrap it in a function, for example"
   ]
  },
  {
   "cell_type": "markdown",
   "id": "956bdf5f",
   "metadata": {
    "hide-output": false
   },
   "source": [
    "```julia\n",
    "x = 2.0\n",
    "f(y) = x + y\n",
    "z = f(4.0)\n",
    "\n",
    "for i in 1:3\n",
    "    z += i\n",
    "end\n",
    "\n",
    "println(\"z = $z\")\n",
    "```\n"
   ]
  },
  {
   "cell_type": "markdown",
   "id": "685323fb",
   "metadata": {},
   "source": [
    "Here, the `x` and `z` are global variables, the function `f` refers to the global variable `x`, and the global variable `z` is modified in the `for` loop.\n",
    "\n",
    "However, you can simply wrap the entire code in a function"
   ]
  },
  {
   "cell_type": "markdown",
   "id": "f81673f9",
   "metadata": {
    "hide-output": false
   },
   "source": [
    "```julia\n",
    "function wrapped()\n",
    "    x = 2.0\n",
    "    f(y) = x + y\n",
    "    z = f(4.0)\n",
    "\n",
    "    for i in 1:3\n",
    "        z += i\n",
    "    end\n",
    "\n",
    "    println(\"z = $z\")\n",
    "end\n",
    "\n",
    "wrapped()\n",
    "```\n"
   ]
  },
  {
   "cell_type": "markdown",
   "id": "5d27c5fd",
   "metadata": {},
   "source": [
    "Now, there are no global variables.\n",
    "\n",
    "While it is convenient to skip wrapping our code throughout, in general you will want to wrap any performance sensitive code in this way."
   ]
  },
  {
   "cell_type": "markdown",
   "id": "301f798a",
   "metadata": {},
   "source": [
    "## Exercises\n",
    "\n",
    "\n",
    "<a id='pyess-ex1'></a>"
   ]
  },
  {
   "cell_type": "markdown",
   "id": "b78549bf",
   "metadata": {},
   "source": [
    "### Exercise 1\n",
    "\n",
    "Part 1: Given two numeric arrays or tuples `x_vals` and `y_vals` of equal length, compute\n",
    "their inner product using `zip()`.\n",
    "\n",
    "Part 2: Using a comprehension, count the number of even numbers between 0 and 99.\n",
    "\n",
    "- Hint: `iseven` returns `true` for even numbers and `false` for odds.  \n",
    "\n",
    "\n",
    "Part 3: Using a comprehension, take `pairs = ((2, 5), (4, 2), (9, 8), (12, 10))` and count the number of pairs `(a, b)` such that both `a` and `b` are even.\n",
    "\n",
    "\n",
    "<a id='pyess-ex2'></a>"
   ]
  },
  {
   "cell_type": "markdown",
   "id": "80971b12",
   "metadata": {},
   "source": [
    "### Exercise 2\n",
    "\n",
    "Consider the polynomial\n",
    "\n",
    "\n",
    "<a id='equation-polynom0'></a>\n",
    "$$\n",
    "p(x)\n",
    "= a_0 + a_1 x + a_2 x^2 + \\cdots a_n x^n\n",
    "= \\sum_{i=0}^n a_i x^i \\tag{1}\n",
    "$$\n",
    "\n",
    "Using `enumerate()` in your loop, write a function `p` such that `p(x, coeff)` computes the value in [(4.1)](#equation-polynom0) given a point `x` and an array of coefficients `coeff`.\n",
    "\n",
    "\n",
    "<a id='pyess-ex3'></a>"
   ]
  },
  {
   "cell_type": "markdown",
   "id": "bc9c2b2b",
   "metadata": {},
   "source": [
    "### Exercise 3\n",
    "\n",
    "Write a function that takes a string as an argument and returns the number of capital letters in the string.\n",
    "\n",
    "Hint: `uppercase(\"foo\")` returns `\"FOO\"`.\n",
    "\n",
    "\n",
    "<a id='pyess-ex4'></a>"
   ]
  },
  {
   "cell_type": "markdown",
   "id": "cc98bcdd",
   "metadata": {},
   "source": [
    "### Exercise 4\n",
    "\n",
    "Write a function that takes two sequences `seq_a` and `seq_b` as arguments and\n",
    "returns `true` if every element in `seq_a` is also an element of `seq_b`, else\n",
    "`false`.\n",
    "\n",
    "- By “sequence” we mean an array, tuple or string.  \n",
    "\n",
    "\n",
    "\n",
    "<a id='pyess-ex5'></a>"
   ]
  },
  {
   "cell_type": "markdown",
   "id": "ab1ee017",
   "metadata": {},
   "source": [
    "### Exercise 5\n",
    "\n",
    "The Julia libraries include functions for interpolation and approximation.\n",
    "\n",
    "Nevertheless, let’s write our own function approximation routine as an exercise.\n",
    "\n",
    "In particular, write a function `linapprox` that takes as arguments\n",
    "\n",
    "- A function `f` mapping some interval $ [a, b] $ into $ \\mathbb R $.  \n",
    "- two scalars `a` and `b` providing the limits of this interval.  \n",
    "- An integer `n` determining the number of grid points.  \n",
    "- A number `x` satisfying `a ≤ x ≤ b`.  \n",
    "\n",
    "\n",
    "and returns the [piecewise linear interpolation](https://en.wikipedia.org/wiki/Linear_interpolation) of `f` at `x`, based on `n` evenly spaced grid points `a = point[1] < point[2] < ... < point[n] = b`.\n",
    "\n",
    "Aim for clarity, not efficiency.\n",
    "\n",
    "Hint: use the function `range` to linearly space numbers."
   ]
  },
  {
   "cell_type": "markdown",
   "id": "ad5f1f87",
   "metadata": {},
   "source": [
    "### Exercise 6\n",
    "\n",
    "The following data lists US cities and their populations.\n",
    "\n",
    "Copy this text into a text file called `us_cities.txt` and save it in your present working directory.\n",
    "\n",
    "- That is, save it in the location Julia returns when you call `pwd()`.  \n",
    "\n",
    "\n",
    "This can also be achieved by running the following Julia code:"
   ]
  },
  {
   "cell_type": "markdown",
   "id": "9a9b7d48",
   "metadata": {
    "hide-output": false
   },
   "source": [
    "```julia\n",
    "open(\"us_cities.txt\", \"w\") do f\n",
    "  write(f,\n",
    "\"new york: 8244910\n",
    "los angeles: 3819702\n",
    "chicago: 2707120\n",
    "houston: 2145146\n",
    "philadelphia: 1536471\n",
    "phoenix: 1469471\n",
    "san antonio: 1359758\n",
    "san diego: 1326179\n",
    "dallas: 1223229\")\n",
    "end\n",
    "```\n"
   ]
  },
  {
   "cell_type": "markdown",
   "id": "635ed58a",
   "metadata": {},
   "source": [
    "Write a program to calculate total population across these cities.\n",
    "\n",
    "Hints:\n",
    "\n",
    "- If `f` is a file type then `eachline(f)` provides an iterable that steps you through the lines in the file.  \n",
    "- `parse(Int, \"100\")` converts the string `\"100\"` into an integer.  \n",
    "\n",
    "\n",
    "\n",
    "<a id='pyess-ex7'></a>"
   ]
  },
  {
   "cell_type": "markdown",
   "id": "687438d2",
   "metadata": {},
   "source": [
    "### Exercise 7\n",
    "\n",
    "Redo Exercise 5 except\n",
    "\n",
    "1. Pass in a range instead of the `a, b,` and `n`.  Test with a range such as `nodes = -1.0:0.5:1.0`.  \n",
    "1. Instead of the `while` used in the solution to Exercise 5, find a better way to efficiently bracket the `x` in the nodes.  \n",
    "\n",
    "\n",
    "Hints:\n",
    "\n",
    "- Rather than the signature as `function linapprox(f, a, b, n, x)`, it should be called as `function linapprox(f, nodes, x)`.  \n",
    "- `step(nodes), length(nodes), nodes[1]`, and `nodes[end]` may be useful.  \n",
    "- Type `?÷` into jupyter to explore quotients from Euclidean division for more efficient bracketing.  "
   ]
  },
  {
   "cell_type": "markdown",
   "id": "5a2298ef",
   "metadata": {},
   "source": [
    "## Solutions"
   ]
  },
  {
   "cell_type": "markdown",
   "id": "8ef27609",
   "metadata": {},
   "source": [
    "### Exercise 1\n",
    "\n",
    "Part 1 solution:\n",
    "\n",
    "Here’s one possible solution"
   ]
  },
  {
   "cell_type": "markdown",
   "id": "63afa48c",
   "metadata": {
    "hide-output": false
   },
   "source": [
    "```julia\n",
    "x_vals = [1, 2, 3]\n",
    "y_vals = [1, 1, 1]\n",
    "sum(x * y for (x, y) in zip(x_vals, y_vals))\n",
    "```\n"
   ]
  },
  {
   "cell_type": "markdown",
   "id": "a5d93a3b",
   "metadata": {},
   "source": [
    "Part 2 solution:\n",
    "\n",
    "One solution is"
   ]
  },
  {
   "cell_type": "markdown",
   "id": "c1c8a1a1",
   "metadata": {
    "hide-output": false
   },
   "source": [
    "```julia\n",
    "sum(iseven, 0:99)\n",
    "```\n"
   ]
  },
  {
   "cell_type": "markdown",
   "id": "dcb3b841",
   "metadata": {},
   "source": [
    "Part 3 solution:\n",
    "\n",
    "Here’s one possibility"
   ]
  },
  {
   "cell_type": "markdown",
   "id": "86658904",
   "metadata": {
    "hide-output": false
   },
   "source": [
    "```julia\n",
    "pairs = ((2, 5), (4, 2), (9, 8), (12, 10))\n",
    "sum(xy -> all(iseven, xy), pairs)\n",
    "```\n"
   ]
  },
  {
   "cell_type": "markdown",
   "id": "e71f069b",
   "metadata": {},
   "source": [
    "### Exercise 2"
   ]
  },
  {
   "cell_type": "markdown",
   "id": "62e50257",
   "metadata": {
    "hide-output": false
   },
   "source": [
    "```julia\n",
    "p(x, coeff) = sum(a * x^(i-1) for (i, a) in enumerate(coeff))\n",
    "```\n"
   ]
  },
  {
   "cell_type": "markdown",
   "id": "b9e95682",
   "metadata": {
    "hide-output": false
   },
   "source": [
    "```julia\n",
    "p(1, (2, 4))\n",
    "```\n"
   ]
  },
  {
   "cell_type": "markdown",
   "id": "cc8e052f",
   "metadata": {},
   "source": [
    "### Exercise 3\n",
    "\n",
    "Here’s one solutions:"
   ]
  },
  {
   "cell_type": "markdown",
   "id": "055d1c9f",
   "metadata": {
    "hide-output": false
   },
   "source": [
    "```julia\n",
    "function f_ex3(string)\n",
    "    count = 0\n",
    "    for letter in string\n",
    "        if (letter == uppercase(letter)) && isletter(letter)\n",
    "            count += 1\n",
    "        end\n",
    "    end\n",
    "    return count\n",
    "end\n",
    "\n",
    "f_ex3(\"The Rain in Spain\")\n",
    "```\n"
   ]
  },
  {
   "cell_type": "markdown",
   "id": "152a06dd",
   "metadata": {},
   "source": [
    "### Exercise 4\n",
    "\n",
    "Here’s one solutions:"
   ]
  },
  {
   "cell_type": "markdown",
   "id": "15e445c5",
   "metadata": {
    "hide-output": false
   },
   "source": [
    "```julia\n",
    "function f_ex4(seq_a, seq_b)\n",
    "    is_subset = true\n",
    "    for a in seq_a\n",
    "        if a ∉ seq_b\n",
    "            is_subset = false\n",
    "        end\n",
    "    end\n",
    "    return is_subset\n",
    "end\n",
    "\n",
    "# test\n",
    "println(f_ex4([1, 2], [1, 2, 3]))\n",
    "println(f_ex4([1, 2, 3], [1, 2]))\n",
    "```\n"
   ]
  },
  {
   "cell_type": "markdown",
   "id": "fb089707",
   "metadata": {},
   "source": [
    "if we use the Set data type then the solution is easier"
   ]
  },
  {
   "cell_type": "markdown",
   "id": "f7205450",
   "metadata": {
    "hide-output": false
   },
   "source": [
    "```julia\n",
    "f_ex4_2(seq_a, seq_b) = Set(seq_a) ⊆ Set(seq_b) # \\subseteq (⊆) is unicode for `issubset`\n",
    "\n",
    "println(f_ex4_2([1, 2], [1, 2, 3]))\n",
    "println(f_ex4_2([1, 2, 3], [1, 2]))\n",
    "```\n"
   ]
  },
  {
   "cell_type": "markdown",
   "id": "7320a541",
   "metadata": {},
   "source": [
    "### Exercise 5"
   ]
  },
  {
   "cell_type": "markdown",
   "id": "d0bce35d",
   "metadata": {
    "hide-output": false
   },
   "source": [
    "```julia\n",
    "function linapprox(f, a, b, n, x)\n",
    "    # evaluates the piecewise linear interpolant of f at x,\n",
    "    # on the interval [a, b], with n evenly spaced grid points.\n",
    "\n",
    "    length_of_interval = b - a\n",
    "    num_subintervals = n - 1\n",
    "    step = length_of_interval / num_subintervals\n",
    "\n",
    "    # find first grid point larger than x\n",
    "    point = a\n",
    "    while point ≤ x\n",
    "        point += step\n",
    "    end\n",
    "\n",
    "    # x must lie between the gridpoints (point - step) and point\n",
    "    u, v = point - step, point\n",
    "\n",
    "    return f(u) + (x - u) * (f(v) - f(u)) / (v - u)\n",
    "end\n",
    "```\n"
   ]
  },
  {
   "cell_type": "markdown",
   "id": "a242975e",
   "metadata": {},
   "source": [
    "Let’s test it"
   ]
  },
  {
   "cell_type": "markdown",
   "id": "a0be5860",
   "metadata": {
    "hide-output": false
   },
   "source": [
    "```julia\n",
    "f_ex5(x) = x^2\n",
    "g_ex5(x) = linapprox(f_ex5, -1, 1, 3, x)\n",
    "```\n"
   ]
  },
  {
   "cell_type": "markdown",
   "id": "e9cf506d",
   "metadata": {
    "hide-output": false
   },
   "source": [
    "```julia\n",
    "x_grid = range(-1.0, 1.0, length = 100)\n",
    "y_vals = f_ex5.(x_grid)\n",
    "y = g_ex5.(x_grid)\n",
    "plot(x_grid, y_vals, label = \"true\")\n",
    "plot!(x_grid, y, label = \"approximation\")\n",
    "```\n"
   ]
  },
  {
   "cell_type": "markdown",
   "id": "e0a559aa",
   "metadata": {},
   "source": [
    "### Exercise 6"
   ]
  },
  {
   "cell_type": "markdown",
   "id": "27ab1b5b",
   "metadata": {
    "hide-output": false
   },
   "source": [
    "```julia\n",
    "f_ex6 = open(\"us_cities.txt\", \"r\")\n",
    "total_pop = 0\n",
    "for line in eachline(f_ex6)\n",
    "    city, population = split(line, ':')  # tuple unpacking\n",
    "    total_pop += parse(Int, population)\n",
    "end\n",
    "close(f_ex6)\n",
    "println(\"Total population = $total_pop\")\n",
    "```\n"
   ]
  }
 ],
 "metadata": {
  "date": 1629257173.4194667,
  "filename": "julia_essentials.md",
  "kernelspec": {
   "display_name": "Julia",
   "language": "julia",
   "name": "julia"
  },
  "title": "Julia Essentials"
 },
 "nbformat": 4,
 "nbformat_minor": 5
}