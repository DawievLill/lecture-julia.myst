{
 "cells": [
  {
   "cell_type": "markdown",
   "id": "fc81e6d6",
   "metadata": {},
   "source": [
    "\n",
    "<a id='julia-environment'></a>"
   ]
  },
  {
   "cell_type": "markdown",
   "id": "b127f459",
   "metadata": {},
   "source": [
    "# Interacting with Julia"
   ]
  },
  {
   "cell_type": "markdown",
   "id": "9e290a8d",
   "metadata": {},
   "source": [
    "## Contents\n",
    "\n",
    "- [Interacting with Julia](#Interacting-with-Julia)  \n",
    "  - [Overview](#Overview)  \n",
    "  - [Using Jupyter](#Using-Jupyter)  \n",
    "  - [Using the REPL](#Using-the-REPL)  "
   ]
  },
  {
   "cell_type": "markdown",
   "id": "452f10e4",
   "metadata": {},
   "source": [
    "## Overview\n",
    "\n",
    "In this lecture we’ll start examining different features of the Julia and Jupyter environments."
   ]
  },
  {
   "cell_type": "markdown",
   "id": "9ef8245b",
   "metadata": {},
   "source": [
    "## Using Jupyter\n",
    "\n",
    "\n",
    "<a id='ipython-notebook'></a>"
   ]
  },
  {
   "cell_type": "markdown",
   "id": "34ca75c8",
   "metadata": {},
   "source": [
    "### Getting Started\n",
    "\n",
    "Recall that the easiest way to get started with these notebooks is to follow the [cloning instructions](https://julia.quantecon.org/getting_started.html#clone-lectures) earlier.\n",
    "\n",
    "Assuming you have Jupyter installed and in your path, `cd` to the folder location in a terminal, and run"
   ]
  },
  {
   "cell_type": "markdown",
   "id": "3af0ee5a",
   "metadata": {
    "hide-output": false
   },
   "source": [
    "```text\n",
    "jupyter lab\n",
    "```\n"
   ]
  },
  {
   "cell_type": "markdown",
   "id": "32521fc9",
   "metadata": {},
   "source": [
    "Your web browser should open to a page that looks something like this\n",
    "\n",
    "![https://julia.quantecon.org/_static/figures/starting_nb_julia.png](https://julia.quantecon.org/_static/figures/starting_nb_julia.png)\n",
    "\n",
    "  \n",
    "The page you are looking at is called the “dashboard”.\n",
    "\n",
    "If you click on “Julia 1.x.x” you should have the option to start a Julia notebook.\n",
    "\n",
    "Here’s what your Julia notebook should look like\n",
    "\n",
    "![https://julia.quantecon.org/_static/figures/nb2_julia.png](https://julia.quantecon.org/_static/figures/nb2_julia.png)\n",
    "\n",
    "  \n",
    "The notebook displays an *active cell*, into which you can type Julia commands."
   ]
  },
  {
   "cell_type": "markdown",
   "id": "fa63f3cf",
   "metadata": {},
   "source": [
    "### Notebook Basics\n",
    "\n",
    "Notice that in the previous figure the cell is surrounded by a blue border.\n",
    "\n",
    "This means that the cell is selected, and double-clicking will place it in edit mode.\n",
    "\n",
    "As a result, you can type in Julia code and it will appear in the cell.\n",
    "\n",
    "When you’re ready to execute these commands, hit `Shift-Enter`\n",
    "\n",
    "![https://julia.quantecon.org/_static/figures/nb3_julia.png](https://julia.quantecon.org/_static/figures/nb3_julia.png)"
   ]
  },
  {
   "cell_type": "markdown",
   "id": "87dd1b18",
   "metadata": {},
   "source": [
    "#### Modal Editing\n",
    "\n",
    "The next thing to understand about the Jupyter notebook is that it uses a *modal* editing system.\n",
    "\n",
    "This means that the effect of typing at the keyboard **depends on which mode you are in**.\n",
    "\n",
    "The two modes are\n",
    "\n",
    "1. Edit mode  \n",
    "  - Indicated by a green border around one cell, as in the pictures above.  \n",
    "  - Whatever you type appears as is in that cell.  \n",
    "1. Command mode  \n",
    "  - The green border is replaced by a blue border.  \n",
    "  - Key strokes are interpreted as commands — for example, typing b adds a new cell below  the current one.  \n",
    "\n",
    "\n",
    "(To learn about other commands available in command mode, go to “Keyboard Shortcuts” in the “Help” menu)"
   ]
  },
  {
   "cell_type": "markdown",
   "id": "75b7fd30",
   "metadata": {},
   "source": [
    "#### Switching modes\n",
    "\n",
    "- To switch to command mode from edit mode, hit the `Esc` key.  \n",
    "- To switch to edit mode from command mode, hit `Enter` or click in a cell.  \n",
    "\n",
    "\n",
    "The modal behavior of the Jupyter notebook is a little tricky at first but very efficient when you get used to it."
   ]
  },
  {
   "cell_type": "markdown",
   "id": "48975de2",
   "metadata": {},
   "source": [
    "#### Working with Files\n",
    "\n",
    "To run an existing Julia file using the notebook you can copy and paste the contents into a cell in the notebook.\n",
    "\n",
    "If it’s a long file, however, you have the alternative of\n",
    "\n",
    "1. Saving the file in your **present working directory**.  \n",
    "1. Executing `include(\"filename\")` in a cell.  \n",
    "\n",
    "\n",
    "The present working directory can be found by executing the command `pwd()`."
   ]
  },
  {
   "cell_type": "markdown",
   "id": "79a89942",
   "metadata": {},
   "source": [
    "#### Plots\n",
    "\n",
    "Note that if you’re using a JupyterHub setup, you will need to first run\n",
    "\n",
    "in a new cell (i.e., `Shift + Enter`).\n",
    "\n",
    "This might take 15-20 minutes depending on your setup, as it installs a large set of packages for our use.\n",
    "\n",
    "Run the following cell"
   ]
  },
  {
   "cell_type": "code",
   "execution_count": null,
   "id": "d8b0750d",
   "metadata": {
    "hide-output": false
   },
   "outputs": [],
   "source": [
    "using Plots\n",
    "gr(fmt=:png);\n",
    "plot(sin, -2π, 2π, label=\"sin(x)\")"
   ]
  },
  {
   "cell_type": "markdown",
   "id": "bbed2ff4",
   "metadata": {},
   "source": [
    "You’ll see something like this (although the style of plot depends on your\n",
    "installation)\n",
    "\n",
    "![https://julia.quantecon.org/_static/figures/nb4_julia.png](https://julia.quantecon.org/_static/figures/nb4_julia.png)\n",
    "\n",
    "  \n",
    "**Note**: The “time-to-first-plot” in Julia takes a while, since it needs to compile many functions - but is almost instantaneous the second time you run the cell."
   ]
  },
  {
   "cell_type": "markdown",
   "id": "032742ab",
   "metadata": {},
   "source": [
    "### Working with the Notebook\n",
    "\n",
    "Let’s go over some more Jupyter notebook features — enough so that we can press ahead with programming."
   ]
  },
  {
   "cell_type": "markdown",
   "id": "48d99571",
   "metadata": {},
   "source": [
    "#### Tab Completion\n",
    "\n",
    "Tab completion in Jupyter makes it easy to find Julia commands and functions available.\n",
    "\n",
    "For example if you type `rep` and hit the tab key you’ll get a list of all\n",
    "commands that start with `rep`\n",
    "\n",
    "![https://julia.quantecon.org/_static/figures/nb5_julia.png](https://julia.quantecon.org/_static/figures/nb5_julia.png)\n",
    "\n",
    "  \n",
    "\n",
    "<a id='gs-help'></a>"
   ]
  },
  {
   "cell_type": "markdown",
   "id": "931768fe",
   "metadata": {},
   "source": [
    "#### Getting Help\n",
    "\n",
    "To get help on the Julia function such as `repeat`, enter `? repeat`.\n",
    "\n",
    "Documentation should now appear in the browser\n",
    "\n",
    "![https://julia.quantecon.org/_static/figures/repeatexample.png](https://julia.quantecon.org/_static/figures/repeatexample.png)"
   ]
  },
  {
   "cell_type": "markdown",
   "id": "0ae68bca",
   "metadata": {},
   "source": [
    "#### Other Content\n",
    "\n",
    "In addition to executing code, the Jupyter notebook allows you to embed text, equations, figures and even videos in the page.\n",
    "\n",
    "For example, here we enter a mixture of plain text and LaTeX instead of code\n",
    "\n",
    "![https://julia.quantecon.org/_static/figures/nb6_julia.png](https://julia.quantecon.org/_static/figures/nb6_julia.png)\n",
    "\n",
    "  \n",
    "Next we `Esc` to enter command mode and then type `m` to indicate that we\n",
    "are writing [Markdown](http://daringfireball.net/projects/markdown/), a mark-up language similar to (but simpler than) LaTeX.\n",
    "\n",
    "(You can also use your mouse to select `Markdown` from the `Code` drop-down box just below the list of menu items)\n",
    "\n",
    "Now we `Shift + Enter` to produce this\n",
    "\n",
    "![https://julia.quantecon.org/_static/figures/nb7_julia.png](https://julia.quantecon.org/_static/figures/nb7_julia.png)"
   ]
  },
  {
   "cell_type": "markdown",
   "id": "607bca04",
   "metadata": {},
   "source": [
    "#### Inserting unicode (e.g. Greek letters)\n",
    "\n",
    "Julia supports the use of [unicode characters](https://docs.julialang.org/en/v1/manual/unicode-input/)\n",
    "such as `α` and `β` in your code.\n",
    "\n",
    "Unicode characters can be typed quickly in Jupyter using the `tab` key.\n",
    "\n",
    "Try creating a new code cell and typing `\\alpha`, then hitting the `tab` key on your keyboard."
   ]
  },
  {
   "cell_type": "markdown",
   "id": "fb8acfb3",
   "metadata": {},
   "source": [
    "#### Shell Commands\n",
    "\n",
    "You can execute shell commands (system commands) in Jupyter by prepending a semicolon.\n",
    "\n",
    "For example, `; ls` will execute the UNIX style shell command `ls`,\n",
    "which — at least for UNIX style operating systems — lists the\n",
    "contents of the current working directory.\n",
    "\n",
    "These shell commands are handled by your default system shell and hence are platform specific."
   ]
  },
  {
   "cell_type": "markdown",
   "id": "0251d824",
   "metadata": {},
   "source": [
    "#### Package Operations\n",
    "\n",
    "You can execute package operations in the notebook by prepending a `]`.\n",
    "\n",
    "For example, `] st` will give the status of installed packages in the current environment.\n",
    "\n",
    "**Note**: Cells where you use `;` and `]` must not have any other instructions in them (i.e., they should be one-liners)."
   ]
  },
  {
   "cell_type": "markdown",
   "id": "f682e765",
   "metadata": {},
   "source": [
    "### Sharing Notebooks\n",
    "\n",
    "Notebook files are just text files structured in [JSON](https://en.wikipedia.org/wiki/JSON) and typically end with `.ipynb`.\n",
    "\n",
    "A notebook can easily be saved and shared between users — you just need to\n",
    "pass around the `ipynb` file.\n",
    "\n",
    "To open an existing `ipynb` file, import it from the dashboard (the first\n",
    "browser page that opens when you start Jupyter notebook) and run the cells or edit as discussed above.\n",
    "\n",
    "The Jupyter organization has a site for sharing notebooks called [nbviewer](http://nbviewer.jupyter.org/)\n",
    "which provides a static HTML representations of notebooks.\n",
    "\n",
    "QuantEcon also hosts the [QuantEcon Notes](http://notes.quantecon.org/) website, where you can upload and share your notebooks with other economists and the QuantEcon community.\n",
    "\n",
    "\n",
    "<a id='julia-repl'></a>"
   ]
  },
  {
   "cell_type": "markdown",
   "id": "9bc188cb",
   "metadata": {},
   "source": [
    "## Using the REPL\n",
    "\n",
    "As we saw in the [desktop installation](https://julia.quantecon.org/getting_started.html#intro-repl), the REPL is a Julia specific terminal.\n",
    "\n",
    "It becomes increasingly important as you learn Julia, and you will find it to be a useful tool for interacting with Julia and installing packages.\n",
    "\n",
    "As a reminder, to open the REPL on your desktop, either\n",
    "\n",
    "1. Navigating to Julia through your menus or desktop icons (Windows, Mac), or  \n",
    "1. Opening a terminal and typing `julia` (Linux)  \n",
    "\n",
    "\n",
    "If you are using a JupyterHub installation, you can start the REPL in JupyterLab by choosing\n",
    "\n",
    "1. Choose “New Launcher”  \n",
    "1. Choose a `Julia` Console  \n",
    "\n",
    "\n",
    "We examine the REPL and its different modes in more detail in the [tools and editors](https://julia.quantecon.org/../software_engineering/tools_editors.html#repl-main) lecture."
   ]
  }
 ],
 "metadata": {
  "date": 1629855403.1342237,
  "filename": "julia_environment.md",
  "kernelspec": {
   "display_name": "Julia",
   "language": "julia",
   "name": "julia-1.6"
  },
  "title": "Interacting with Julia"
 },
 "nbformat": 4,
 "nbformat_minor": 5
}