{
 "cells": [
  {
   "cell_type": "markdown",
   "id": "2df0aeca",
   "metadata": {},
   "source": [
    "\n",
    "<a id='types-methods'></a>"
   ]
  },
  {
   "cell_type": "markdown",
   "id": "aeb956b1",
   "metadata": {},
   "source": [
    "# The Need for Speed"
   ]
  },
  {
   "cell_type": "markdown",
   "id": "87de00cc",
   "metadata": {},
   "source": [
    "## Contents\n",
    "\n",
    "- [The Need for Speed](#The-Need-for-Speed)  \n",
    "  - [Overview](#Overview)  \n",
    "  - [Understanding Multiple Dispatch in Julia](#Understanding-Multiple-Dispatch-in-Julia)  \n",
    "  - [Foundations](#Foundations)  \n",
    "  - [JIT Compilation in Julia](#JIT-Compilation-in-Julia)  \n",
    "  - [Fast and Slow Julia Code](#Fast-and-Slow-Julia-Code)  \n",
    "  - [Further Comments](#Further-Comments)  "
   ]
  },
  {
   "cell_type": "markdown",
   "id": "8a4d84d7",
   "metadata": {},
   "source": [
    "## Overview\n",
    "\n",
    "Computer scientists often classify programming languages according to the following two categories.\n",
    "\n",
    "*High level languages* aim to maximize productivity by\n",
    "\n",
    "- being easy to read, write and debug  \n",
    "- automating standard tasks (e.g., memory management)  \n",
    "- being interactive, etc.  \n",
    "\n",
    "\n",
    "*Low level languages* aim for speed and control, which they achieve by\n",
    "\n",
    "- being closer to the metal (direct access to CPU, memory, etc.)  \n",
    "- requiring a relatively large amount of information from the user (e.g., all data types must be specified)  \n",
    "\n",
    "\n",
    "Traditionally we understand this as a trade off\n",
    "\n",
    "- high productivity or high performance  \n",
    "- optimized for humans or optimized for machines  \n",
    "\n",
    "\n",
    "One of the great strengths of Julia is that it pushes out the curve, achieving\n",
    "both high productivity and high performance with relatively little fuss.\n",
    "\n",
    "The word “relatively” is important here, however…\n",
    "\n",
    "In simple programs, excellent performance is often trivial to achieve.\n",
    "\n",
    "For longer, more sophisticated programs, you need to be aware of potential stumbling blocks.\n",
    "\n",
    "This lecture covers the key points."
   ]
  },
  {
   "cell_type": "markdown",
   "id": "205441f9",
   "metadata": {},
   "source": [
    "### Requirements\n",
    "\n",
    "You should read our [earlier lecture](https://julia.quantecon.org/generic_programming.html) on types, methods and multiple dispatch before this one."
   ]
  },
  {
   "cell_type": "markdown",
   "id": "5ed8ab85",
   "metadata": {
    "hide-output": false
   },
   "source": [
    "```julia\n",
    "using LinearAlgebra, Statistics\n",
    "```\n"
   ]
  },
  {
   "cell_type": "markdown",
   "id": "87d0ccd6",
   "metadata": {},
   "source": [
    "## Understanding Multiple Dispatch in Julia\n",
    "\n",
    "This section provides more background on how methods, functions, and types are connected."
   ]
  },
  {
   "cell_type": "markdown",
   "id": "502da6f4",
   "metadata": {},
   "source": [
    "### Methods and Functions\n",
    "\n",
    "The precise data type is important, for reasons of both efficiency and mathematical correctness.\n",
    "\n",
    "For example consider 1 + 1 vs. 1.0 + 1.0 or [1 0] + [0 1].\n",
    "\n",
    "On a CPU, integer and floating point addition are different things, using a different set of instructions.\n",
    "\n",
    "Julia handles this problem by storing multiple, specialized versions of functions like addition, one for each data type or set of data types.\n",
    "\n",
    "These individual specialized versions are called **methods**.\n",
    "\n",
    "When an operation like addition is requested, the Julia compiler inspects the type of data to be acted on and hands it out to the appropriate method.\n",
    "\n",
    "This process is called **multiple dispatch**.\n",
    "\n",
    "Like all “infix” operators, 1 + 1 has the alternative syntax +(1, 1)"
   ]
  },
  {
   "cell_type": "markdown",
   "id": "929fd16b",
   "metadata": {
    "hide-output": false
   },
   "source": [
    "```julia\n",
    "+(1, 1)\n",
    "```\n"
   ]
  },
  {
   "cell_type": "markdown",
   "id": "d8652e47",
   "metadata": {},
   "source": [
    "This operator + is itself a function with multiple methods.\n",
    "\n",
    "We can investigate them using the @which macro, which shows the method to which a given call is dispatched"
   ]
  },
  {
   "cell_type": "markdown",
   "id": "2ffe7ab2",
   "metadata": {
    "hide-output": false
   },
   "source": [
    "```julia\n",
    "x, y = 1.0, 1.0\n",
    "@which +(x, y)\n",
    "```\n"
   ]
  },
  {
   "cell_type": "markdown",
   "id": "f70efd72",
   "metadata": {},
   "source": [
    "We see that the operation is sent to the `+` method that specializes in adding\n",
    "floating point numbers.\n",
    "\n",
    "Here’s the integer case"
   ]
  },
  {
   "cell_type": "markdown",
   "id": "8e7207e4",
   "metadata": {
    "hide-output": false
   },
   "source": [
    "```julia\n",
    "x, y = 1, 1\n",
    "@which +(x, y)\n",
    "```\n"
   ]
  },
  {
   "cell_type": "markdown",
   "id": "937915c0",
   "metadata": {},
   "source": [
    "This output says that the call has been dispatched to the + method\n",
    "responsible for handling integer values.\n",
    "\n",
    "(We’ll learn more about the details of this syntax below)\n",
    "\n",
    "Here’s another example, with complex numbers"
   ]
  },
  {
   "cell_type": "markdown",
   "id": "36161320",
   "metadata": {
    "hide-output": false
   },
   "source": [
    "```julia\n",
    "x, y = 1.0 + 1.0im, 1.0 + 1.0im\n",
    "@which +(x, y)\n",
    "```\n"
   ]
  },
  {
   "cell_type": "markdown",
   "id": "769148c9",
   "metadata": {},
   "source": [
    "Again, the call has been dispatched to a + method specifically designed for handling the given data type."
   ]
  },
  {
   "cell_type": "markdown",
   "id": "85a7ba1c",
   "metadata": {},
   "source": [
    "#### Adding Methods\n",
    "\n",
    "It’s straightforward to add methods to existing functions.\n",
    "\n",
    "For example, we can’t at present add an integer and a string in Julia (i.e. `100 + \"100\"` is not valid syntax).\n",
    "\n",
    "This is sensible behavior, but if you want to change it there’s nothing to stop you."
   ]
  },
  {
   "cell_type": "markdown",
   "id": "5abcb9a4",
   "metadata": {
    "hide-output": false
   },
   "source": [
    "```julia\n",
    "import Base: +  # enables adding methods to the + function\n",
    "\n",
    "+(x::Integer, y::String) = x + parse(Int, y)\n",
    "\n",
    "@show +(100, \"100\")\n",
    "@show 100 + \"100\";  # equivalent\n",
    "```\n"
   ]
  },
  {
   "cell_type": "markdown",
   "id": "eaead50d",
   "metadata": {},
   "source": [
    "### Understanding the Compilation Process\n",
    "\n",
    "We can now be a little bit clearer about what happens when you call a function on given types.\n",
    "\n",
    "Suppose we execute the function call `f(a, b)` where `a` and `b`\n",
    "are of concrete types `S` and `T` respectively.\n",
    "\n",
    "The Julia interpreter first queries the types of `a` and `b` to obtain the tuple `(S, T)`.\n",
    "\n",
    "It then parses the list of methods belonging to `f`, searching for a match.\n",
    "\n",
    "If it finds a method matching `(S, T)` it calls that method.\n",
    "\n",
    "If not, it looks to see whether the pair `(S, T)` matches any method defined for *immediate parent types*.\n",
    "\n",
    "For example, if `S` is `Float64` and `T` is `ComplexF32` then the\n",
    "immediate parents are `AbstractFloat` and `Number` respectively"
   ]
  },
  {
   "cell_type": "markdown",
   "id": "21bc0ee3",
   "metadata": {
    "hide-output": false
   },
   "source": [
    "```julia\n",
    "supertype(Float64)\n",
    "```\n"
   ]
  },
  {
   "cell_type": "markdown",
   "id": "608c6cd6",
   "metadata": {
    "hide-output": false
   },
   "source": [
    "```julia\n",
    "supertype(ComplexF32)\n",
    "```\n"
   ]
  },
  {
   "cell_type": "markdown",
   "id": "5876b46f",
   "metadata": {},
   "source": [
    "Hence the interpreter looks next for a method of the form `f(x::AbstractFloat, y::Number)`.\n",
    "\n",
    "If the interpreter can’t find a match in immediate parents (supertypes) it proceeds up the tree, looking at the parents of the last type it checked at each iteration.\n",
    "\n",
    "- If it eventually finds a matching method, it invokes that method.  \n",
    "- If not, we get an error.  \n",
    "\n",
    "\n",
    "This is the process that leads to the following error (since we only added the `+` for adding `Integer` and `String` above)"
   ]
  },
  {
   "cell_type": "markdown",
   "id": "1a353d75",
   "metadata": {
    "hide-output": false
   },
   "source": [
    "```julia\n",
    "@show (typeof(100.0) <: Integer) == false\n",
    "100.0 + \"100\"\n",
    "```\n"
   ]
  },
  {
   "cell_type": "markdown",
   "id": "a497cfbc",
   "metadata": {},
   "source": [
    "Because the dispatch procedure starts from concrete types and works upwards, dispatch always invokes the *most specific method* available.\n",
    "\n",
    "For example, if you have methods for function `f` that handle\n",
    "\n",
    "1. `(Float64, Int64)` pairs  \n",
    "1. `(Number, Number)` pairs  \n",
    "\n",
    "\n",
    "and you call `f` with `f(0.5, 1)` then the first method will be invoked.\n",
    "\n",
    "This makes sense because (hopefully) the first method is optimized for\n",
    "exactly this kind of data.\n",
    "\n",
    "The second method is probably more of a “catch all” method that handles other\n",
    "data in a less optimal way.\n",
    "\n",
    "Here’s another simple example, involving a user-defined function"
   ]
  },
  {
   "cell_type": "markdown",
   "id": "bac3f08d",
   "metadata": {
    "hide-output": false
   },
   "source": [
    "```julia\n",
    "function q(x)  # or q(x::Any)\n",
    "    println(\"Default (Any) method invoked\")\n",
    "end\n",
    "\n",
    "function q(x::Number)\n",
    "    println(\"Number method invoked\")\n",
    "end\n",
    "\n",
    "function q(x::Integer)\n",
    "    println(\"Integer method invoked\")\n",
    "end\n",
    "```\n"
   ]
  },
  {
   "cell_type": "markdown",
   "id": "34f542de",
   "metadata": {},
   "source": [
    "Let’s now run this and see how it relates to our discussion of method dispatch\n",
    "above"
   ]
  },
  {
   "cell_type": "markdown",
   "id": "5ed525d7",
   "metadata": {
    "hide-output": false
   },
   "source": [
    "```julia\n",
    "q(3)\n",
    "```\n"
   ]
  },
  {
   "cell_type": "markdown",
   "id": "3e0b83c8",
   "metadata": {
    "hide-output": false
   },
   "source": [
    "```julia\n",
    "q(3.0)\n",
    "```\n"
   ]
  },
  {
   "cell_type": "markdown",
   "id": "4e089d8c",
   "metadata": {
    "hide-output": false
   },
   "source": [
    "```julia\n",
    "q(\"foo\")\n",
    "```\n"
   ]
  },
  {
   "cell_type": "markdown",
   "id": "ff69d0a7",
   "metadata": {},
   "source": [
    "Since `typeof(3) <: Int64 <: Integer <: Number`, the call `q(3)` proceeds up the tree to `Integer` and invokes `q(x::Integer)`.\n",
    "\n",
    "On the other hand, `3.0` is a `Float64`, which is not a subtype of  `Integer`.\n",
    "\n",
    "Hence the call `q(3.0)` continues up to `q(x::Number)`.\n",
    "\n",
    "Finally, `q(\"foo\")` is handled by the function operating on `Any`, since `String` is not a subtype of `Number` or `Integer`."
   ]
  },
  {
   "cell_type": "markdown",
   "id": "39d63b42",
   "metadata": {},
   "source": [
    "### Analyzing Function Return Types\n",
    "\n",
    "For the most part, time spent “optimizing” Julia code to run faster is about ensuring the compiler can correctly deduce types for all functions.\n",
    "\n",
    "The macro `@code_warntype` gives us a hint"
   ]
  },
  {
   "cell_type": "markdown",
   "id": "ac723a24",
   "metadata": {
    "hide-output": false
   },
   "source": [
    "```julia\n",
    "x = [1, 2, 3]\n",
    "f(x) = 2x\n",
    "@code_warntype f(x)\n",
    "```\n"
   ]
  },
  {
   "cell_type": "markdown",
   "id": "aeed3edd",
   "metadata": {},
   "source": [
    "The `@code_warntype` macro compiles `f(x)` using the type of `x` as an example – i.e., the `[1, 2, 3]` is used as a prototype for analyzing the compilation, rather than simply calculating the value.\n",
    "\n",
    "Here, the `Body::Array{Int64,1}` tells us the type of the return value of the\n",
    "function, when called with types like `[1, 2, 3]`, is always a vector of integers.\n",
    "\n",
    "In contrast, consider a function potentially returning `nothing`, as in [this lecture](https://julia.quantecon.org/../getting_started_julia/fundamental_types.html)"
   ]
  },
  {
   "cell_type": "markdown",
   "id": "c69c2b01",
   "metadata": {
    "hide-output": false
   },
   "source": [
    "```julia\n",
    "f(x) = x > 0.0 ? x : nothing\n",
    "@code_warntype f(1)\n",
    "```\n"
   ]
  },
  {
   "cell_type": "markdown",
   "id": "ccbc4ba0",
   "metadata": {},
   "source": [
    "This states that the compiler determines the return type when called with an integer (like `1`) could be one of two different types, `Body::Union{Nothing, Int64}`.\n",
    "\n",
    "A final example is a variation on the above, which returns the maximum of `x` and `0`."
   ]
  },
  {
   "cell_type": "markdown",
   "id": "e9da41b8",
   "metadata": {
    "hide-output": false
   },
   "source": [
    "```julia\n",
    "f(x) = x > 0.0 ? x : 0.0\n",
    "@code_warntype f(1)\n",
    "```\n"
   ]
  },
  {
   "cell_type": "markdown",
   "id": "90a0826f",
   "metadata": {},
   "source": [
    "Which shows that, when called with an integer, the type could be that integer or the floating point `0.0`.\n",
    "\n",
    "On the other hand, if we use change the function to return `0` if x <= 0, it is type-unstable with  floating point."
   ]
  },
  {
   "cell_type": "markdown",
   "id": "d9b53a06",
   "metadata": {
    "hide-output": false
   },
   "source": [
    "```julia\n",
    "f(x) = x > 0.0 ? x : 0\n",
    "@code_warntype f(1.0)\n",
    "```\n"
   ]
  },
  {
   "cell_type": "markdown",
   "id": "c49a381a",
   "metadata": {},
   "source": [
    "The solution is to use the `zero(x)` function which returns the additive identity element of type `x`.\n",
    "\n",
    "On the other hand, if we change the function to return `0` if `x <= 0`, it is type-unstable with  floating point."
   ]
  },
  {
   "cell_type": "markdown",
   "id": "5eae716a",
   "metadata": {
    "hide-output": false
   },
   "source": [
    "```julia\n",
    "@show zero(2.3)\n",
    "@show zero(4)\n",
    "@show zero(2.0 + 3im)\n",
    "\n",
    "f(x) = x > 0.0 ? x : zero(x)\n",
    "@code_warntype f(1.0)\n",
    "```\n"
   ]
  },
  {
   "cell_type": "markdown",
   "id": "226ee105",
   "metadata": {},
   "source": [
    "## Foundations\n",
    "\n",
    "Let’s think about how quickly code runs, taking as given\n",
    "\n",
    "- hardware configuration  \n",
    "- algorithm (i.e., set of instructions to be executed)  \n",
    "\n",
    "\n",
    "We’ll start by discussing the kinds of instructions that machines understand."
   ]
  },
  {
   "cell_type": "markdown",
   "id": "e14b076f",
   "metadata": {},
   "source": [
    "### Machine Code\n",
    "\n",
    "All instructions for computers end up as *machine code*.\n",
    "\n",
    "Writing fast code — expressing a given algorithm so that it runs quickly — boils down to producing efficient machine code.\n",
    "\n",
    "You can do this yourself, by hand, if you want to.\n",
    "\n",
    "Typically this is done by writing [assembly](https://en.wikipedia.org/wiki/Assembly_language), which is a symbolic representation of machine code.\n",
    "\n",
    "Here’s some assembly code implementing a function that takes arguments $ a, b $ and returns $ 2a + 8b $"
   ]
  },
  {
   "cell_type": "markdown",
   "id": "0938fb7b",
   "metadata": {
    "hide-output": false
   },
   "source": [
    "```asm\n",
    "    pushq   %rbp\n",
    "    movq    %rsp, %rbp\n",
    "    addq    %rdi, %rdi\n",
    "    leaq    (%rdi,%rsi,8), %rax\n",
    "    popq    %rbp\n",
    "    retq\n",
    "    nopl    (%rax)\n",
    "```\n"
   ]
  },
  {
   "cell_type": "markdown",
   "id": "ab1ef617",
   "metadata": {},
   "source": [
    "Note that this code is specific to one particular piece of hardware that we use — different machines require different machine code.\n",
    "\n",
    "If you ever feel tempted to start rewriting your economic model in assembly, please restrain yourself.\n",
    "\n",
    "It’s far more sensible to give these instructions in a language like Julia,\n",
    "where they can be easily written and understood."
   ]
  },
  {
   "cell_type": "markdown",
   "id": "ab981016",
   "metadata": {
    "hide-output": false
   },
   "source": [
    "```julia\n",
    "function f(a, b)\n",
    "    y = 2a + 8b\n",
    "    return y\n",
    "end\n",
    "```\n"
   ]
  },
  {
   "cell_type": "markdown",
   "id": "ef2feeb4",
   "metadata": {},
   "source": [
    "or Python"
   ]
  },
  {
   "cell_type": "markdown",
   "id": "2f3b89a7",
   "metadata": {
    "hide-output": false
   },
   "source": [
    "```python\n",
    "def f(a, b):\n",
    "    y = 2 * a + 8 * b\n",
    "    return y\n",
    "```\n"
   ]
  },
  {
   "cell_type": "markdown",
   "id": "3b46a661",
   "metadata": {},
   "source": [
    "or even C"
   ]
  },
  {
   "cell_type": "markdown",
   "id": "e06b8a01",
   "metadata": {
    "hide-output": false
   },
   "source": [
    "```c\n",
    "int f(int a, int b) {\n",
    "    int y = 2 * a + 8 * b;\n",
    "    return y;\n",
    "}\n",
    "```\n"
   ]
  },
  {
   "cell_type": "markdown",
   "id": "2c63d6c1",
   "metadata": {},
   "source": [
    "In any of these languages we end up with code that is much easier for humans to write, read, share and debug.\n",
    "\n",
    "We leave it up to the machine itself to turn our code into machine code.\n",
    "\n",
    "How exactly does this happen?"
   ]
  },
  {
   "cell_type": "markdown",
   "id": "8fcb1e9b",
   "metadata": {},
   "source": [
    "### Generating Machine Code\n",
    "\n",
    "The process for turning high level code into machine code differs across\n",
    "languages.\n",
    "\n",
    "Let’s look at some of the options and how they differ from one another."
   ]
  },
  {
   "cell_type": "markdown",
   "id": "c6c88e6c",
   "metadata": {},
   "source": [
    "#### AOT Compiled Languages\n",
    "\n",
    "Traditional compiled languages like Fortran, C and C++ are a reasonable option for writing fast code.\n",
    "\n",
    "Indeed, the standard benchmark for performance is still well-written C or Fortran.\n",
    "\n",
    "These languages compile down to efficient machine code because users are forced to provide a lot of detail on data types and how the code will execute.\n",
    "\n",
    "The compiler therefore has ample information for building the corresponding machine code ahead of time (AOT) in a way that\n",
    "\n",
    "- organizes the data optimally in memory and  \n",
    "- implements efficient operations as required for the task in hand  \n",
    "\n",
    "\n",
    "At the same time, the syntax and semantics of C and Fortran are verbose and unwieldy when compared to something like Julia.\n",
    "\n",
    "Moreover, these low level languages lack the interactivity that’s so crucial for scientific work."
   ]
  },
  {
   "cell_type": "markdown",
   "id": "90dd940a",
   "metadata": {},
   "source": [
    "#### Interpreted Languages\n",
    "\n",
    "Interpreted languages like Python generate machine code “on the fly”, during program execution.\n",
    "\n",
    "This allows them to be flexible and interactive.\n",
    "\n",
    "Moreover, programmers can leave many tedious details to the runtime environment, such as\n",
    "\n",
    "- specifying variable types  \n",
    "- memory allocation/deallocation, etc.  \n",
    "\n",
    "\n",
    "But all this convenience and flexibility comes at a cost: it’s hard to turn\n",
    "instructions written in these languages into efficient machine code.\n",
    "\n",
    "For example, consider what happens when Python adds a long list of numbers\n",
    "together.\n",
    "\n",
    "Typically the runtime environment has to check the type of these objects one by one before it figures out how to add them.\n",
    "\n",
    "This involves substantial overheads.\n",
    "\n",
    "There are also significant overheads associated with accessing the data values themselves, which might not be stored contiguously in memory.\n",
    "\n",
    "The resulting machine code is often complex and slow."
   ]
  },
  {
   "cell_type": "markdown",
   "id": "8a47760b",
   "metadata": {},
   "source": [
    "#### Just-in-time compilation\n",
    "\n",
    "Just-in-time (JIT) compilation is an alternative approach that marries some of\n",
    "the advantages of AOT compilation and interpreted languages.\n",
    "\n",
    "The basic idea is that functions for specific tasks are compiled as requested.\n",
    "\n",
    "As long as the compiler has enough information about what the function does,\n",
    "it can in principle generate efficient machine code.\n",
    "\n",
    "In some instances, all the information is supplied by the programmer.\n",
    "\n",
    "In other cases, the compiler will attempt to infer missing information on the fly based on usage.\n",
    "\n",
    "Through this approach, computing environments built around JIT compilers aim to\n",
    "\n",
    "- provide all the benefits of high level languages discussed above and, at the same time,  \n",
    "- produce efficient instruction sets when functions are compiled down to machine code  "
   ]
  },
  {
   "cell_type": "markdown",
   "id": "5848faab",
   "metadata": {},
   "source": [
    "## JIT Compilation in Julia\n",
    "\n",
    "JIT compilation is the approach used by Julia.\n",
    "\n",
    "In an ideal setting, all information necessary to generate efficient native machine code is supplied or inferred.\n",
    "\n",
    "In such a setting, Julia will be on par with machine code from low level languages."
   ]
  },
  {
   "cell_type": "markdown",
   "id": "6e1a3c25",
   "metadata": {},
   "source": [
    "### An Example\n",
    "\n",
    "Consider the function"
   ]
  },
  {
   "cell_type": "markdown",
   "id": "5d2fee87",
   "metadata": {
    "hide-output": false
   },
   "source": [
    "```julia\n",
    "function f(a, b)\n",
    "    y = (a + 8b)^2\n",
    "    return 7y\n",
    "end\n",
    "```\n"
   ]
  },
  {
   "cell_type": "markdown",
   "id": "af3a2548",
   "metadata": {},
   "source": [
    "Suppose we call `f` with integer arguments (e.g., `z = f(1, 2)`).\n",
    "\n",
    "The JIT compiler now knows the types of `a` and `b`.\n",
    "\n",
    "Moreover, it can infer types for other variables inside the function\n",
    "\n",
    "- e.g., `y` will also be an integer  \n",
    "\n",
    "\n",
    "It then compiles a specialized version of the function to handle integers and\n",
    "stores it in memory.\n",
    "\n",
    "We can view the corresponding machine code using the @code_native macro"
   ]
  },
  {
   "cell_type": "markdown",
   "id": "bc5c5e9e",
   "metadata": {
    "hide-output": false
   },
   "source": [
    "```julia\n",
    "@code_native f(1, 2)\n",
    "```\n"
   ]
  },
  {
   "cell_type": "markdown",
   "id": "35b6524e",
   "metadata": {},
   "source": [
    "If we now call `f` again, but this time with floating point arguments, the JIT compiler will once more infer types for the other variables inside the function.\n",
    "\n",
    "- e.g., `y` will also be a float  \n",
    "\n",
    "\n",
    "It then compiles a new version to handle this type of argument."
   ]
  },
  {
   "cell_type": "markdown",
   "id": "f2c143ef",
   "metadata": {
    "hide-output": false
   },
   "source": [
    "```julia\n",
    "@code_native f(1.0, 2.0)\n",
    "```\n"
   ]
  },
  {
   "cell_type": "markdown",
   "id": "8261a7bf",
   "metadata": {},
   "source": [
    "Subsequent calls using either floats or integers are now routed to the appropriate compiled code."
   ]
  },
  {
   "cell_type": "markdown",
   "id": "0281a3b2",
   "metadata": {},
   "source": [
    "### Potential Problems\n",
    "\n",
    "In some senses, what we saw above was a best case scenario.\n",
    "\n",
    "Sometimes the JIT compiler produces messy, slow machine code.\n",
    "\n",
    "This happens when type inference fails or the compiler has insufficient information to optimize effectively.\n",
    "\n",
    "The next section looks at situations where these problems arise and how to get around them."
   ]
  },
  {
   "cell_type": "markdown",
   "id": "11d3245c",
   "metadata": {},
   "source": [
    "## Fast and Slow Julia Code\n",
    "\n",
    "To summarize what we’ve learned so far, Julia provides a platform for generating highly efficient machine code with relatively little effort by combining\n",
    "\n",
    "1. JIT compilation  \n",
    "1. Optional type declarations and type inference to pin down the types of variables and hence compile efficient code  \n",
    "1. Multiple dispatch to facilitate specialization and optimization of compiled code for different data types  \n",
    "\n",
    "\n",
    "But the process is not flawless, and hiccups can occur.\n",
    "\n",
    "The purpose of this section is to highlight potential issues and show you how\n",
    "to circumvent them."
   ]
  },
  {
   "cell_type": "markdown",
   "id": "200959f1",
   "metadata": {},
   "source": [
    "### BenchmarkTools\n",
    "\n",
    "The main Julia package for benchmarking is [BenchmarkTools.jl](https://www.github.com/JuliaCI/BenchmarkTools.jl).\n",
    "\n",
    "Below, we’ll use the `@btime` macro it exports to evaluate the performance of Julia code.\n",
    "\n",
    "As mentioned in an [earlier lecture](https://julia.quantecon.org/testing.html), we can also save benchmark results to a file and guard against performance regressions in code.\n",
    "\n",
    "For more, see the package docs."
   ]
  },
  {
   "cell_type": "markdown",
   "id": "f0a96514",
   "metadata": {},
   "source": [
    "### Global Variables\n",
    "\n",
    "Global variables are names assigned to values outside of any function or type definition.\n",
    "\n",
    "The are convenient and novice programmers typically use them with abandon.\n",
    "\n",
    "But global variables are also dangerous, especially in medium to large size programs, since\n",
    "\n",
    "- they can affect what happens in any part of your program  \n",
    "- they can be changed by any function  \n",
    "\n",
    "\n",
    "This makes it much harder to be certain about what some  small part of a given piece of code actually commands.\n",
    "\n",
    "Here’s a [useful discussion on the topic](http://wiki.c2.com/?GlobalVariablesAreBad).\n",
    "\n",
    "When it comes to JIT compilation, global variables create further problems.\n",
    "\n",
    "The reason is that the compiler can never be sure of the type of the global\n",
    "variable, or even that the type will stay constant while a given function runs.\n",
    "\n",
    "To illustrate, consider this code, where `b` is global"
   ]
  },
  {
   "cell_type": "markdown",
   "id": "9775d9e5",
   "metadata": {
    "hide-output": false
   },
   "source": [
    "```julia\n",
    "b = 1.0\n",
    "function g(a)\n",
    "    global b\n",
    "    for i ∈ 1:1_000_000\n",
    "        tmp = a + b\n",
    "    end\n",
    "end\n",
    "```\n"
   ]
  },
  {
   "cell_type": "markdown",
   "id": "1ad75b5b",
   "metadata": {},
   "source": [
    "The code executes relatively slowly and uses a huge amount of memory."
   ]
  },
  {
   "cell_type": "markdown",
   "id": "b64d14bf",
   "metadata": {
    "hide-output": false
   },
   "source": [
    "```julia\n",
    "using BenchmarkTools\n",
    "\n",
    "@btime g(1.0)\n",
    "```\n"
   ]
  },
  {
   "cell_type": "markdown",
   "id": "53544653",
   "metadata": {},
   "source": [
    "If you look at the corresponding machine code you will see that it’s a mess."
   ]
  },
  {
   "cell_type": "markdown",
   "id": "af39c305",
   "metadata": {
    "hide-output": false
   },
   "source": [
    "```julia\n",
    "@code_native g(1.0)\n",
    "```\n"
   ]
  },
  {
   "cell_type": "markdown",
   "id": "0bc9e517",
   "metadata": {},
   "source": [
    "If we eliminate the global variable like so"
   ]
  },
  {
   "cell_type": "markdown",
   "id": "c2a22806",
   "metadata": {
    "hide-output": false
   },
   "source": [
    "```julia\n",
    "function g(a, b)\n",
    "    for i ∈ 1:1_000_000\n",
    "        tmp = a + b\n",
    "    end\n",
    "end\n",
    "```\n"
   ]
  },
  {
   "cell_type": "markdown",
   "id": "7097883f",
   "metadata": {},
   "source": [
    "then execution speed improves dramatically"
   ]
  },
  {
   "cell_type": "markdown",
   "id": "228c12a7",
   "metadata": {
    "hide-output": false
   },
   "source": [
    "```julia\n",
    "@btime g(1.0, 1.0)\n",
    "```\n"
   ]
  },
  {
   "cell_type": "markdown",
   "id": "44ead506",
   "metadata": {},
   "source": [
    "Note that the second run was dramatically faster than the first.\n",
    "\n",
    "That’s because the first call included the time for JIT compilaiton.\n",
    "\n",
    "Notice also how small the memory footprint of the execution is.\n",
    "\n",
    "Also, the machine code is simple and clean"
   ]
  },
  {
   "cell_type": "markdown",
   "id": "cbd60a8f",
   "metadata": {
    "hide-output": false
   },
   "source": [
    "```julia\n",
    "@code_native g(1.0, 1.0)\n",
    "```\n"
   ]
  },
  {
   "cell_type": "markdown",
   "id": "569485a8",
   "metadata": {},
   "source": [
    "Now the compiler is certain of types throughout execution of the function and\n",
    "hence can optimize accordingly."
   ]
  },
  {
   "cell_type": "markdown",
   "id": "dc990a3d",
   "metadata": {},
   "source": [
    "#### The `const` keyword\n",
    "\n",
    "Another way to stabilize the code above is to maintain the global variable but\n",
    "prepend it with `const`"
   ]
  },
  {
   "cell_type": "markdown",
   "id": "b0c8504b",
   "metadata": {
    "hide-output": false
   },
   "source": [
    "```julia\n",
    "const b_const = 1.0\n",
    "function g(a)\n",
    "    global b_const\n",
    "    for i ∈ 1:1_000_000\n",
    "        tmp = a + b_const\n",
    "    end\n",
    "end\n",
    "```\n"
   ]
  },
  {
   "cell_type": "markdown",
   "id": "fc987f5a",
   "metadata": {},
   "source": [
    "Now the compiler can again generate efficient machine code.\n",
    "\n",
    "We’ll leave you to experiment with it."
   ]
  },
  {
   "cell_type": "markdown",
   "id": "53f2bb86",
   "metadata": {},
   "source": [
    "### Composite Types with Abstract Field Types\n",
    "\n",
    "Another scenario that trips up the JIT compiler is when composite types have\n",
    "fields with abstract types.\n",
    "\n",
    "We met this issue [earlier](https://julia.quantecon.org/generic_programming.html#spec-field-types), when we discussed AR(1) models.\n",
    "\n",
    "Let’s experiment, using, respectively,\n",
    "\n",
    "- an untyped field  \n",
    "- a field with abstract type, and  \n",
    "- parametric typing  \n",
    "\n",
    "\n",
    "As we’ll see, the last of these options gives us the best performance, while still maintaining significant flexibility.\n",
    "\n",
    "Here’s the untyped case"
   ]
  },
  {
   "cell_type": "markdown",
   "id": "55c30417",
   "metadata": {
    "hide-output": false
   },
   "source": [
    "```julia\n",
    "struct Foo_generic\n",
    "    a\n",
    "end\n",
    "```\n"
   ]
  },
  {
   "cell_type": "markdown",
   "id": "105e9896",
   "metadata": {},
   "source": [
    "Here’s the case of an abstract type on the field `a`"
   ]
  },
  {
   "cell_type": "markdown",
   "id": "01d24ac3",
   "metadata": {
    "hide-output": false
   },
   "source": [
    "```julia\n",
    "struct Foo_abstract\n",
    "    a::Real\n",
    "end\n",
    "```\n"
   ]
  },
  {
   "cell_type": "markdown",
   "id": "ca98f796",
   "metadata": {},
   "source": [
    "Finally, here’s the parametrically typed case"
   ]
  },
  {
   "cell_type": "markdown",
   "id": "970b85e0",
   "metadata": {
    "hide-output": false
   },
   "source": [
    "```julia\n",
    "struct Foo_concrete{T <: Real}\n",
    "    a::T\n",
    "end\n",
    "```\n"
   ]
  },
  {
   "cell_type": "markdown",
   "id": "962e8f78",
   "metadata": {},
   "source": [
    "Now we generate instances"
   ]
  },
  {
   "cell_type": "markdown",
   "id": "5df5a8ad",
   "metadata": {
    "hide-output": false
   },
   "source": [
    "```julia\n",
    "fg = Foo_generic(1.0)\n",
    "fa = Foo_abstract(1.0)\n",
    "fc = Foo_concrete(1.0)\n",
    "```\n"
   ]
  },
  {
   "cell_type": "markdown",
   "id": "976d07d5",
   "metadata": {},
   "source": [
    "In the last case, concrete type information for the fields is embedded in the object"
   ]
  },
  {
   "cell_type": "markdown",
   "id": "85416a14",
   "metadata": {
    "hide-output": false
   },
   "source": [
    "```julia\n",
    "typeof(fc)\n",
    "```\n"
   ]
  },
  {
   "cell_type": "markdown",
   "id": "2f032a2d",
   "metadata": {},
   "source": [
    "This is significant because such information is detected by the compiler."
   ]
  },
  {
   "cell_type": "markdown",
   "id": "5149754d",
   "metadata": {},
   "source": [
    "#### Timing\n",
    "\n",
    "Here’s a function that uses the field `a` of our objects"
   ]
  },
  {
   "cell_type": "markdown",
   "id": "cab43987",
   "metadata": {
    "hide-output": false
   },
   "source": [
    "```julia\n",
    "function f(foo)\n",
    "    for i ∈ 1:1_000_000\n",
    "        tmp = i + foo.a\n",
    "    end\n",
    "end\n",
    "```\n"
   ]
  },
  {
   "cell_type": "markdown",
   "id": "52c85023",
   "metadata": {},
   "source": [
    "Let’s try timing our code, starting with the generic case:"
   ]
  },
  {
   "cell_type": "markdown",
   "id": "6ea44aaf",
   "metadata": {
    "hide-output": false
   },
   "source": [
    "```julia\n",
    "@btime f($fg)\n",
    "```\n"
   ]
  },
  {
   "cell_type": "markdown",
   "id": "1a50ed84",
   "metadata": {},
   "source": [
    "The timing is not very impressive.\n",
    "\n",
    "Here’s the nasty looking machine code"
   ]
  },
  {
   "cell_type": "markdown",
   "id": "231d19bd",
   "metadata": {
    "hide-output": false
   },
   "source": [
    "```julia\n",
    "@code_native f(fg)\n",
    "```\n"
   ]
  },
  {
   "cell_type": "markdown",
   "id": "ca74f76f",
   "metadata": {},
   "source": [
    "The abstract case is similar"
   ]
  },
  {
   "cell_type": "markdown",
   "id": "6e4cff54",
   "metadata": {
    "hide-output": false
   },
   "source": [
    "```julia\n",
    "@btime f($fa)\n",
    "```\n"
   ]
  },
  {
   "cell_type": "markdown",
   "id": "a235c93a",
   "metadata": {},
   "source": [
    "Note the large memory footprint.\n",
    "\n",
    "The machine code is also long and complex, although we omit details.\n",
    "\n",
    "Finally, let’s look at the parametrically typed version"
   ]
  },
  {
   "cell_type": "markdown",
   "id": "413a32fb",
   "metadata": {
    "hide-output": false
   },
   "source": [
    "```julia\n",
    "@btime f($fc)\n",
    "```\n"
   ]
  },
  {
   "cell_type": "markdown",
   "id": "c9472341",
   "metadata": {},
   "source": [
    "Some of this time is JIT compilation, and one more execution gets us down to.\n",
    "\n",
    "Here’s the corresponding machine code"
   ]
  },
  {
   "cell_type": "markdown",
   "id": "be5fa8d6",
   "metadata": {
    "hide-output": false
   },
   "source": [
    "```julia\n",
    "@code_native f(fc)\n",
    "```\n"
   ]
  },
  {
   "cell_type": "markdown",
   "id": "dde37285",
   "metadata": {},
   "source": [
    "Much nicer…"
   ]
  },
  {
   "cell_type": "markdown",
   "id": "e9a3b9a8",
   "metadata": {},
   "source": [
    "### Abstract Containers\n",
    "\n",
    "Another way we can run into trouble is with abstract container types.\n",
    "\n",
    "Consider the following function, which essentially does the same job as Julia’s `sum()` function but acts only on floating point data"
   ]
  },
  {
   "cell_type": "markdown",
   "id": "09a179a0",
   "metadata": {
    "hide-output": false
   },
   "source": [
    "```julia\n",
    "function sum_float_array(x::AbstractVector{<:Number})\n",
    "    sum = 0.0\n",
    "    for i ∈ eachindex(x)\n",
    "        sum += x[i]\n",
    "    end\n",
    "    return sum\n",
    "end\n",
    "```\n"
   ]
  },
  {
   "cell_type": "markdown",
   "id": "5be20d2b",
   "metadata": {},
   "source": [
    "Calls to this function run very quickly"
   ]
  },
  {
   "cell_type": "markdown",
   "id": "e6cd06c6",
   "metadata": {
    "hide-output": false
   },
   "source": [
    "```julia\n",
    "x = range(0,  1, length = Int(1e6))\n",
    "x = collect(x)\n",
    "typeof(x)\n",
    "```\n"
   ]
  },
  {
   "cell_type": "markdown",
   "id": "aa56e3b1",
   "metadata": {
    "hide-output": false
   },
   "source": [
    "```julia\n",
    "@btime sum_float_array($x)\n",
    "```\n"
   ]
  },
  {
   "cell_type": "markdown",
   "id": "81b0835a",
   "metadata": {},
   "source": [
    "When Julia compiles this function, it knows that the data passed in as `x` will be an array of 64 bit floats.\n",
    "\n",
    "Hence it’s known to the compiler that the relevant method for `+` is always addition of floating point numbers.\n",
    "\n",
    "Moreover, the data can be arranged into continuous 64 bit blocks of memory to simplify memory access.\n",
    "\n",
    "Finally, data types are stable — for example, the local variable `sum` starts off as a float and remains a float throughout."
   ]
  },
  {
   "cell_type": "markdown",
   "id": "58d3490c",
   "metadata": {},
   "source": [
    "#### Type Inferences\n",
    "\n",
    "Here’s the same function minus the type annotation in the function signature"
   ]
  },
  {
   "cell_type": "markdown",
   "id": "72440250",
   "metadata": {
    "hide-output": false
   },
   "source": [
    "```julia\n",
    "function sum_array(x)\n",
    "    sum = 0.0\n",
    "    for i ∈ eachindex(x)\n",
    "        sum += x[i]\n",
    "    end\n",
    "    return sum\n",
    "end\n",
    "```\n"
   ]
  },
  {
   "cell_type": "markdown",
   "id": "e38c14e9",
   "metadata": {},
   "source": [
    "When we run it with the same array of floating point numbers it executes at a\n",
    "similar speed as the function with type information."
   ]
  },
  {
   "cell_type": "markdown",
   "id": "51a0ee87",
   "metadata": {
    "hide-output": false
   },
   "source": [
    "```julia\n",
    "@btime sum_array($x)\n",
    "```\n"
   ]
  },
  {
   "cell_type": "markdown",
   "id": "a778afcd",
   "metadata": {},
   "source": [
    "The reason is that when `sum_array()` is first called on a vector of a given\n",
    "data type, a newly compiled version of the function is produced to handle that\n",
    "type.\n",
    "\n",
    "In this case, since we’re calling the function on a vector of floats, we get a compiled version of the function with essentially the same internal representation as `sum_float_array()`."
   ]
  },
  {
   "cell_type": "markdown",
   "id": "be863843",
   "metadata": {},
   "source": [
    "#### An Abstract Container\n",
    "\n",
    "Things get tougher for the interpreter when the data type within the array is imprecise.\n",
    "\n",
    "For example, the following snippet creates an array where the element type is `Any`"
   ]
  },
  {
   "cell_type": "markdown",
   "id": "7ae7f73c",
   "metadata": {
    "hide-output": false
   },
   "source": [
    "```julia\n",
    "x = Any[ 1/i for i ∈ 1:1e6 ];\n",
    "```\n"
   ]
  },
  {
   "cell_type": "markdown",
   "id": "e236a917",
   "metadata": {
    "hide-output": false
   },
   "source": [
    "```julia\n",
    "eltype(x)\n",
    "```\n"
   ]
  },
  {
   "cell_type": "markdown",
   "id": "d8ccd094",
   "metadata": {},
   "source": [
    "Now summation is much slower and memory management is less efficient."
   ]
  },
  {
   "cell_type": "markdown",
   "id": "cd8e462b",
   "metadata": {
    "hide-output": false
   },
   "source": [
    "```julia\n",
    "@btime sum_array($x)\n",
    "```\n"
   ]
  },
  {
   "cell_type": "markdown",
   "id": "0802f0ba",
   "metadata": {},
   "source": [
    "## Further Comments\n",
    "\n",
    "Here are some final comments on performance."
   ]
  },
  {
   "cell_type": "markdown",
   "id": "6b548b90",
   "metadata": {},
   "source": [
    "### Explicit Typing\n",
    "\n",
    "Writing fast Julia code amounts to writing Julia from which the compiler can\n",
    "generate efficient machine code.\n",
    "\n",
    "For this, Julia needs to know about the type of data it’s processing as early as possible.\n",
    "\n",
    "We could hard code the type of all variables and function arguments but this comes at a cost.\n",
    "\n",
    "Our code becomes more cumbersome and less generic.\n",
    "\n",
    "We are starting to loose the advantages that drew us to Julia in the first place.\n",
    "\n",
    "Moreover, explicitly typing everything is not necessary for optimal performance.\n",
    "\n",
    "The Julia compiler is smart and can often infer types perfectly well, without\n",
    "any performance cost.\n",
    "\n",
    "What we really want to do is\n",
    "\n",
    "- keep our code simple, elegant and generic  \n",
    "- help the compiler out in situations where it’s liable to get tripped up  "
   ]
  },
  {
   "cell_type": "markdown",
   "id": "1763883a",
   "metadata": {},
   "source": [
    "### Summary and Tips\n",
    "\n",
    "Use functions to segregate operations into logically distinct blocks.\n",
    "\n",
    "Data types will be determined at function boundaries.\n",
    "\n",
    "If types are not supplied then they will be inferred.\n",
    "\n",
    "If types are stable and can be inferred effectively your functions will run fast."
   ]
  },
  {
   "cell_type": "markdown",
   "id": "3d4171c9",
   "metadata": {},
   "source": [
    "### Further Reading\n",
    "\n",
    "A good next stop for further reading is the [relevant part](https://docs.julialang.org/en/v1/manual/performance-tips/) of the Julia documentation."
   ]
  }
 ],
 "metadata": {
  "date": 1628904818.8202882,
  "filename": "need_for_speed.md",
  "kernelspec": {
   "display_name": "Julia",
   "language": "julia",
   "name": "julia"
  },
  "title": "The Need for Speed"
 },
 "nbformat": 4,
 "nbformat_minor": 5
}