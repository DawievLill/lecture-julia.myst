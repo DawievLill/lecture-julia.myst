{
 "cells": [
  {
   "cell_type": "markdown",
   "id": "ec522d11",
   "metadata": {},
   "source": [
    "\n",
    "<a id='data-statistical-packages'></a>"
   ]
  },
  {
   "cell_type": "markdown",
   "id": "08518a85",
   "metadata": {},
   "source": [
    "# Data and Statistics Packages"
   ]
  },
  {
   "cell_type": "markdown",
   "id": "03f20031",
   "metadata": {},
   "source": [
    "## Contents\n",
    "\n",
    "- [Data and Statistics Packages](#Data-and-Statistics-Packages)  \n",
    "  - [Overview](#Overview)  \n",
    "  - [DataFrames](#DataFrames)  \n",
    "  - [Statistics and Econometrics](#Statistics-and-Econometrics)  "
   ]
  },
  {
   "cell_type": "markdown",
   "id": "3d51ad56",
   "metadata": {},
   "source": [
    "## Overview\n",
    "\n",
    "This lecture explores some of the key packages for working with data and doing statistics in Julia.\n",
    "\n",
    "In particular, we will examine the `DataFrame` object in detail (i.e., construction, manipulation, querying, visualization, and nuances like missing data).\n",
    "\n",
    "While Julia is not an ideal language for pure cookie-cutter statistical analysis, it has many useful packages to provide those tools as part of a more general solution.\n",
    "\n",
    "This list is not exhaustive, and others can be found in organizations such as [JuliaStats](https://github.com/JuliaStats), [JuliaData](https://github.com/JuliaData/), and  [QueryVerse](https://github.com/queryverse)."
   ]
  },
  {
   "cell_type": "markdown",
   "id": "a985b8d9",
   "metadata": {
    "hide-output": false
   },
   "source": [
    "```julia\n",
    "using LinearAlgebra, Statistics\n",
    "using DataFrames, RDatasets, DataFramesMeta, CategoricalArrays, Query, VegaLite\n",
    "using GLM\n",
    "```\n"
   ]
  },
  {
   "cell_type": "markdown",
   "id": "6ec2648a",
   "metadata": {},
   "source": [
    "## DataFrames\n",
    "\n",
    "A useful package for working with data is [DataFrames.jl](https://github.com/JuliaStats/DataFrames.jl).\n",
    "\n",
    "The most important data type provided is a `DataFrame`, a two dimensional array for storing heterogeneous data.\n",
    "\n",
    "Although data can be heterogeneous within a `DataFrame`, the contents of the columns must be homogeneous\n",
    "(of the same type).\n",
    "\n",
    "This is analogous to a `data.frame` in R, a `DataFrame` in Pandas (Python) or, more loosely, a spreadsheet in Excel.\n",
    "\n",
    "There are a few different ways to create a DataFrame."
   ]
  },
  {
   "cell_type": "markdown",
   "id": "c4bdec45",
   "metadata": {},
   "source": [
    "### Constructing and Accessing a DataFrame\n",
    "\n",
    "The first is to set up columns and construct a dataframe by assigning names"
   ]
  },
  {
   "cell_type": "markdown",
   "id": "a08c2112",
   "metadata": {
    "hide-output": false
   },
   "source": [
    "```julia\n",
    "using DataFrames, RDatasets  # RDatasets provides good standard data examples from R\n",
    "\n",
    "# note use of missing\n",
    "commodities = [\"crude\", \"gas\", \"gold\", \"silver\"]\n",
    "last_price = [4.2, 11.3, 12.1, missing]\n",
    "df = DataFrame(commod = commodities, price = last_price)\n",
    "```\n"
   ]
  },
  {
   "cell_type": "markdown",
   "id": "b13ebe84",
   "metadata": {},
   "source": [
    "Columns of the `DataFrame` can be accessed by name using `df.col`, as below"
   ]
  },
  {
   "cell_type": "markdown",
   "id": "9aa93683",
   "metadata": {
    "hide-output": false
   },
   "source": [
    "```julia\n",
    "df.price\n",
    "```\n"
   ]
  },
  {
   "cell_type": "markdown",
   "id": "d1b92b44",
   "metadata": {},
   "source": [
    "Note that the type of this array has values `Union{Missing, Float64}` since it was created with a `missing` value."
   ]
  },
  {
   "cell_type": "markdown",
   "id": "eb9a9f73",
   "metadata": {
    "hide-output": false
   },
   "source": [
    "```julia\n",
    "df.commod\n",
    "```\n"
   ]
  },
  {
   "cell_type": "markdown",
   "id": "6dd1d93c",
   "metadata": {},
   "source": [
    "The `DataFrames.jl` package provides a number of methods for acting on `DataFrame`’s, such as `describe`."
   ]
  },
  {
   "cell_type": "markdown",
   "id": "70b42e2e",
   "metadata": {
    "hide-output": false
   },
   "source": [
    "```julia\n",
    "DataFrames.describe(df)\n",
    "```\n"
   ]
  },
  {
   "cell_type": "markdown",
   "id": "9f036d28",
   "metadata": {},
   "source": [
    "While often data will be generated all at once, or read from a file, you can add to a `DataFrame` by providing the key parameters."
   ]
  },
  {
   "cell_type": "markdown",
   "id": "df629e6b",
   "metadata": {
    "hide-output": false
   },
   "source": [
    "```julia\n",
    "nt = (commod = \"nickel\", price= 5.1)\n",
    "push!(df, nt)\n",
    "```\n"
   ]
  },
  {
   "cell_type": "markdown",
   "id": "fa93e13a",
   "metadata": {},
   "source": [
    "Named tuples can also be used to construct a `DataFrame`, and have it properly deduce all types."
   ]
  },
  {
   "cell_type": "markdown",
   "id": "53ebe5a4",
   "metadata": {
    "hide-output": false
   },
   "source": [
    "```julia\n",
    "nt = (t = 1, col1 = 3.0)\n",
    "df2 = DataFrame([nt])\n",
    "push!(df2, (t=2, col1 = 4.0))\n",
    "```\n"
   ]
  },
  {
   "cell_type": "markdown",
   "id": "4dfb0227",
   "metadata": {},
   "source": [
    "In order to modify a column, access the mutating version by the symbol `df[!, :col]`."
   ]
  },
  {
   "cell_type": "markdown",
   "id": "9dbe6d31",
   "metadata": {
    "hide-output": false
   },
   "source": [
    "```julia\n",
    "df[!, :price]\n",
    "```\n"
   ]
  },
  {
   "cell_type": "markdown",
   "id": "bec5dbbe",
   "metadata": {},
   "source": [
    "Which allows modifications, like other mutating `!` functions in julia."
   ]
  },
  {
   "cell_type": "markdown",
   "id": "0f7fdf93",
   "metadata": {
    "hide-output": false
   },
   "source": [
    "```julia\n",
    "df[!, :price] *= 2.0  # double prices\n",
    "```\n"
   ]
  },
  {
   "cell_type": "markdown",
   "id": "a24e3558",
   "metadata": {},
   "source": [
    "As discussed in the next section, note that the [fundamental types](https://julia.quantecon.org/../getting_started_julia/fundamental_types.html#missing), is propagated, i.e. `missing * 2 === missing`."
   ]
  },
  {
   "cell_type": "markdown",
   "id": "0efdca6d",
   "metadata": {},
   "source": [
    "### Working with Missing\n",
    "\n",
    "As we discussed in [fundamental types](https://julia.quantecon.org/../getting_started_julia/fundamental_types.html#missing), the semantics of `missing` are that mathematical operations will not silently ignore it.\n",
    "\n",
    "In order to allow `missing` in a column, you can create/load the `DataFrame`\n",
    "from a source with `missing`’s, or call `allowmissing!` on a column."
   ]
  },
  {
   "cell_type": "markdown",
   "id": "2fbff610",
   "metadata": {
    "hide-output": false
   },
   "source": [
    "```julia\n",
    "allowmissing!(df2, :col1) # necessary to add in a for col1\n",
    "push!(df2, (t=3, col1 = missing))\n",
    "push!(df2, (t=4, col1 = 5.1))\n",
    "```\n"
   ]
  },
  {
   "cell_type": "markdown",
   "id": "35e19d40",
   "metadata": {},
   "source": [
    "We can see the propagation of `missing` to caller functions, as well as a way to efficiently calculate with non-missing data."
   ]
  },
  {
   "cell_type": "markdown",
   "id": "a856e60c",
   "metadata": {
    "hide-output": false
   },
   "source": [
    "```julia\n",
    "@show mean(df2.col1)\n",
    "@show mean(skipmissing(df2.col1))\n",
    "```\n"
   ]
  },
  {
   "cell_type": "markdown",
   "id": "2720de1a",
   "metadata": {},
   "source": [
    "And to replace the `missing`"
   ]
  },
  {
   "cell_type": "markdown",
   "id": "6b7b42c9",
   "metadata": {
    "hide-output": false
   },
   "source": [
    "```julia\n",
    "df2.col1  .= coalesce.(df2.col1, 0.0) # replace all missing with 0.0\n",
    "```\n"
   ]
  },
  {
   "cell_type": "markdown",
   "id": "7889c3d2",
   "metadata": {},
   "source": [
    "### Manipulating and Transforming DataFrames\n",
    "\n",
    "One way to do an additional calculation with a `DataFrame` is to tuse the `@transform` macro from `DataFramesMeta.jl`."
   ]
  },
  {
   "cell_type": "markdown",
   "id": "88def34c",
   "metadata": {
    "hide-output": false
   },
   "source": [
    "```julia\n",
    "using DataFramesMeta\n",
    "f(x) = x^2\n",
    "df2 = @transform(df2, col2 = f.(:col1))\n",
    "```\n"
   ]
  },
  {
   "cell_type": "markdown",
   "id": "8c2709b2",
   "metadata": {},
   "source": [
    "### Categorical Data\n",
    "\n",
    "For data that is [categorical](https://juliadata.github.io/DataFrames.jl/stable/man/categorical/)"
   ]
  },
  {
   "cell_type": "markdown",
   "id": "a73789fd",
   "metadata": {
    "hide-output": false
   },
   "source": [
    "```julia\n",
    "using CategoricalArrays\n",
    "id = [1, 2, 3, 4]\n",
    "y = [\"old\", \"young\", \"young\", \"old\"]\n",
    "y = CategoricalArray(y)\n",
    "df = DataFrame(id=id, y=y)\n",
    "```\n"
   ]
  },
  {
   "cell_type": "markdown",
   "id": "72ab3403",
   "metadata": {
    "hide-output": false
   },
   "source": [
    "```julia\n",
    "levels(df.y)\n",
    "```\n"
   ]
  },
  {
   "cell_type": "markdown",
   "id": "71d5d6cc",
   "metadata": {},
   "source": [
    "### Visualization, Querying, and Plots\n",
    "\n",
    "The `DataFrame` (and similar types that fulfill a standard generic interface) can fit into a variety of packages.\n",
    "\n",
    "One set of them is the [QueryVerse](https://github.com/queryverse).\n",
    "\n",
    "**Note:** The QueryVerse, in the same spirit as R’s tidyverse, makes heavy use of the pipeline syntax `|>`."
   ]
  },
  {
   "cell_type": "markdown",
   "id": "8eb823a9",
   "metadata": {
    "hide-output": false
   },
   "source": [
    "```julia\n",
    "x = 3.0\n",
    "f(x) = x^2\n",
    "g(x) = log(x)\n",
    "\n",
    "@show g(f(x))\n",
    "@show x |> f |> g; # pipes nest function calls\n",
    "```\n"
   ]
  },
  {
   "cell_type": "markdown",
   "id": "3c849251",
   "metadata": {},
   "source": [
    "To give an example directly from the source of the LINQ inspired [Query.jl](http://www.queryverse.org/Query.jl/stable/)"
   ]
  },
  {
   "cell_type": "markdown",
   "id": "24a8f958",
   "metadata": {
    "hide-output": false
   },
   "source": [
    "```julia\n",
    "using Query\n",
    "\n",
    "df = DataFrame(name=[\"John\", \"Sally\", \"Kirk\"], age=[23., 42., 59.], children=[3,5,2])\n",
    "\n",
    "x = @from i in df begin\n",
    "    @where i.age>50\n",
    "    @select {i.name, i.children}\n",
    "    @collect DataFrame\n",
    "end\n",
    "```\n"
   ]
  },
  {
   "cell_type": "markdown",
   "id": "defc8eac",
   "metadata": {},
   "source": [
    "While it is possible to just use the `Plots.jl` library, there may be better options for displaying tabular data – such as [VegaLite.jl](https://github.com/queryverse/VegaLite.jl)."
   ]
  },
  {
   "cell_type": "markdown",
   "id": "59e91eb4",
   "metadata": {
    "hide-output": false
   },
   "source": [
    "```julia\n",
    "using RDatasets, VegaLite\n",
    "iris = dataset(\"datasets\", \"iris\")\n",
    "\n",
    "iris |> @vlplot(\n",
    "    :point,\n",
    "    x=:PetalLength,\n",
    "    y=:PetalWidth,\n",
    "    color=:Species\n",
    ")\n",
    "```\n"
   ]
  },
  {
   "cell_type": "markdown",
   "id": "28ca0066",
   "metadata": {},
   "source": [
    "## Statistics and Econometrics\n",
    "\n",
    "While Julia is not intended as a replacement for R, Stata, and similar specialty languages, it has a growing number of packages aimed at statistics and econometrics.\n",
    "\n",
    "Many of the packages live in the [JuliaStats organization](https://github.com/JuliaStats/).\n",
    "\n",
    "A few to point out\n",
    "\n",
    "- [StatsBase](https://github.com/JuliaStats/StatsBase.jl) has basic statistical functions such as geometric and harmonic means, auto-correlations, robust statistics, etc.  \n",
    "- [StatsFuns](https://github.com/JuliaStats/StatsFuns.jl) has a variety of mathematical functions and constants such as pdf and cdf of many distributions, softmax, etc.  "
   ]
  },
  {
   "cell_type": "markdown",
   "id": "a2e79004",
   "metadata": {},
   "source": [
    "### General Linear Models\n",
    "\n",
    "To run linear regressions and similar statistics, use the [GLM](http://juliastats.github.io/GLM.jl/latest/) package."
   ]
  },
  {
   "cell_type": "markdown",
   "id": "6b427669",
   "metadata": {
    "hide-output": false
   },
   "source": [
    "```julia\n",
    "using GLM\n",
    "\n",
    "x = randn(100)\n",
    "y = 0.9 .* x + 0.5 * rand(100)\n",
    "df = DataFrame(x=x, y=y)\n",
    "ols = lm(@formula(y ~ x), df) # R-style notation\n",
    "```\n"
   ]
  },
  {
   "cell_type": "markdown",
   "id": "c7f82edf",
   "metadata": {},
   "source": [
    "To display the results in a useful tables for LaTeX and the REPL, use\n",
    "[RegressionTables](https://github.com/jmboehm/RegressionTables.jl/) for output\n",
    "similar to the Stata package esttab and the R package stargazer."
   ]
  },
  {
   "cell_type": "markdown",
   "id": "7de25304",
   "metadata": {
    "hide-output": false
   },
   "source": [
    "```julia\n",
    "using RegressionTables\n",
    "regtable(ols)\n",
    "# regtable(ols,  renderSettings = latexOutput()) # for LaTex output\n",
    "```\n"
   ]
  },
  {
   "cell_type": "markdown",
   "id": "6d9cbd72",
   "metadata": {},
   "source": [
    "### Fixed Effects\n",
    "\n",
    "While Julia may be overkill for estimating a simple linear regression,\n",
    "fixed-effects estimation with dummies for multiple variables are much more computationally intensive.\n",
    "\n",
    "For a 2-way fixed-effect, taking the example directly from the documentation using [cigarette consumption data](https://github.com/johnmyleswhite/RDatasets.jl/blob/master/doc/plm/rst/Cigar.rst)"
   ]
  },
  {
   "cell_type": "markdown",
   "id": "f7cf2134",
   "metadata": {
    "hide-output": false
   },
   "source": [
    "```julia\n",
    "using FixedEffectModels\n",
    "cigar = dataset(\"plm\", \"Cigar\")\n",
    "cigar.StateCategorical =  categorical(cigar.State)\n",
    "cigar.YearCategorical =  categorical(cigar.Year)\n",
    "fixedeffectresults = reg(cigar, @formula(Sales ~ NDI + fe(StateCategorical) + fe(YearCategorical)),\n",
    "                            weights = :Pop, Vcov.cluster(:State))\n",
    "regtable(fixedeffectresults)\n",
    "```\n"
   ]
  }
 ],
 "metadata": {
  "date": 1629280658.3740094,
  "filename": "data_statistical_packages.md",
  "kernelspec": {
   "display_name": "Julia",
   "language": "julia",
   "name": "julia"
  },
  "title": "Data and Statistics Packages"
 },
 "nbformat": 4,
 "nbformat_minor": 5
}