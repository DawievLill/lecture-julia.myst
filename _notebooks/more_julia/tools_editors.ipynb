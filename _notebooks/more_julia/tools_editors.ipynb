{
 "cells": [
  {
   "cell_type": "markdown",
   "id": "62b0b881",
   "metadata": {},
   "source": [
    "\n",
    "<a id='tools-editors'></a>"
   ]
  },
  {
   "cell_type": "markdown",
   "id": "8df620e6",
   "metadata": {},
   "source": [
    "# Julia Tools and Editors"
   ]
  },
  {
   "cell_type": "markdown",
   "id": "258cc86a",
   "metadata": {},
   "source": [
    "## Contents\n",
    "\n",
    "- [Julia Tools and Editors](#Julia-Tools-and-Editors)  \n",
    "  - [Preliminary Setup](#Preliminary-Setup)  \n",
    "  - [The REPL](#The-REPL)  \n",
    "  - [Atom](#Atom)  \n",
    "  - [Package Environments](#Package-Environments)  "
   ]
  },
  {
   "cell_type": "markdown",
   "id": "73018d23",
   "metadata": {},
   "source": [
    "Co-authored with Arnav Sood\n",
    "\n",
    "While Jupyter notebooks are a great way to get started with the language, eventually you will want to use more powerful tools.\n",
    "\n",
    "We’ll discuss a few of them here, such as\n",
    "\n",
    "- Text editors like Atom, which come with rich Julia support for debugging, documentation, git integration, plotting and inspecting data, and code execution.  \n",
    "- The Julia REPL, which has specialized modes for package management, shell commands, and help.  \n",
    "\n",
    "\n",
    "Note that we assume you’ve already completed the [getting started](https://julia.quantecon.org/../getting_started_julia/getting_started.html) and [interacting with Julia](https://julia.quantecon.org/../getting_started_julia/julia_environment.html) lectures."
   ]
  },
  {
   "cell_type": "markdown",
   "id": "799127ce",
   "metadata": {},
   "source": [
    "## Preliminary Setup\n",
    "\n",
    "Follow the instructions for setting up Julia [on your local computer](https://julia.quantecon.org/../getting_started_julia/getting_started.html#jl-jupyterlocal).\n",
    "\n",
    "\n",
    "<a id='repl-main'></a>"
   ]
  },
  {
   "cell_type": "markdown",
   "id": "13d364fd",
   "metadata": {},
   "source": [
    "## The REPL\n",
    "\n",
    "Previously, we discussed basic use of the Julia REPL (“Read-Evaluate-Print Loop”).\n",
    "\n",
    "Here, we’ll consider some more advanced features."
   ]
  },
  {
   "cell_type": "markdown",
   "id": "64eefccb",
   "metadata": {},
   "source": [
    "### Shell Mode\n",
    "\n",
    "Hitting `;` brings you into shell mode, which lets you run bash commands (PowerShell on Windows)"
   ]
  },
  {
   "cell_type": "markdown",
   "id": "b9efd546",
   "metadata": {
    "hide-output": false
   },
   "source": [
    "```julia\n",
    "; pwd\n",
    "```\n"
   ]
  },
  {
   "cell_type": "markdown",
   "id": "1a4b730e",
   "metadata": {},
   "source": [
    "You can also use Julia variables from shell mode"
   ]
  },
  {
   "cell_type": "markdown",
   "id": "b9a6530f",
   "metadata": {
    "hide-output": false
   },
   "source": [
    "```julia\n",
    "x = 2\n",
    "```\n"
   ]
  },
  {
   "cell_type": "markdown",
   "id": "c143e4be",
   "metadata": {
    "hide-output": false
   },
   "source": [
    "```julia\n",
    "; echo $x\n",
    "```\n"
   ]
  },
  {
   "cell_type": "markdown",
   "id": "ec6bd09a",
   "metadata": {},
   "source": [
    "### Package Mode\n",
    "\n",
    "Hitting `]` brings you into package mode.\n",
    "\n",
    "- `] add Expectations` will add a package (here, `Expectations.jl`).  \n",
    "- Likewise, `] rm Expectations` will remove that package.  \n",
    "- `] st` will show you a snapshot of what you have installed.  \n",
    "- `] up` will (intelligently) upgrade versions of your packages.  \n",
    "- `] precompile` will precompile everything possible.  \n",
    "- `] build` will execute build scripts for all packages.  \n",
    "- Running `] preview` before a command (i.e., `] preview up`) will display the changes without executing.  \n",
    "\n",
    "\n",
    "You can get a full list of package mode commands by running"
   ]
  },
  {
   "cell_type": "markdown",
   "id": "9d101aaf",
   "metadata": {
    "hide-output": false
   },
   "source": [
    "```julia\n",
    "] ?\n",
    "```\n"
   ]
  },
  {
   "cell_type": "markdown",
   "id": "aca139db",
   "metadata": {},
   "source": [
    "On some operating systems (such as OSX) REPL pasting may not work for package mode, and you will need to access it in the standard way (i.e., hit `]` first and then run your commands)."
   ]
  },
  {
   "cell_type": "markdown",
   "id": "22d9648b",
   "metadata": {},
   "source": [
    "### Help Mode\n",
    "\n",
    "Hitting `?` will bring you into help mode.\n",
    "\n",
    "The key use case is to find docstrings for functions and macros, e.g."
   ]
  },
  {
   "cell_type": "markdown",
   "id": "66021828",
   "metadata": {
    "hide-output": false
   },
   "source": [
    "```julia\n",
    "? print\n",
    "```\n"
   ]
  },
  {
   "cell_type": "markdown",
   "id": "4ef73cea",
   "metadata": {},
   "source": [
    "Note that objects must be loaded for Julia to return their documentation, e.g."
   ]
  },
  {
   "cell_type": "markdown",
   "id": "d347d231",
   "metadata": {
    "hide-output": false
   },
   "source": [
    "```julia\n",
    "? @test\n",
    "```\n"
   ]
  },
  {
   "cell_type": "markdown",
   "id": "a6976ba5",
   "metadata": {},
   "source": [
    "will fail, but"
   ]
  },
  {
   "cell_type": "markdown",
   "id": "12d697f6",
   "metadata": {
    "hide-output": false
   },
   "source": [
    "```julia\n",
    "using Test\n",
    "```\n"
   ]
  },
  {
   "cell_type": "markdown",
   "id": "cdb74959",
   "metadata": {
    "hide-output": false
   },
   "source": [
    "```julia\n",
    "? @test\n",
    "```\n"
   ]
  },
  {
   "cell_type": "markdown",
   "id": "f35bbb99",
   "metadata": {},
   "source": [
    "will succeed."
   ]
  },
  {
   "cell_type": "markdown",
   "id": "beccf0ff",
   "metadata": {},
   "source": [
    "## Atom\n",
    "\n",
    "As discussed [previously](https://julia.quantecon.org/../getting_started_julia/getting_started.html), eventually you will want to use a fully fledged text editor.\n",
    "\n",
    "The most feature-rich one for Julia development is [Atom](https://atom.io/), with the [Juno](http://junolab.org/) package.\n",
    "\n",
    "There are several reasons to use a text editor like Atom, including\n",
    "\n",
    "- Git integration (more on this in the [next lecture](https://julia.quantecon.org/version_control.html)).  \n",
    "- Painless inspection of variables and data.  \n",
    "- Easily run code blocks, and drop in custom snippets of code.  \n",
    "- Integration with Julia documentation and plots.  "
   ]
  },
  {
   "cell_type": "markdown",
   "id": "ea8200eb",
   "metadata": {},
   "source": [
    "### Installation and Configuration"
   ]
  },
  {
   "cell_type": "markdown",
   "id": "030781fd",
   "metadata": {},
   "source": [
    "#### Installing Atom\n",
    "\n",
    "1. Download and Install Atom from the [Atom website](https://atom.io/).  \n",
    "1. (Optional, but recommended): Change default Atom settings  \n",
    "  - Use `Ctrl-,` to get the `Settings` pane  \n",
    "  - Choose the `Packages` tab  \n",
    "  - Type `line-ending-selector` into the Filter and then click “Settings” for that package  \n",
    "    - Change the default line ending to `LF` (only necessary on Windows)  \n",
    "  - Choose the Editor tab  \n",
    "    - Turn on `Soft Wrap`  \n",
    "    - Set the `Tab Length` default to `4`  "
   ]
  },
  {
   "cell_type": "markdown",
   "id": "6040ce1c",
   "metadata": {},
   "source": [
    "#### Installing Juno\n",
    "\n",
    "1. Use `Ctrl-,` to get the Settings pane.  \n",
    "1. Go to the `Install` tab.  \n",
    "1. Type `uber-juno` into the search box and then click Install on the package that appears.  \n",
    "1. Wait while Juno installs dependencies.  \n",
    "1. When it asks you whether or not to use the standard layout, click `yes`.  \n",
    "\n",
    "\n",
    "At that point, you should see a built-in REPL at the bottom of the screen and be able to start using Julia and Atom.\n",
    "\n",
    "\n",
    "<a id='atom-troubleshooting'></a>"
   ]
  },
  {
   "cell_type": "markdown",
   "id": "0281dc56",
   "metadata": {},
   "source": [
    "#### Troubleshooting\n",
    "\n",
    "Sometimes, Juno will fail to find the Julia executable (say, if it’s installed somewhere nonstandard, or you have multiple).\n",
    "\n",
    "To do this\n",
    "\n",
    "1. `Ctrl-,` to get Settings pane, and select the Packages tab.  \n",
    "1. Type in `julia-client` and choose Settings.  \n",
    "1. Find the Julia Path, and fill it in with the location of the Julia binary.  \n",
    "\n",
    "\n",
    "- To find the binary, you could run `Sys.BINDIR` in the REPL, then add in an additional `/julia` to the end of the screen.  \n",
    "- e.g. `C:\\Users\\YOURUSERNAME\\AppData\\Local\\Julia-1.0.1\\bin\\julia.exe` on Windows as `/Applications/Julia-1.0.app/Contents/Resources/julia/bin/julia` on OSX.  \n",
    "\n",
    "\n",
    "See the [setup instructions for Juno](http://docs.junolab.org/latest/man/installation.html)  if you have further issues.\n",
    "\n",
    "If you upgrade Atom and it breaks Juno, run the following in a terminal."
   ]
  },
  {
   "cell_type": "markdown",
   "id": "eef4b589",
   "metadata": {
    "hide-output": false
   },
   "source": [
    "```text\n",
    "apm uninstall ink julia-client\n",
    "apm install ink julia-client\n",
    "```\n"
   ]
  },
  {
   "cell_type": "markdown",
   "id": "c4bcb763",
   "metadata": {},
   "source": [
    "If you aren’t able to install `apm` in your PATH, you can do the above by running the following in PowerShell:"
   ]
  },
  {
   "cell_type": "markdown",
   "id": "dfdeab6b",
   "metadata": {
    "hide-output": false
   },
   "source": [
    "```text\n",
    "cd $ENV:LOCALAPPDATA/atom/bin\n",
    "```\n"
   ]
  },
  {
   "cell_type": "markdown",
   "id": "6bfeb5aa",
   "metadata": {},
   "source": [
    "Then navigating to a folder like `C:\\Users\\USERNAME\\AppData\\Local\\atom\\bin` (which will contain the `apm` tool), and running:"
   ]
  },
  {
   "cell_type": "markdown",
   "id": "577dff81",
   "metadata": {
    "hide-output": false
   },
   "source": [
    "```text\n",
    "./apm uninstall ink julia-client\n",
    "./apm install ink julia-client\n",
    "```\n"
   ]
  },
  {
   "cell_type": "markdown",
   "id": "74f413c4",
   "metadata": {},
   "source": [
    "\n",
    "<a id='upgrading-julia'></a>"
   ]
  },
  {
   "cell_type": "markdown",
   "id": "26d3f874",
   "metadata": {},
   "source": [
    "#### Upgrading Julia\n",
    "\n",
    "To get a new release working with Jupyter, run (in the new version’s REPL)"
   ]
  },
  {
   "cell_type": "markdown",
   "id": "a4acea40",
   "metadata": {
    "hide-output": false
   },
   "source": [
    "```julia\n",
    "] add IJulia\n",
    "] build IJulia\n",
    "```\n"
   ]
  },
  {
   "cell_type": "markdown",
   "id": "a43b76f1",
   "metadata": {},
   "source": [
    "This will install (and build) the `IJulia` kernel.\n",
    "\n",
    "To get it working with Atom, open the command palette and type “Julia Client: Settings.”\n",
    "\n",
    "Then, in the box labelled “Julia Path,” enter the path to yor Julia executabe.\n",
    "\n",
    "You can find the folder by running `Sys.BINDIR` in a new REPL, and then add the `/julia` at the end to give the exact path.\n",
    "\n",
    "For example:\n",
    "\n",
    "![https://julia.quantecon.org/_static/figures/julia-path.png](https://julia.quantecon.org/_static/figures/julia-path.png)"
   ]
  },
  {
   "cell_type": "markdown",
   "id": "fe09e3e4",
   "metadata": {},
   "source": [
    "### Standard Layout\n",
    "\n",
    "If you follow the instructions, you should see something like this when you open a new file.\n",
    "\n",
    "If you don’t, simply go to the command palette and type “Julia standard layout”\n",
    "\n",
    "![https://julia.quantecon.org/_static/figures/juno-standard-layout.png](https://julia.quantecon.org/_static/figures/juno-standard-layout.png)\n",
    "\n",
    "  \n",
    "The bottom pane is a standard REPL, which supports the different modes above.\n",
    "\n",
    "The “workspace” pane is a snapshot of currently-defined objects.\n",
    "\n",
    "For example, if we define an object in the REPL"
   ]
  },
  {
   "cell_type": "markdown",
   "id": "dafdc22f",
   "metadata": {
    "hide-output": false
   },
   "source": [
    "```julia\n",
    "x = 2\n",
    "```\n"
   ]
  },
  {
   "cell_type": "markdown",
   "id": "b946abed",
   "metadata": {},
   "source": [
    "Our workspace should read\n",
    "\n",
    "![https://julia.quantecon.org/_static/figures/juno-workspace-1.png](https://julia.quantecon.org/_static/figures/juno-workspace-1.png)\n",
    "\n",
    "  \n",
    "The `ans` variable simply captures the result of the last computation.\n",
    "\n",
    "The `Documentation` pane simply lets us query Julia documentation\n",
    "\n",
    "![https://julia.quantecon.org/_static/figures/juno-docs.png](https://julia.quantecon.org/_static/figures/juno-docs.png)\n",
    "\n",
    "  \n",
    "The `Plots` pane captures Julia plots output (the code is as follows)"
   ]
  },
  {
   "cell_type": "markdown",
   "id": "aff7da7e",
   "metadata": {
    "hide-output": false
   },
   "source": [
    "```julia\n",
    "using Plots\n",
    "gr(fmt = :png);\n",
    "data = rand(10, 10)\n",
    "h = heatmap(data)\n",
    "```\n"
   ]
  },
  {
   "cell_type": "markdown",
   "id": "7942d980",
   "metadata": {},
   "source": [
    "![https://julia.quantecon.org/_static/figures/juno-plots.png](https://julia.quantecon.org/_static/figures/juno-plots.png)\n",
    "\n",
    "  \n",
    "**Note:** The plots feature is not perfectly reliable across all plotting backends, see [the Basic Usage](http://docs.junolab.org/latest/man/basic_usage.html) page."
   ]
  },
  {
   "cell_type": "markdown",
   "id": "19d464a7",
   "metadata": {},
   "source": [
    "### Other Features\n",
    "\n",
    "- `Shift + Enter` will evaluate a highlighted selection or line (as above).  \n",
    "- The run symbol in the left sidebar (or `Ctrl+Shift+Enter`) will run the whole file.  \n",
    "\n",
    "\n",
    "See [basic usage](http://docs.junolab.org/latest/man/basic_usage.html) for an exploration of features, and  the [FAQ](http://docs.junolab.org/latest/man/faq.html) for more advanced steps.\n",
    "\n",
    "\n",
    "<a id='jl-packages'></a>"
   ]
  },
  {
   "cell_type": "markdown",
   "id": "206d0429",
   "metadata": {},
   "source": [
    "## Package Environments\n",
    "\n",
    "Julia’s package manager lets you set up Python-style “virtualenvs,” or subsets of packages that draw from an underlying pool of assets on the machine.\n",
    "\n",
    "This way, you can work with (and specify) the dependencies (i.e., required packages) for one project without worrying about impacts on other projects.\n",
    "\n",
    "- An `environment` is a set of packages specified by a `Project.toml` (and optionally, a `Manifest.toml`).  \n",
    "- A `registry` is a git repository corresponding to a list of (typically) registered packages, from which Julia can pull (for more on git repositories, see [version control](https://julia.quantecon.org/version_control.html)).  \n",
    "- A `depot` is a directory, like `~/.julia`, which contains assets (compile caches, registries, package source directories, etc.).  \n",
    "\n",
    "\n",
    "Essentially, an environment is a dependency tree for a project, or a “frame of mind” for Julia’s package manager.\n",
    "\n",
    "- We can see the default (`v1.1`) environment as such  "
   ]
  },
  {
   "cell_type": "markdown",
   "id": "e47cdb62",
   "metadata": {
    "hide-output": false
   },
   "source": [
    "```julia\n",
    "] st\n",
    "```\n"
   ]
  },
  {
   "cell_type": "markdown",
   "id": "6f69478d",
   "metadata": {},
   "source": [
    "- We can also create and activate a new environment  "
   ]
  },
  {
   "cell_type": "markdown",
   "id": "eb17e4dd",
   "metadata": {
    "hide-output": false
   },
   "source": [
    "```julia\n",
    "] generate ExampleEnvironment\n",
    "```\n"
   ]
  },
  {
   "cell_type": "markdown",
   "id": "0b76327a",
   "metadata": {},
   "source": [
    "- And go to it  "
   ]
  },
  {
   "cell_type": "markdown",
   "id": "0e646dc0",
   "metadata": {
    "hide-output": false
   },
   "source": [
    "```julia\n",
    "; cd ExampleEnvironment\n",
    "```\n"
   ]
  },
  {
   "cell_type": "markdown",
   "id": "77eefe5d",
   "metadata": {},
   "source": [
    "- To activate the directory, simply  "
   ]
  },
  {
   "cell_type": "markdown",
   "id": "1f6bec55",
   "metadata": {
    "hide-output": false
   },
   "source": [
    "```julia\n",
    "] activate .\n",
    "```\n"
   ]
  },
  {
   "cell_type": "markdown",
   "id": "3ac358f0",
   "metadata": {},
   "source": [
    "where “.” stands in for the “present working directory”.\n",
    "\n",
    "- Let’s make some changes to this  "
   ]
  },
  {
   "cell_type": "markdown",
   "id": "dcca11bb",
   "metadata": {
    "hide-output": false
   },
   "source": [
    "```julia\n",
    "] add Expectations Parameters\n",
    "```\n"
   ]
  },
  {
   "cell_type": "markdown",
   "id": "0a90fa09",
   "metadata": {},
   "source": [
    "Note the lack of commas\n",
    "\n",
    "- To see the changes, simply open the `ExampleEnvironment` directory in an editor like Atom.  \n",
    "\n",
    "\n",
    "The Project TOML should look something like this"
   ]
  },
  {
   "cell_type": "markdown",
   "id": "996c2fd3",
   "metadata": {
    "hide-output": false
   },
   "source": [
    "```text\n",
    "name = \"ExampleEnvironment\"\n",
    "uuid = \"14d3e79e-e2e5-11e8-28b9-19823016c34c\"\n",
    "authors = [\"QuantEcon User <quanteconuser@gmail.com>\"]\n",
    "version = \"0.1.0\"\n",
    "\n",
    "[deps]\n",
    "Expectations = \"2fe49d83-0758-5602-8f54-1f90ad0d522b\"\n",
    "Parameters = \"d96e819e-fc66-5662-9728-84c9c7592b0a\"\n",
    "```\n"
   ]
  },
  {
   "cell_type": "markdown",
   "id": "739e077a",
   "metadata": {},
   "source": [
    "We can also"
   ]
  },
  {
   "cell_type": "markdown",
   "id": "4211caad",
   "metadata": {
    "hide-output": false
   },
   "source": [
    "```julia\n",
    "] precompile\n",
    "```\n"
   ]
  },
  {
   "cell_type": "markdown",
   "id": "47457d69",
   "metadata": {},
   "source": [
    "**Note** The TOML files are independent of the actual assets (which live in `~/.julia/packages`, `~/.julia/dev`, and `~/.julia/compiled`).\n",
    "\n",
    "You can think of the TOML as specifying demands for resources, which are supplied by the `~/.julia` user depot.\n",
    "\n",
    "- To return to the default Julia environment, simply  "
   ]
  },
  {
   "cell_type": "markdown",
   "id": "b15e9d9b",
   "metadata": {
    "hide-output": false
   },
   "source": [
    "```julia\n",
    "] activate\n",
    "```\n"
   ]
  },
  {
   "cell_type": "markdown",
   "id": "ca61dc8a",
   "metadata": {},
   "source": [
    "without any arguments.\n",
    "\n",
    "- Lastly, let’s clean up  "
   ]
  },
  {
   "cell_type": "markdown",
   "id": "24921de9",
   "metadata": {
    "hide-output": false
   },
   "source": [
    "```julia\n",
    "; cd ..\n",
    "```\n"
   ]
  },
  {
   "cell_type": "markdown",
   "id": "6178788c",
   "metadata": {
    "hide-output": false
   },
   "source": [
    "```julia\n",
    "; rm -rf ExampleEnvironment\n",
    "```\n"
   ]
  },
  {
   "cell_type": "markdown",
   "id": "694f0a8a",
   "metadata": {},
   "source": [
    "### InstantiateFromURL\n",
    "\n",
    "With this knowledge, we can explain the operation of the setup block\n",
    "\n",
    "What this `github_project` function does is activate (and if necessary, download, instantiate and precompile) a particular Julia environment."
   ]
  }
 ],
 "metadata": {
  "date": 1628652596.684698,
  "filename": "tools_editors.md",
  "kernelspec": {
   "display_name": "Julia",
   "language": "julia",
   "name": "julia"
  },
  "title": "Julia Tools and Editors"
 },
 "nbformat": 4,
 "nbformat_minor": 5
}