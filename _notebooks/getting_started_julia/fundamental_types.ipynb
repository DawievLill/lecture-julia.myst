{
 "cells": [
  {
   "cell_type": "markdown",
   "id": "dd5a7115",
   "metadata": {},
   "source": [
    "\n",
    "<a id='fundamental-types'></a>"
   ]
  },
  {
   "cell_type": "markdown",
   "id": "fdea0176",
   "metadata": {},
   "source": [
    "# Arrays, Tuples, Ranges, and Other Fundamental Types"
   ]
  },
  {
   "cell_type": "markdown",
   "id": "2b60ceb3",
   "metadata": {},
   "source": [
    "## Contents\n",
    "\n",
    "- [Arrays, Tuples, Ranges, and Other Fundamental Types](#Arrays,-Tuples,-Ranges,-and-Other-Fundamental-Types)  \n",
    "  - [Overview](#Overview)  \n",
    "  - [Array Basics](#Array-Basics)  \n",
    "  - [Operations on Arrays](#Operations-on-Arrays)  \n",
    "  - [Ranges](#Ranges)  \n",
    "  - [Tuples and Named Tuples](#Tuples-and-Named-Tuples)  \n",
    "  - [Nothing, Missing, and Unions](#Nothing,-Missing,-and-Unions)  \n",
    "  - [Exercises](#Exercises)  \n",
    "  - [Solutions](#Solutions)  "
   ]
  },
  {
   "cell_type": "markdown",
   "id": "386f50e9",
   "metadata": {},
   "source": [
    "> “Let’s be clear: the work of science has nothing whatever to do with consensus.\n",
    "> Consensus is the business of politics. Science, on the contrary, requires only\n",
    "> one investigator who happens to be right, which means that he or she has\n",
    "> results that are verifiable by reference to the real world. In science\n",
    "> consensus is irrelevant. What is relevant is reproducible results.” – Michael Crichton"
   ]
  },
  {
   "cell_type": "markdown",
   "id": "41b338e6",
   "metadata": {},
   "source": [
    "## Overview\n",
    "\n",
    "In Julia, arrays and tuples are the most important data type for working with numerical data.\n",
    "\n",
    "In this lecture we give more details on\n",
    "\n",
    "- creating and manipulating Julia arrays  \n",
    "- fundamental array processing operations  \n",
    "- basic matrix algebra  \n",
    "- tuples and named tuples  \n",
    "- ranges  \n",
    "- nothing, missing, and unions  "
   ]
  },
  {
   "cell_type": "markdown",
   "id": "a39592a6",
   "metadata": {
    "hide-output": false
   },
   "source": [
    "```julia\n",
    "using LinearAlgebra, Statistics\n",
    "```\n"
   ]
  },
  {
   "cell_type": "markdown",
   "id": "8160a475",
   "metadata": {},
   "source": [
    "## Array Basics\n",
    "\n",
    "([See multi-dimensional arrays documentation](https://docs.julialang.org/en/v1/manual/arrays/))\n",
    "\n",
    "Since it is one of the most important types, we will start with arrays.\n",
    "\n",
    "Later, we will see how arrays (and all other types in Julia) are handled in a generic and extensible way."
   ]
  },
  {
   "cell_type": "markdown",
   "id": "0f6e4243",
   "metadata": {},
   "source": [
    "### Shape and Dimension\n",
    "\n",
    "We’ve already seen some Julia arrays in action"
   ]
  },
  {
   "cell_type": "markdown",
   "id": "351a511d",
   "metadata": {
    "hide-output": false
   },
   "source": [
    "```julia\n",
    "a = [10, 20, 30]\n",
    "```\n"
   ]
  },
  {
   "cell_type": "markdown",
   "id": "20b0bb2d",
   "metadata": {
    "hide-output": false
   },
   "source": [
    "```julia\n",
    "a = [1.0, 2.0, 3.0]\n",
    "```\n"
   ]
  },
  {
   "cell_type": "markdown",
   "id": "a652458c",
   "metadata": {},
   "source": [
    "The output tells us that the arrays are of types `Array{Int64,1}` and `Array{Float64,1}` respectively.\n",
    "\n",
    "Here `Int64` and `Float64` are types for the elements inferred by the compiler.\n",
    "\n",
    "We’ll talk more about types later.\n",
    "\n",
    "The `1` in `Array{Int64,1}` and `Array{Any,1}` indicates that the array is\n",
    "one dimensional (i.e., a `Vector`).\n",
    "\n",
    "This is the default for many Julia functions that create arrays"
   ]
  },
  {
   "cell_type": "markdown",
   "id": "2a4d5d48",
   "metadata": {
    "hide-output": false
   },
   "source": [
    "```julia\n",
    "typeof(randn(100))\n",
    "```\n"
   ]
  },
  {
   "cell_type": "markdown",
   "id": "48fbafc0",
   "metadata": {},
   "source": [
    "In Julia, one dimensional vectors are best interpreted as column vectors, which we will see when we take transposes.\n",
    "\n",
    "We can check the dimensions of `a` using `size()` and `ndims()`\n",
    "functions"
   ]
  },
  {
   "cell_type": "markdown",
   "id": "ca23ec42",
   "metadata": {
    "hide-output": false
   },
   "source": [
    "```julia\n",
    "ndims(a)\n",
    "```\n"
   ]
  },
  {
   "cell_type": "markdown",
   "id": "a6db8637",
   "metadata": {
    "hide-output": false
   },
   "source": [
    "```julia\n",
    "size(a)\n",
    "```\n"
   ]
  },
  {
   "cell_type": "markdown",
   "id": "1e522b89",
   "metadata": {},
   "source": [
    "The syntax `(3,)` displays a tuple containing one element – the size along the one dimension that exists."
   ]
  },
  {
   "cell_type": "markdown",
   "id": "d9635f5d",
   "metadata": {},
   "source": [
    "#### Array vs Vector vs Matrix\n",
    "\n",
    "In Julia, `Vector` and `Matrix` are just aliases for one- and two-dimensional arrays\n",
    "respectively"
   ]
  },
  {
   "cell_type": "markdown",
   "id": "8f0a8429",
   "metadata": {
    "hide-output": false
   },
   "source": [
    "```julia\n",
    "Array{Int64, 1} == Vector{Int64}\n",
    "Array{Int64, 2} == Matrix{Int64}\n",
    "```\n"
   ]
  },
  {
   "cell_type": "markdown",
   "id": "8d982436",
   "metadata": {},
   "source": [
    "Vector construction with `,` is then interpreted as a column vector.\n",
    "\n",
    "To see this, we can create a column vector and row vector more directly"
   ]
  },
  {
   "cell_type": "markdown",
   "id": "e2892173",
   "metadata": {
    "hide-output": false
   },
   "source": [
    "```julia\n",
    "[1, 2, 3] == [1; 2; 3]  # both column vectors\n",
    "```\n"
   ]
  },
  {
   "cell_type": "markdown",
   "id": "f321c34b",
   "metadata": {
    "hide-output": false
   },
   "source": [
    "```julia\n",
    "[1 2 3]  # a row vector is 2-dimensional\n",
    "```\n"
   ]
  },
  {
   "cell_type": "markdown",
   "id": "f03016ba",
   "metadata": {},
   "source": [
    "As we’ve seen, in Julia we have both\n",
    "\n",
    "- one-dimensional arrays (i.e., flat arrays)  \n",
    "- arrays of size `(1, n)` or `(n, 1)` that represent row and column vectors respectively  \n",
    "\n",
    "\n",
    "Why do we need both?\n",
    "\n",
    "On one hand, dimension matters for matrix algebra.\n",
    "\n",
    "- Multiplying by a row vector is different to multiplying by a column vector.  \n",
    "\n",
    "\n",
    "On the other, we use arrays in many settings that don’t involve matrix algebra.\n",
    "\n",
    "In such cases, we don’t care about the distinction between row and column vectors.\n",
    "\n",
    "This is why many Julia functions return flat arrays by default.\n",
    "\n",
    "\n",
    "<a id='creating-arrays'></a>"
   ]
  },
  {
   "cell_type": "markdown",
   "id": "91902b79",
   "metadata": {},
   "source": [
    "### Creating Arrays"
   ]
  },
  {
   "cell_type": "markdown",
   "id": "5d9cb2d6",
   "metadata": {},
   "source": [
    "#### Functions that Create Arrays\n",
    "\n",
    "We’ve already seen some functions for creating a vector filled with `0.0`"
   ]
  },
  {
   "cell_type": "markdown",
   "id": "a480866e",
   "metadata": {
    "hide-output": false
   },
   "source": [
    "```julia\n",
    "zeros(3)\n",
    "```\n"
   ]
  },
  {
   "cell_type": "markdown",
   "id": "ac80fcc1",
   "metadata": {},
   "source": [
    "This generalizes to matrices and higher dimensional arrays"
   ]
  },
  {
   "cell_type": "markdown",
   "id": "caeee3c9",
   "metadata": {
    "hide-output": false
   },
   "source": [
    "```julia\n",
    "zeros(2, 2)\n",
    "```\n"
   ]
  },
  {
   "cell_type": "markdown",
   "id": "834993d1",
   "metadata": {},
   "source": [
    "To return an array filled with a single value, use `fill`"
   ]
  },
  {
   "cell_type": "markdown",
   "id": "7a81182d",
   "metadata": {
    "hide-output": false
   },
   "source": [
    "```julia\n",
    "fill(5.0, 2, 2)\n",
    "```\n"
   ]
  },
  {
   "cell_type": "markdown",
   "id": "3b975d63",
   "metadata": {},
   "source": [
    "Finally, you can create an empty array using the `Array()` constructor"
   ]
  },
  {
   "cell_type": "markdown",
   "id": "2017390a",
   "metadata": {
    "hide-output": false
   },
   "source": [
    "```julia\n",
    "x = Array{Float64}(undef, 2, 2)\n",
    "```\n"
   ]
  },
  {
   "cell_type": "markdown",
   "id": "a1792b79",
   "metadata": {},
   "source": [
    "The printed values you see here are just garbage values.\n",
    "\n",
    "(the existing contents of the allocated memory slots being interpreted as 64 bit floats)\n",
    "\n",
    "If you need more control over the types, fill with a non-floating point"
   ]
  },
  {
   "cell_type": "markdown",
   "id": "962c0b2e",
   "metadata": {
    "hide-output": false
   },
   "source": [
    "```julia\n",
    "fill(0, 2, 2)  # fills with 0, not 0.0\n",
    "```\n"
   ]
  },
  {
   "cell_type": "markdown",
   "id": "57f4a9d2",
   "metadata": {},
   "source": [
    "Or fill with a boolean type"
   ]
  },
  {
   "cell_type": "markdown",
   "id": "7812b954",
   "metadata": {
    "hide-output": false
   },
   "source": [
    "```julia\n",
    "fill(false, 2, 2)  # produces a boolean matrix\n",
    "```\n"
   ]
  },
  {
   "cell_type": "markdown",
   "id": "923382f1",
   "metadata": {},
   "source": [
    "#### Creating Arrays from Existing Arrays\n",
    "\n",
    "For the most part, we will avoid directly specifying the types of arrays, and let the compiler deduce the optimal types on its own.\n",
    "\n",
    "The reasons for this, discussed in more detail in [this lecture](https://julia.quantecon.org/../more_julia/generic_programming.html), are to ensure both clarity and generality.\n",
    "\n",
    "One place this can be inconvenient is when we need to create an array based on an existing array.\n",
    "\n",
    "First, note that assignment in Julia binds a name to a value, but does not make a copy of that type"
   ]
  },
  {
   "cell_type": "markdown",
   "id": "973dbaae",
   "metadata": {
    "hide-output": false
   },
   "source": [
    "```julia\n",
    "x = [1, 2, 3]\n",
    "y = x\n",
    "y[1] = 2\n",
    "x\n",
    "```\n"
   ]
  },
  {
   "cell_type": "markdown",
   "id": "60c43040",
   "metadata": {},
   "source": [
    "In the above, `y = x` simply creates a new named binding called `y` which refers to whatever `x` currently binds to.\n",
    "\n",
    "To copy the data, you need to be more explicit"
   ]
  },
  {
   "cell_type": "markdown",
   "id": "177462b7",
   "metadata": {
    "hide-output": false
   },
   "source": [
    "```julia\n",
    "x = [1, 2, 3]\n",
    "y = copy(x)\n",
    "y[1] = 2\n",
    "x\n",
    "```\n"
   ]
  },
  {
   "cell_type": "markdown",
   "id": "abeed267",
   "metadata": {},
   "source": [
    "However, rather than making a copy of `x`, you may want to just have a similarly sized array"
   ]
  },
  {
   "cell_type": "markdown",
   "id": "9266f97e",
   "metadata": {
    "hide-output": false
   },
   "source": [
    "```julia\n",
    "x = [1, 2, 3]\n",
    "y = similar(x)\n",
    "y\n",
    "```\n"
   ]
  },
  {
   "cell_type": "markdown",
   "id": "8ad2447f",
   "metadata": {},
   "source": [
    "We can also use `similar` to pre-allocate a vector with a different size, but the same shape"
   ]
  },
  {
   "cell_type": "markdown",
   "id": "4903dd03",
   "metadata": {
    "hide-output": false
   },
   "source": [
    "```julia\n",
    "x = [1, 2, 3]\n",
    "y = similar(x, 4)  # make a vector of length 4\n",
    "```\n"
   ]
  },
  {
   "cell_type": "markdown",
   "id": "6f009a85",
   "metadata": {},
   "source": [
    "Which generalizes to higher dimensions"
   ]
  },
  {
   "cell_type": "markdown",
   "id": "d23f6439",
   "metadata": {
    "hide-output": false
   },
   "source": [
    "```julia\n",
    "x = [1, 2, 3]\n",
    "y = similar(x, 2, 2)  # make a 2x2 matrix\n",
    "```\n"
   ]
  },
  {
   "cell_type": "markdown",
   "id": "6cf8dc9a",
   "metadata": {},
   "source": [
    "#### Manual Array Definitions\n",
    "\n",
    "As we’ve seen, you can create one dimensional arrays from manually specified data like so"
   ]
  },
  {
   "cell_type": "markdown",
   "id": "cd49f3ab",
   "metadata": {
    "hide-output": false
   },
   "source": [
    "```julia\n",
    "a = [10, 20, 30, 40]\n",
    "```\n"
   ]
  },
  {
   "cell_type": "markdown",
   "id": "96b66a04",
   "metadata": {},
   "source": [
    "In two dimensions we can proceed as follows"
   ]
  },
  {
   "cell_type": "markdown",
   "id": "85646dc4",
   "metadata": {
    "hide-output": false
   },
   "source": [
    "```julia\n",
    "a = [10 20 30 40]  # two dimensional, shape is 1 x n\n",
    "```\n"
   ]
  },
  {
   "cell_type": "markdown",
   "id": "0dc2ca68",
   "metadata": {
    "hide-output": false
   },
   "source": [
    "```julia\n",
    "ndims(a)\n",
    "```\n"
   ]
  },
  {
   "cell_type": "markdown",
   "id": "da7048c3",
   "metadata": {
    "hide-output": false
   },
   "source": [
    "```julia\n",
    "a = [10 20; 30 40]  # 2 x 2\n",
    "```\n"
   ]
  },
  {
   "cell_type": "markdown",
   "id": "f3f6bd82",
   "metadata": {},
   "source": [
    "You might then assume that `a = [10; 20; 30; 40]` creates a two dimensional column vector but this isn’t the case."
   ]
  },
  {
   "cell_type": "markdown",
   "id": "deb530ad",
   "metadata": {
    "hide-output": false
   },
   "source": [
    "```julia\n",
    "a = [10; 20; 30; 40]\n",
    "```\n"
   ]
  },
  {
   "cell_type": "markdown",
   "id": "2cddc642",
   "metadata": {
    "hide-output": false
   },
   "source": [
    "```julia\n",
    "ndims(a)\n",
    "```\n"
   ]
  },
  {
   "cell_type": "markdown",
   "id": "bac657b6",
   "metadata": {},
   "source": [
    "Instead transpose the matrix (or adjoint if complex)"
   ]
  },
  {
   "cell_type": "markdown",
   "id": "bde49c89",
   "metadata": {
    "hide-output": false
   },
   "source": [
    "```julia\n",
    "a = [10 20 30 40]'\n",
    "```\n"
   ]
  },
  {
   "cell_type": "markdown",
   "id": "25140bbd",
   "metadata": {
    "hide-output": false
   },
   "source": [
    "```julia\n",
    "ndims(a)\n",
    "```\n"
   ]
  },
  {
   "cell_type": "markdown",
   "id": "77808c3c",
   "metadata": {},
   "source": [
    "### Array Indexing\n",
    "\n",
    "We’ve already seen the basics of array indexing"
   ]
  },
  {
   "cell_type": "markdown",
   "id": "a85ba1e9",
   "metadata": {
    "hide-output": false
   },
   "source": [
    "```julia\n",
    "a = [10 20 30 40]\n",
    "a[end-1]\n",
    "```\n"
   ]
  },
  {
   "cell_type": "markdown",
   "id": "dbbade86",
   "metadata": {
    "hide-output": false
   },
   "source": [
    "```julia\n",
    "a[1:3]\n",
    "```\n"
   ]
  },
  {
   "cell_type": "markdown",
   "id": "f25e71b9",
   "metadata": {},
   "source": [
    "For 2D arrays the index syntax is straightforward"
   ]
  },
  {
   "cell_type": "markdown",
   "id": "d4f6230f",
   "metadata": {
    "hide-output": false
   },
   "source": [
    "```julia\n",
    "a = randn(2, 2)\n",
    "a[1, 1]\n",
    "```\n"
   ]
  },
  {
   "cell_type": "markdown",
   "id": "1c65ddb9",
   "metadata": {
    "hide-output": false
   },
   "source": [
    "```julia\n",
    "a[1, :]  # first row\n",
    "```\n"
   ]
  },
  {
   "cell_type": "markdown",
   "id": "82e4afea",
   "metadata": {
    "hide-output": false
   },
   "source": [
    "```julia\n",
    "a[:, 1]  # first column\n",
    "```\n"
   ]
  },
  {
   "cell_type": "markdown",
   "id": "e566194e",
   "metadata": {},
   "source": [
    "Booleans can be used to extract elements"
   ]
  },
  {
   "cell_type": "markdown",
   "id": "4c06f99b",
   "metadata": {
    "hide-output": false
   },
   "source": [
    "```julia\n",
    "a = randn(2, 2)\n",
    "```\n"
   ]
  },
  {
   "cell_type": "markdown",
   "id": "5fb3f411",
   "metadata": {
    "hide-output": false
   },
   "source": [
    "```julia\n",
    "b = [true false; false true]\n",
    "```\n"
   ]
  },
  {
   "cell_type": "markdown",
   "id": "2af5a83d",
   "metadata": {
    "hide-output": false
   },
   "source": [
    "```julia\n",
    "a[b]\n",
    "```\n"
   ]
  },
  {
   "cell_type": "markdown",
   "id": "d49890d4",
   "metadata": {},
   "source": [
    "This is useful for conditional extraction, as we’ll see below.\n",
    "\n",
    "An aside: some or all elements of an array can be set equal to one number using slice notation."
   ]
  },
  {
   "cell_type": "markdown",
   "id": "68732924",
   "metadata": {
    "hide-output": false
   },
   "source": [
    "```julia\n",
    "a = zeros(4)\n",
    "```\n"
   ]
  },
  {
   "cell_type": "markdown",
   "id": "da2335d2",
   "metadata": {
    "hide-output": false
   },
   "source": [
    "```julia\n",
    "a[2:end] .= 42\n",
    "```\n"
   ]
  },
  {
   "cell_type": "markdown",
   "id": "efd5cb68",
   "metadata": {
    "hide-output": false
   },
   "source": [
    "```julia\n",
    "a\n",
    "```\n"
   ]
  },
  {
   "cell_type": "markdown",
   "id": "07d9f881",
   "metadata": {},
   "source": [
    "### Views and Slices\n",
    "\n",
    "Using the `:` notation provides a slice of an array, copying the sub-array to a new array with a similar type."
   ]
  },
  {
   "cell_type": "markdown",
   "id": "9141f685",
   "metadata": {
    "hide-output": false
   },
   "source": [
    "```julia\n",
    "a = [1 2; 3 4]\n",
    "b = a[:, 2]\n",
    "@show b\n",
    "a[:, 2] = [4, 5] # modify a\n",
    "@show a\n",
    "@show b;\n",
    "```\n"
   ]
  },
  {
   "cell_type": "markdown",
   "id": "03932294",
   "metadata": {},
   "source": [
    "A **view** on the other hand does not copy the value"
   ]
  },
  {
   "cell_type": "markdown",
   "id": "c94beebc",
   "metadata": {
    "hide-output": false
   },
   "source": [
    "```julia\n",
    "a = [1 2; 3 4]\n",
    "@views b = a[:, 2]\n",
    "@show b\n",
    "a[:, 2] = [4, 5]\n",
    "@show a\n",
    "@show b;\n",
    "```\n"
   ]
  },
  {
   "cell_type": "markdown",
   "id": "b020db5d",
   "metadata": {},
   "source": [
    "Note that the only difference is the `@views` macro, which will replace any slices with views in the expression.\n",
    "\n",
    "An alternative is to call the `view` function directly – though it is generally discouraged since it is a step away from the math."
   ]
  },
  {
   "cell_type": "markdown",
   "id": "b6d0ab03",
   "metadata": {
    "hide-output": false
   },
   "source": [
    "```julia\n",
    "@views b = a[:, 2]\n",
    "view(a, :, 2) == b\n",
    "```\n"
   ]
  },
  {
   "cell_type": "markdown",
   "id": "d1d6760b",
   "metadata": {},
   "source": [
    "As with most programming in Julia, it is best to avoid prematurely assuming that `@views` will have a significant impact on performance, and stress code clarity above all else.\n",
    "\n",
    "Another important lesson about `@views` is that they **are not** normal, dense arrays."
   ]
  },
  {
   "cell_type": "markdown",
   "id": "d536da8c",
   "metadata": {
    "hide-output": false
   },
   "source": [
    "```julia\n",
    "a = [1 2; 3 4]\n",
    "b_slice = a[:, 2]\n",
    "@show typeof(b_slice)\n",
    "@show typeof(a)\n",
    "@views b = a[:, 2]\n",
    "@show typeof(b);\n",
    "```\n"
   ]
  },
  {
   "cell_type": "markdown",
   "id": "4e41ac60",
   "metadata": {},
   "source": [
    "The type of `b` is a good example of how types are not as they may seem.\n",
    "\n",
    "Similarly"
   ]
  },
  {
   "cell_type": "markdown",
   "id": "c7a8d010",
   "metadata": {
    "hide-output": false
   },
   "source": [
    "```julia\n",
    "a = [1 2; 3 4]\n",
    "b = a'   # transpose\n",
    "typeof(b)\n",
    "```\n"
   ]
  },
  {
   "cell_type": "markdown",
   "id": "be4dec2c",
   "metadata": {},
   "source": [
    "To copy into a dense array"
   ]
  },
  {
   "cell_type": "markdown",
   "id": "e93756d1",
   "metadata": {
    "hide-output": false
   },
   "source": [
    "```julia\n",
    "a = [1 2; 3 4]\n",
    "b = a' # transpose\n",
    "c = Matrix(b)  # convert to matrix\n",
    "d = collect(b) # also `collect` works on any iterable\n",
    "c == d\n",
    "```\n"
   ]
  },
  {
   "cell_type": "markdown",
   "id": "49711f82",
   "metadata": {},
   "source": [
    "### Special Matrices\n",
    "\n",
    "As we saw with `transpose`, sometimes types that look like matrices are not stored as a dense array.\n",
    "\n",
    "As an example, consider creating a diagonal matrix"
   ]
  },
  {
   "cell_type": "markdown",
   "id": "daa5cc9f",
   "metadata": {
    "hide-output": false
   },
   "source": [
    "```julia\n",
    "d = [1.0, 2.0]\n",
    "a = Diagonal(d)\n",
    "```\n"
   ]
  },
  {
   "cell_type": "markdown",
   "id": "a39f718a",
   "metadata": {},
   "source": [
    "As you can see, the type is `2×2 Diagonal{Float64,Array{Float64,1}}`, which is not a 2-dimensional array.\n",
    "\n",
    "The reasons for this are both efficiency in storage, as well as efficiency in arithmetic and matrix operations.\n",
    "\n",
    "In every important sense, matrix types such as `Diagonal` are just as much a “matrix” as the dense matrices we have using (see the [introduction to types lecture](https://julia.quantecon.org/introduction_to_types.html) for more)"
   ]
  },
  {
   "cell_type": "markdown",
   "id": "b234e33e",
   "metadata": {
    "hide-output": false
   },
   "source": [
    "```julia\n",
    "@show 2a\n",
    "b = rand(2,2)\n",
    "@show b * a;\n",
    "```\n"
   ]
  },
  {
   "cell_type": "markdown",
   "id": "906e4433",
   "metadata": {},
   "source": [
    "Another example is in the construction of an identity matrix, where a naive implementation is"
   ]
  },
  {
   "cell_type": "markdown",
   "id": "f96b949d",
   "metadata": {
    "hide-output": false
   },
   "source": [
    "```julia\n",
    "b = [1.0 2.0; 3.0 4.0]\n",
    "b - Diagonal([1.0, 1.0])  # poor style, inefficient code\n",
    "```\n"
   ]
  },
  {
   "cell_type": "markdown",
   "id": "44263769",
   "metadata": {},
   "source": [
    "Whereas you should instead use"
   ]
  },
  {
   "cell_type": "markdown",
   "id": "a6a21048",
   "metadata": {
    "hide-output": false
   },
   "source": [
    "```julia\n",
    "b = [1.0 2.0; 3.0 4.0]\n",
    "b - I  # good style, and note the lack of dimensions of I\n",
    "```\n"
   ]
  },
  {
   "cell_type": "markdown",
   "id": "b17a823d",
   "metadata": {},
   "source": [
    "While the implementation of `I` is a little abstract to go into at this point, a hint is:"
   ]
  },
  {
   "cell_type": "markdown",
   "id": "6cdbe1ff",
   "metadata": {
    "hide-output": false
   },
   "source": [
    "```julia\n",
    "typeof(I)\n",
    "```\n"
   ]
  },
  {
   "cell_type": "markdown",
   "id": "dabdcac5",
   "metadata": {},
   "source": [
    "This is a `UniformScaling` type rather than an identity matrix, making it much more powerful and general."
   ]
  },
  {
   "cell_type": "markdown",
   "id": "3e6ffbd1",
   "metadata": {},
   "source": [
    "### Assignment and Passing Arrays\n",
    "\n",
    "As discussed above, in Julia, the left hand side of an assignment is a “binding” or a label to a value."
   ]
  },
  {
   "cell_type": "markdown",
   "id": "e182daa6",
   "metadata": {
    "hide-output": false
   },
   "source": [
    "```julia\n",
    "x = [1 2 3]\n",
    "y = x  # name `y` binds to whatever value `x` bound to\n",
    "```\n"
   ]
  },
  {
   "cell_type": "markdown",
   "id": "47e9e2f4",
   "metadata": {},
   "source": [
    "The consequence of this, is that you can re-bind that name."
   ]
  },
  {
   "cell_type": "markdown",
   "id": "90471e6f",
   "metadata": {
    "hide-output": false
   },
   "source": [
    "```julia\n",
    "x = [1 2 3]\n",
    "y = x        # name `y` binds to whatever `x` bound to\n",
    "z = [2 3 4]\n",
    "y = z        # only changes name binding, not value!\n",
    "@show (x, y, z);\n",
    "```\n"
   ]
  },
  {
   "cell_type": "markdown",
   "id": "d138b310",
   "metadata": {},
   "source": [
    "What this means is that if `a` is an array and we set `b = a` then `a` and `b` point to exactly the same data.\n",
    "\n",
    "In the above, suppose you had meant to change the value of `x` to the values of `y`, you need to assign the values rather than the name."
   ]
  },
  {
   "cell_type": "markdown",
   "id": "060c396d",
   "metadata": {
    "hide-output": false
   },
   "source": [
    "```julia\n",
    "x = [1 2 3]\n",
    "y = x       # name `y` binds to whatever `x` bound to\n",
    "z = [2 3 4]\n",
    "y .= z      # now dispatches the assignment of each element\n",
    "@show (x, y, z);\n",
    "```\n"
   ]
  },
  {
   "cell_type": "markdown",
   "id": "72431358",
   "metadata": {},
   "source": [
    "Alternatively, you could have used `y[:] = z`.\n",
    "\n",
    "This applies to in-place functions as well.\n",
    "\n",
    "First, define a simple function for a linear map"
   ]
  },
  {
   "cell_type": "markdown",
   "id": "f33e1533",
   "metadata": {
    "hide-output": false
   },
   "source": [
    "```julia\n",
    "function f(x)\n",
    "    return [1 2; 3 4] * x  # matrix * column vector\n",
    "end\n",
    "\n",
    "val = [1, 2]\n",
    "f(val)\n",
    "```\n"
   ]
  },
  {
   "cell_type": "markdown",
   "id": "5080117d",
   "metadata": {},
   "source": [
    "In general, these “out-of-place” functions are preferred to “in-place” functions, which modify the arguments."
   ]
  },
  {
   "cell_type": "markdown",
   "id": "51da2f2f",
   "metadata": {
    "hide-output": false
   },
   "source": [
    "```julia\n",
    "function f(x)\n",
    "    return [1 2; 3 4] * x # matrix * column vector\n",
    "end\n",
    "\n",
    "val = [1, 2]\n",
    "y = similar(val)\n",
    "\n",
    "function f!(out, x)\n",
    "    out .= [1 2; 3 4] * x\n",
    "end\n",
    "\n",
    "f!(y, val)\n",
    "y\n",
    "```\n"
   ]
  },
  {
   "cell_type": "markdown",
   "id": "fac7ad88",
   "metadata": {},
   "source": [
    "This demonstrates a key convention in Julia: functions which modify any of the arguments have the name ending with `!` (e.g. `push!`).\n",
    "\n",
    "We can also see a common mistake, where instead of modifying the arguments, the name binding is swapped"
   ]
  },
  {
   "cell_type": "markdown",
   "id": "dd9c7787",
   "metadata": {
    "hide-output": false
   },
   "source": [
    "```julia\n",
    "function f(x)\n",
    "    return [1 2; 3 4] * x  # matrix * column vector\n",
    "end\n",
    "\n",
    "val = [1, 2]\n",
    "y = similar(val)\n",
    "\n",
    "function f!(out, x)\n",
    "    out = [1 2; 3 4] * x   # MISTAKE! Should be .= or [:]\n",
    "end\n",
    "f!(y, val)\n",
    "y\n",
    "```\n"
   ]
  },
  {
   "cell_type": "markdown",
   "id": "45f68ac1",
   "metadata": {},
   "source": [
    "The frequency of making this mistake is one of the reasons to avoid in-place functions, unless proven to be necessary by benchmarking."
   ]
  },
  {
   "cell_type": "markdown",
   "id": "ecc0b033",
   "metadata": {},
   "source": [
    "### In-place and Immutable Types\n",
    "\n",
    "Note that scalars are always immutable, such that"
   ]
  },
  {
   "cell_type": "markdown",
   "id": "09306809",
   "metadata": {
    "hide-output": false
   },
   "source": [
    "```julia\n",
    "y = [1 2]\n",
    "y .-= 2    # y .= y .- 2, no problem\n",
    "\n",
    "x = 5\n",
    "# x .-= 2  # Fails!\n",
    "x = x - 2  # subtle difference - creates a new value and rebinds the variable\n",
    "```\n"
   ]
  },
  {
   "cell_type": "markdown",
   "id": "c3db2c0a",
   "metadata": {},
   "source": [
    "In particular, there is no way to pass any immutable into a function and have it modified"
   ]
  },
  {
   "cell_type": "markdown",
   "id": "6dac7ac1",
   "metadata": {
    "hide-output": false
   },
   "source": [
    "```julia\n",
    "x = 2\n",
    "\n",
    "function f(x)\n",
    "    x = 3     # MISTAKE! does not modify x, creates a new value!\n",
    "end\n",
    "\n",
    "f(x)          # cannot modify immutables in place\n",
    "@show x;\n",
    "```\n"
   ]
  },
  {
   "cell_type": "markdown",
   "id": "19d9c09e",
   "metadata": {},
   "source": [
    "This is also true for other immutable types such as tuples, as well as some vector types"
   ]
  },
  {
   "cell_type": "markdown",
   "id": "bae44ae9",
   "metadata": {
    "hide-output": false
   },
   "source": [
    "```julia\n",
    "using StaticArrays\n",
    "xdynamic = [1, 2]\n",
    "xstatic = @SVector [1, 2]  # turns it into a highly optimized static vector\n",
    "\n",
    "f(x) = 2x\n",
    "@show f(xdynamic)\n",
    "@show f(xstatic)\n",
    "\n",
    "# inplace version\n",
    "function g(x)\n",
    "    x .= 2x\n",
    "    return \"Success!\"\n",
    "end\n",
    "@show xdynamic\n",
    "@show g(xdynamic)\n",
    "@show xdynamic;\n",
    "\n",
    "# g(xstatic) # fails, static vectors are immutable\n",
    "```\n"
   ]
  },
  {
   "cell_type": "markdown",
   "id": "45fe9388",
   "metadata": {},
   "source": [
    "## Operations on Arrays"
   ]
  },
  {
   "cell_type": "markdown",
   "id": "c7f1b2c0",
   "metadata": {},
   "source": [
    "### Array Methods\n",
    "\n",
    "Julia provides standard functions for acting on arrays, some of which we’ve\n",
    "already seen"
   ]
  },
  {
   "cell_type": "markdown",
   "id": "8957981c",
   "metadata": {
    "hide-output": false
   },
   "source": [
    "```julia\n",
    "a = [-1, 0, 1]\n",
    "\n",
    "@show length(a)\n",
    "@show sum(a)\n",
    "@show mean(a)\n",
    "@show std(a)      # standard deviation\n",
    "@show var(a)      # variance\n",
    "@show maximum(a)\n",
    "@show minimum(a)\n",
    "@show extrema(a)  # (mimimum(a), maximum(a))\n",
    "```\n"
   ]
  },
  {
   "cell_type": "markdown",
   "id": "f0ce8a9e",
   "metadata": {},
   "source": [
    "To sort an array"
   ]
  },
  {
   "cell_type": "markdown",
   "id": "846f44d7",
   "metadata": {
    "hide-output": false
   },
   "source": [
    "```julia\n",
    "b = sort(a, rev = true)  # returns new array, original not modified\n",
    "```\n"
   ]
  },
  {
   "cell_type": "markdown",
   "id": "08cbb00d",
   "metadata": {
    "hide-output": false
   },
   "source": [
    "```julia\n",
    "b = sort!(a, rev = true)  # returns *modified original* array\n",
    "```\n"
   ]
  },
  {
   "cell_type": "markdown",
   "id": "6f6d0bc9",
   "metadata": {
    "hide-output": false
   },
   "source": [
    "```julia\n",
    "b == a  # tests if have the same values\n",
    "```\n"
   ]
  },
  {
   "cell_type": "markdown",
   "id": "a11f0e87",
   "metadata": {
    "hide-output": false
   },
   "source": [
    "```julia\n",
    "b === a  # tests if arrays are identical (i.e share same memory)\n",
    "```\n"
   ]
  },
  {
   "cell_type": "markdown",
   "id": "6c6ef8c9",
   "metadata": {},
   "source": [
    "### Matrix Algebra\n",
    "\n",
    "For two dimensional arrays, `*` means matrix multiplication"
   ]
  },
  {
   "cell_type": "markdown",
   "id": "9505dbd1",
   "metadata": {
    "hide-output": false
   },
   "source": [
    "```julia\n",
    "a = ones(1, 2)\n",
    "```\n"
   ]
  },
  {
   "cell_type": "markdown",
   "id": "a9256385",
   "metadata": {
    "hide-output": false
   },
   "source": [
    "```julia\n",
    "b = ones(2, 2)\n",
    "```\n"
   ]
  },
  {
   "cell_type": "markdown",
   "id": "ea528887",
   "metadata": {
    "hide-output": false
   },
   "source": [
    "```julia\n",
    "a * b\n",
    "```\n"
   ]
  },
  {
   "cell_type": "markdown",
   "id": "47721327",
   "metadata": {
    "hide-output": false
   },
   "source": [
    "```julia\n",
    "b * a'\n",
    "```\n"
   ]
  },
  {
   "cell_type": "markdown",
   "id": "2cd27291",
   "metadata": {},
   "source": [
    "To solve the linear system $ A X = B $ for $ X $ use `A \\ B`"
   ]
  },
  {
   "cell_type": "markdown",
   "id": "013e0ba4",
   "metadata": {
    "hide-output": false
   },
   "source": [
    "```julia\n",
    "A = [1 2; 2 3]\n",
    "```\n"
   ]
  },
  {
   "cell_type": "markdown",
   "id": "a38a6c44",
   "metadata": {
    "hide-output": false
   },
   "source": [
    "```julia\n",
    "B = ones(2, 2)\n",
    "```\n"
   ]
  },
  {
   "cell_type": "markdown",
   "id": "40603e47",
   "metadata": {
    "hide-output": false
   },
   "source": [
    "```julia\n",
    "A \\ B\n",
    "```\n"
   ]
  },
  {
   "cell_type": "markdown",
   "id": "fc1211e8",
   "metadata": {
    "hide-output": false
   },
   "source": [
    "```julia\n",
    "inv(A) * B\n",
    "```\n"
   ]
  },
  {
   "cell_type": "markdown",
   "id": "3f499dac",
   "metadata": {},
   "source": [
    "Although the last two operations give the same result, the first one is numerically more stable and should be preferred in most cases.\n",
    "\n",
    "Multiplying two **one** dimensional vectors gives an error – which is reasonable since the meaning is ambiguous.\n",
    "\n",
    "More precisely, the error is that there isn’t an implementation of `*` for two one dimensional vectors.\n",
    "\n",
    "The output explains this, and lists some other methods of `*` which Julia thinks are close to what we want."
   ]
  },
  {
   "cell_type": "markdown",
   "id": "fe59e5a9",
   "metadata": {
    "hide-output": false
   },
   "source": [
    "```julia\n",
    "ones(2) * ones(2)  # does not conform, expect error\n",
    "```\n"
   ]
  },
  {
   "cell_type": "markdown",
   "id": "4055adfc",
   "metadata": {},
   "source": [
    "Instead, you could take the transpose to form a row vector"
   ]
  },
  {
   "cell_type": "markdown",
   "id": "bd8e543c",
   "metadata": {
    "hide-output": false
   },
   "source": [
    "```julia\n",
    "ones(2)' * ones(2)\n",
    "```\n"
   ]
  },
  {
   "cell_type": "markdown",
   "id": "ed6be4e0",
   "metadata": {},
   "source": [
    "Alternatively, for inner product in this setting use `dot()` or the unicode `\\cdot<TAB>`"
   ]
  },
  {
   "cell_type": "markdown",
   "id": "63a00c95",
   "metadata": {
    "hide-output": false
   },
   "source": [
    "```julia\n",
    "@show dot(ones(2), ones(2))\n",
    "@show ones(2) ⋅ ones(2);\n",
    "```\n"
   ]
  },
  {
   "cell_type": "markdown",
   "id": "faaaa2d0",
   "metadata": {},
   "source": [
    "Matrix multiplication using one dimensional vectors similarly follows from treating them as\n",
    "column vectors.  Post-multiplication requires a transpose"
   ]
  },
  {
   "cell_type": "markdown",
   "id": "1b07c236",
   "metadata": {
    "hide-output": false
   },
   "source": [
    "```julia\n",
    "b = ones(2, 2)\n",
    "b * ones(2)\n",
    "```\n"
   ]
  },
  {
   "cell_type": "markdown",
   "id": "c0f3629f",
   "metadata": {
    "hide-output": false
   },
   "source": [
    "```julia\n",
    "ones(2)' * b\n",
    "```\n"
   ]
  },
  {
   "cell_type": "markdown",
   "id": "1d0ccd22",
   "metadata": {},
   "source": [
    "Note that the type of the returned value in this case is not `Array{Float64,1}` but rather\n",
    "`Adjoint{Float64,Array{Float64,1}}`.\n",
    "\n",
    "This is since the left multiplication by a row vector should also be a row-vector.  It also hints\n",
    "that the types in Julia more complicated than first appears in the surface notation, as we will explore\n",
    "further in the [introduction to types lecture](https://julia.quantecon.org/introduction_to_types.html)."
   ]
  },
  {
   "cell_type": "markdown",
   "id": "e5c43e68",
   "metadata": {},
   "source": [
    "### Elementwise Operations"
   ]
  },
  {
   "cell_type": "markdown",
   "id": "46fe943b",
   "metadata": {},
   "source": [
    "#### Algebraic Operations\n",
    "\n",
    "Suppose that we wish to multiply every element of matrix `A` with the corresponding element of matrix `B`.\n",
    "\n",
    "In that case we need to replace `*` (matrix multiplication) with `.*` (elementwise multiplication).\n",
    "\n",
    "For example, compare"
   ]
  },
  {
   "cell_type": "markdown",
   "id": "adc23cb0",
   "metadata": {
    "hide-output": false
   },
   "source": [
    "```julia\n",
    "ones(2, 2) * ones(2, 2)   # matrix multiplication\n",
    "```\n"
   ]
  },
  {
   "cell_type": "markdown",
   "id": "1e8219fb",
   "metadata": {
    "hide-output": false
   },
   "source": [
    "```julia\n",
    "ones(2, 2) .* ones(2, 2)   # element by element multiplication\n",
    "```\n"
   ]
  },
  {
   "cell_type": "markdown",
   "id": "fb543ca7",
   "metadata": {},
   "source": [
    "This is a general principle: `.x` means apply operator `x` elementwise"
   ]
  },
  {
   "cell_type": "markdown",
   "id": "07da0a13",
   "metadata": {
    "hide-output": false
   },
   "source": [
    "```julia\n",
    "A = -ones(2, 2)\n",
    "```\n"
   ]
  },
  {
   "cell_type": "markdown",
   "id": "c9930c44",
   "metadata": {
    "hide-output": false
   },
   "source": [
    "```julia\n",
    "A.^2  # square every element\n",
    "```\n"
   ]
  },
  {
   "cell_type": "markdown",
   "id": "a9a17a9b",
   "metadata": {},
   "source": [
    "However in practice some operations are mathematically valid without broadcasting, and hence the `.` can be omitted."
   ]
  },
  {
   "cell_type": "markdown",
   "id": "fcbc6c0d",
   "metadata": {
    "hide-output": false
   },
   "source": [
    "```julia\n",
    "ones(2, 2) + ones(2, 2)  # same as ones(2, 2) .+ ones(2, 2)\n",
    "```\n"
   ]
  },
  {
   "cell_type": "markdown",
   "id": "2460baba",
   "metadata": {},
   "source": [
    "Scalar multiplication is similar"
   ]
  },
  {
   "cell_type": "markdown",
   "id": "01456be8",
   "metadata": {
    "hide-output": false
   },
   "source": [
    "```julia\n",
    "A = ones(2, 2)\n",
    "```\n"
   ]
  },
  {
   "cell_type": "markdown",
   "id": "e8eef5f0",
   "metadata": {
    "hide-output": false
   },
   "source": [
    "```julia\n",
    "2 * A  # same as 2 .* A\n",
    "```\n"
   ]
  },
  {
   "cell_type": "markdown",
   "id": "e790fde4",
   "metadata": {},
   "source": [
    "In fact you can omit the `*` altogether and just write `2A`.\n",
    "\n",
    "Unlike MATLAB and other languages, scalar addition requires the `.+` in order to correctly broadcast"
   ]
  },
  {
   "cell_type": "markdown",
   "id": "17ab92ec",
   "metadata": {
    "hide-output": false
   },
   "source": [
    "```julia\n",
    "x = [1, 2]\n",
    "x .+ 1     # not x + 1\n",
    "x .- 1     # not x - 1\n",
    "```\n"
   ]
  },
  {
   "cell_type": "markdown",
   "id": "984b2047",
   "metadata": {},
   "source": [
    "#### Elementwise Comparisons\n",
    "\n",
    "Elementwise comparisons also use the `.x` style notation"
   ]
  },
  {
   "cell_type": "markdown",
   "id": "85fdd055",
   "metadata": {
    "hide-output": false
   },
   "source": [
    "```julia\n",
    "a = [10, 20, 30]\n",
    "```\n"
   ]
  },
  {
   "cell_type": "markdown",
   "id": "5bafa4e0",
   "metadata": {
    "hide-output": false
   },
   "source": [
    "```julia\n",
    "b = [-100, 0, 100]\n",
    "```\n"
   ]
  },
  {
   "cell_type": "markdown",
   "id": "353226db",
   "metadata": {
    "hide-output": false
   },
   "source": [
    "```julia\n",
    "b .> a\n",
    "```\n"
   ]
  },
  {
   "cell_type": "markdown",
   "id": "33b9585c",
   "metadata": {
    "hide-output": false
   },
   "source": [
    "```julia\n",
    "a .== b\n",
    "```\n"
   ]
  },
  {
   "cell_type": "markdown",
   "id": "6b0144c3",
   "metadata": {},
   "source": [
    "We can also do comparisons against scalars with parallel syntax"
   ]
  },
  {
   "cell_type": "markdown",
   "id": "818dfbac",
   "metadata": {
    "hide-output": false
   },
   "source": [
    "```julia\n",
    "b\n",
    "```\n"
   ]
  },
  {
   "cell_type": "markdown",
   "id": "d183216e",
   "metadata": {
    "hide-output": false
   },
   "source": [
    "```julia\n",
    "b .> 1\n",
    "```\n"
   ]
  },
  {
   "cell_type": "markdown",
   "id": "8f0935e0",
   "metadata": {},
   "source": [
    "This is particularly useful for *conditional extraction* – extracting the elements of an array that satisfy a condition"
   ]
  },
  {
   "cell_type": "markdown",
   "id": "80ab60d9",
   "metadata": {
    "hide-output": false
   },
   "source": [
    "```julia\n",
    "a = randn(4)\n",
    "```\n"
   ]
  },
  {
   "cell_type": "markdown",
   "id": "9cea82d5",
   "metadata": {
    "hide-output": false
   },
   "source": [
    "```julia\n",
    "a .< 0\n",
    "```\n"
   ]
  },
  {
   "cell_type": "markdown",
   "id": "d836824a",
   "metadata": {
    "hide-output": false
   },
   "source": [
    "```julia\n",
    "a[a .< 0]\n",
    "```\n"
   ]
  },
  {
   "cell_type": "markdown",
   "id": "10e73f43",
   "metadata": {},
   "source": [
    "#### Changing Dimensions\n",
    "\n",
    "The primary function for changing the dimensions of an array is `reshape()`"
   ]
  },
  {
   "cell_type": "markdown",
   "id": "96fc6161",
   "metadata": {
    "hide-output": false
   },
   "source": [
    "```julia\n",
    "a = [10, 20, 30, 40]\n",
    "```\n"
   ]
  },
  {
   "cell_type": "markdown",
   "id": "a3859304",
   "metadata": {
    "hide-output": false
   },
   "source": [
    "```julia\n",
    "b = reshape(a, 2, 2)\n",
    "```\n"
   ]
  },
  {
   "cell_type": "markdown",
   "id": "6da56554",
   "metadata": {
    "hide-output": false
   },
   "source": [
    "```julia\n",
    "b\n",
    "```\n"
   ]
  },
  {
   "cell_type": "markdown",
   "id": "a3600113",
   "metadata": {},
   "source": [
    "Notice that this function returns a view on the existing array.\n",
    "\n",
    "This means that changing the data in the new array will modify the data in the\n",
    "old one."
   ]
  },
  {
   "cell_type": "markdown",
   "id": "b2fe8bdb",
   "metadata": {
    "hide-output": false
   },
   "source": [
    "```julia\n",
    "b[1, 1] = 100  # continuing the previous example\n",
    "```\n"
   ]
  },
  {
   "cell_type": "markdown",
   "id": "53f1d464",
   "metadata": {
    "hide-output": false
   },
   "source": [
    "```julia\n",
    "b\n",
    "```\n"
   ]
  },
  {
   "cell_type": "markdown",
   "id": "3e97d61f",
   "metadata": {
    "hide-output": false
   },
   "source": [
    "```julia\n",
    "a\n",
    "```\n"
   ]
  },
  {
   "cell_type": "markdown",
   "id": "ddf94de9",
   "metadata": {},
   "source": [
    "To collapse an array along one dimension you can use `dropdims()`"
   ]
  },
  {
   "cell_type": "markdown",
   "id": "d28d7859",
   "metadata": {
    "hide-output": false
   },
   "source": [
    "```julia\n",
    "a = [1 2 3 4]  # two dimensional\n",
    "```\n"
   ]
  },
  {
   "cell_type": "markdown",
   "id": "c919f628",
   "metadata": {
    "hide-output": false
   },
   "source": [
    "```julia\n",
    "dropdims(a, dims = 1)\n",
    "```\n"
   ]
  },
  {
   "cell_type": "markdown",
   "id": "efdd500d",
   "metadata": {},
   "source": [
    "The return value is an array with the specified dimension “flattened”."
   ]
  },
  {
   "cell_type": "markdown",
   "id": "02fd99ea",
   "metadata": {},
   "source": [
    "### Broadcasting Functions\n",
    "\n",
    "Julia provides standard mathematical functions such as `log`, `exp`, `sin`, etc."
   ]
  },
  {
   "cell_type": "markdown",
   "id": "875738b0",
   "metadata": {
    "hide-output": false
   },
   "source": [
    "```julia\n",
    "log(1.0)\n",
    "```\n"
   ]
  },
  {
   "cell_type": "markdown",
   "id": "e24508ce",
   "metadata": {},
   "source": [
    "By default, these functions act *elementwise* on arrays"
   ]
  },
  {
   "cell_type": "markdown",
   "id": "b02b5255",
   "metadata": {
    "hide-output": false
   },
   "source": [
    "```julia\n",
    "log.(1:4)\n",
    "```\n"
   ]
  },
  {
   "cell_type": "markdown",
   "id": "167f0e9e",
   "metadata": {},
   "source": [
    "Note that we can get the same result as with a comprehension or more explicit loop"
   ]
  },
  {
   "cell_type": "markdown",
   "id": "f6b0c9ca",
   "metadata": {
    "hide-output": false
   },
   "source": [
    "```julia\n",
    "[ log(x) for x in 1:4 ]\n",
    "```\n"
   ]
  },
  {
   "cell_type": "markdown",
   "id": "83df3d47",
   "metadata": {},
   "source": [
    "Nonetheless the syntax is convenient."
   ]
  },
  {
   "cell_type": "markdown",
   "id": "b4b69c5e",
   "metadata": {},
   "source": [
    "### Linear Algebra\n",
    "\n",
    "([See linear algebra documentation](https://docs.julialang.org/en/v1/stdlib/LinearAlgebra/))\n",
    "\n",
    "Julia provides some a great deal of additional functionality related to linear operations"
   ]
  },
  {
   "cell_type": "markdown",
   "id": "2b9a1592",
   "metadata": {
    "hide-output": false
   },
   "source": [
    "```julia\n",
    "A = [1 2; 3 4]\n",
    "```\n"
   ]
  },
  {
   "cell_type": "markdown",
   "id": "3f10a826",
   "metadata": {
    "hide-output": false
   },
   "source": [
    "```julia\n",
    "det(A)\n",
    "```\n"
   ]
  },
  {
   "cell_type": "markdown",
   "id": "6f0cbc30",
   "metadata": {
    "hide-output": false
   },
   "source": [
    "```julia\n",
    "tr(A)\n",
    "```\n"
   ]
  },
  {
   "cell_type": "markdown",
   "id": "1c47826c",
   "metadata": {
    "hide-output": false
   },
   "source": [
    "```julia\n",
    "eigvals(A)\n",
    "```\n"
   ]
  },
  {
   "cell_type": "markdown",
   "id": "38f1c008",
   "metadata": {
    "hide-output": false
   },
   "source": [
    "```julia\n",
    "rank(A)\n",
    "```\n"
   ]
  },
  {
   "cell_type": "markdown",
   "id": "1938873d",
   "metadata": {},
   "source": [
    "## Ranges\n",
    "\n",
    "As with many other types, a `Range` can act as a vector."
   ]
  },
  {
   "cell_type": "markdown",
   "id": "0739f4e6",
   "metadata": {
    "hide-output": false
   },
   "source": [
    "```julia\n",
    "a = 10:12        # a range, equivalent to 10:1:12\n",
    "@show Vector(a)  # can convert, but shouldn't\n",
    "\n",
    "b = Diagonal([1.0, 2.0, 3.0])\n",
    "b * a .- [1.0; 2.0; 3.0]\n",
    "```\n"
   ]
  },
  {
   "cell_type": "markdown",
   "id": "6fbda307",
   "metadata": {},
   "source": [
    "Ranges can also be created with floating point numbers using the same notation."
   ]
  },
  {
   "cell_type": "markdown",
   "id": "4c45fdfc",
   "metadata": {
    "hide-output": false
   },
   "source": [
    "```julia\n",
    "a = 0.0:0.1:1.0  # 0.0, 0.1, 0.2, ... 1.0\n",
    "```\n"
   ]
  },
  {
   "cell_type": "markdown",
   "id": "ce05d35f",
   "metadata": {},
   "source": [
    "But care should be taken if the terminal node is not a multiple of the set sizes."
   ]
  },
  {
   "cell_type": "markdown",
   "id": "9c6abd83",
   "metadata": {
    "hide-output": false
   },
   "source": [
    "```julia\n",
    "maxval = 1.0\n",
    "minval = 0.0\n",
    "stepsize = 0.15\n",
    "a = minval:stepsize:maxval # 0.0, 0.15, 0.3, ...\n",
    "maximum(a) == maxval\n",
    "```\n"
   ]
  },
  {
   "cell_type": "markdown",
   "id": "6235c011",
   "metadata": {},
   "source": [
    "To evenly space points where the maximum value is important, i.e., `linspace` in other languages"
   ]
  },
  {
   "cell_type": "markdown",
   "id": "a32de8a2",
   "metadata": {
    "hide-output": false
   },
   "source": [
    "```julia\n",
    "maxval = 1.0\n",
    "minval = 0.0\n",
    "numpoints = 10\n",
    "a = range(minval, maxval, length=numpoints)\n",
    "# or range(minval, stop=maxval, length=numpoints)\n",
    "\n",
    "maximum(a) == maxval\n",
    "```\n"
   ]
  },
  {
   "cell_type": "markdown",
   "id": "b12bf32e",
   "metadata": {},
   "source": [
    "## Tuples and Named Tuples\n",
    "\n",
    "([See tuples](https://docs.julialang.org/en/v1/manual/functions/#Tuples-1) and [named tuples documentation](https://docs.julialang.org/en/v1/manual/functions/#Named-Tuples-1))\n",
    "\n",
    "We were introduced to tuples earlier, which provide high-performance immutable sets of distinct types."
   ]
  },
  {
   "cell_type": "markdown",
   "id": "4ab9989c",
   "metadata": {
    "hide-output": false
   },
   "source": [
    "```julia\n",
    "t = (1.0, \"test\")\n",
    "t[1]            # access by index\n",
    "a, b = t        # unpack\n",
    "# t[1] = 3.0    # would fail as tuples are immutable\n",
    "println(\"a = $a and b = $b\")\n",
    "```\n"
   ]
  },
  {
   "cell_type": "markdown",
   "id": "820572df",
   "metadata": {},
   "source": [
    "As well as **named tuples**, which extend tuples with names for each argument."
   ]
  },
  {
   "cell_type": "markdown",
   "id": "dd6fe249",
   "metadata": {
    "hide-output": false
   },
   "source": [
    "```julia\n",
    "t = (val1 = 1.0, val2 = \"test\")\n",
    "t.val1      # access by index\n",
    "# a, b = t  # bad style, better to unpack by name with @unpack\n",
    "println(\"val1 = $(t.val1) and val1 = $(t.val1)\") # access by name\n",
    "```\n"
   ]
  },
  {
   "cell_type": "markdown",
   "id": "62a4fc30",
   "metadata": {},
   "source": [
    "While immutable, it is possible to manipulate tuples and generate new ones"
   ]
  },
  {
   "cell_type": "markdown",
   "id": "77051c4a",
   "metadata": {
    "hide-output": false
   },
   "source": [
    "```julia\n",
    "t2 = (val3 = 4, val4 = \"test!!\")\n",
    "t3 = merge(t, t2)  # new tuple\n",
    "```\n"
   ]
  },
  {
   "cell_type": "markdown",
   "id": "9f7cb38d",
   "metadata": {},
   "source": [
    "Named tuples are a convenient and high-performance way to manage and unpack sets of parameters"
   ]
  },
  {
   "cell_type": "markdown",
   "id": "bfd0b543",
   "metadata": {
    "hide-output": false
   },
   "source": [
    "```julia\n",
    "function f(parameters)\n",
    "    α, β = parameters.α, parameters.β  # poor style, error prone if adding parameters\n",
    "    return α + β\n",
    "end\n",
    "\n",
    "parameters = (α = 0.1, β = 0.2)\n",
    "f(parameters)\n",
    "```\n"
   ]
  },
  {
   "cell_type": "markdown",
   "id": "9eb7e3ac",
   "metadata": {},
   "source": [
    "This functionality is aided by the `Parameters.jl` package and the `@unpack` macro"
   ]
  },
  {
   "cell_type": "markdown",
   "id": "2766aeb0",
   "metadata": {
    "hide-output": false
   },
   "source": [
    "```julia\n",
    "using Parameters\n",
    "\n",
    "function f(parameters)\n",
    "    @unpack α, β = parameters  # good style, less sensitive to errors\n",
    "    return α + β\n",
    "end\n",
    "\n",
    "parameters = (α = 0.1, β = 0.2)\n",
    "f(parameters)\n",
    "```\n"
   ]
  },
  {
   "cell_type": "markdown",
   "id": "a488b0c5",
   "metadata": {},
   "source": [
    "In order to manage default values, use the `@with_kw` macro"
   ]
  },
  {
   "cell_type": "markdown",
   "id": "ff8cf87c",
   "metadata": {
    "hide-output": false
   },
   "source": [
    "```julia\n",
    "using Parameters\n",
    "paramgen = @with_kw (α = 0.1, β = 0.2)  # create named tuples with defaults\n",
    "\n",
    "# creates named tuples, replacing defaults\n",
    "@show paramgen()  # calling without arguments gives all defaults\n",
    "@show paramgen(α = 0.2)\n",
    "@show paramgen(α = 0.2, β = 0.5);\n",
    "```\n"
   ]
  },
  {
   "cell_type": "markdown",
   "id": "98da0523",
   "metadata": {},
   "source": [
    "An alternative approach, defining a new type using `struct` tends to be more prone to accidental misuse, and leads to a great deal of boilerplate code.\n",
    "\n",
    "For that, and other reasons of generality, we will use named tuples for collections of parameters where possible."
   ]
  },
  {
   "cell_type": "markdown",
   "id": "ccd2b927",
   "metadata": {},
   "source": [
    "## Nothing, Missing, and Unions\n",
    "\n",
    "Sometimes a variable, return type from a function, or value in an array needs to represent the absence of a value rather than a particular value.\n",
    "\n",
    "There are two distinct use cases for this\n",
    "\n",
    "1. `nothing` (“software engineers null”): used where no value makes sense in a particular context due to a failure in the code, a function parameter not passed in, etc.  \n",
    "1. `missing` (“data scientists null”): used when a value would make conceptual sense, but it isn’t available.  \n",
    "\n",
    "\n",
    "\n",
    "<a id='error-handling'></a>"
   ]
  },
  {
   "cell_type": "markdown",
   "id": "53812daa",
   "metadata": {},
   "source": [
    "### Nothing and Basic Error Handling\n",
    "\n",
    "The value `nothing` is a single value of type `Nothing`"
   ]
  },
  {
   "cell_type": "markdown",
   "id": "5b9a1866",
   "metadata": {
    "hide-output": false
   },
   "source": [
    "```julia\n",
    "typeof(nothing)\n",
    "```\n"
   ]
  },
  {
   "cell_type": "markdown",
   "id": "8d3ebb53",
   "metadata": {},
   "source": [
    "An example of a reasonable use of `nothing` is if you need to have a variable defined in an outer scope, which may or may not be set in an inner one"
   ]
  },
  {
   "cell_type": "markdown",
   "id": "1ac96797",
   "metadata": {
    "hide-output": false
   },
   "source": [
    "```julia\n",
    "function f(y)\n",
    "    x = nothing\n",
    "    if y > 0.0\n",
    "        # calculations to set `x`\n",
    "        x = y\n",
    "    end\n",
    "\n",
    "    # later, can check `x`\n",
    "    if isnothing(x)\n",
    "        println(\"x was not set\")\n",
    "    else\n",
    "        println(\"x = $x\")\n",
    "    end\n",
    "    x\n",
    "end\n",
    "\n",
    "@show f(1.0)\n",
    "@show f(-1.0);\n",
    "```\n"
   ]
  },
  {
   "cell_type": "markdown",
   "id": "0036a013",
   "metadata": {},
   "source": [
    "While in general you want to keep a variable name bound to a single type in Julia, this is a notable exception.\n",
    "\n",
    "Similarly, if needed, you can return a `nothing` from a function to indicate that it did not calculate as expected."
   ]
  },
  {
   "cell_type": "markdown",
   "id": "79985286",
   "metadata": {
    "hide-output": false
   },
   "source": [
    "```julia\n",
    "function f(x)\n",
    "    if x > 0.0\n",
    "        return sqrt(x)\n",
    "    else\n",
    "        return nothing\n",
    "    end\n",
    "end\n",
    "x1 = 1.0\n",
    "x2 = -1.0\n",
    "y1 = f(x1)\n",
    "y2 = f(x2)\n",
    "\n",
    "# check results with isnothing\n",
    "if isnothing(y1)\n",
    "    println(\"f($x2) successful\")\n",
    "else\n",
    "    println(\"f($x2) failed\");\n",
    "end\n",
    "```\n"
   ]
  },
  {
   "cell_type": "markdown",
   "id": "6d1de728",
   "metadata": {},
   "source": [
    "As an aside, an equivalent way to write the above function is to use the\n",
    "[ternary operator](https://docs.julialang.org/en/v1/manual/control-flow/index.html#man-conditional-evaluation-1),\n",
    "which gives a compact if/then/else structure"
   ]
  },
  {
   "cell_type": "markdown",
   "id": "f2b9bf51",
   "metadata": {
    "hide-output": false
   },
   "source": [
    "```julia\n",
    "function f(x)\n",
    "    x > 0.0 ? sqrt(x) : nothing  # the \"a ? b : c\" pattern is the ternary\n",
    "end\n",
    "\n",
    "f(1.0)\n",
    "```\n"
   ]
  },
  {
   "cell_type": "markdown",
   "id": "14fe7f33",
   "metadata": {},
   "source": [
    "We will sometimes use this form when it makes the code more clear (and it will occasionally make the code higher performance).\n",
    "\n",
    "Regardless of how `f(x)` is written,  the return type is an example of a union, where the result could be one of an explicit set of types.\n",
    "\n",
    "In this particular case, the compiler would deduce that the type would be a `Union{Nothing,Float64}` – that is, it returns either a floating point or a `nothing`.\n",
    "\n",
    "You will see this type directly if you use an array containing both types"
   ]
  },
  {
   "cell_type": "markdown",
   "id": "6695177b",
   "metadata": {
    "hide-output": false
   },
   "source": [
    "```julia\n",
    "x = [1.0, nothing]\n",
    "```\n"
   ]
  },
  {
   "cell_type": "markdown",
   "id": "2a812f9d",
   "metadata": {},
   "source": [
    "When considering error handling, whether you want a function to return `nothing` or simply fail depends on whether the code calling `f(x)` is carefully checking the results.\n",
    "\n",
    "For example, if you were calling on an array of parameters where a priori you were not sure which ones will succeed, then"
   ]
  },
  {
   "cell_type": "markdown",
   "id": "9f686f93",
   "metadata": {
    "hide-output": false
   },
   "source": [
    "```julia\n",
    "x = [0.1, -1.0, 2.0, -2.0]\n",
    "y = f.(x)\n",
    "\n",
    "# presumably check `y`\n",
    "```\n"
   ]
  },
  {
   "cell_type": "markdown",
   "id": "df820831",
   "metadata": {},
   "source": [
    "On the other hand, if the parameter passed is invalid and you would prefer not to handle a graceful failure, then using an assertion is more appropriate."
   ]
  },
  {
   "cell_type": "markdown",
   "id": "1fdfa045",
   "metadata": {
    "hide-output": false
   },
   "source": [
    "```julia\n",
    "function f(x)\n",
    "    @assert x > 0.0\n",
    "    sqrt(x)\n",
    "end\n",
    "\n",
    "f(1.0)\n",
    "```\n"
   ]
  },
  {
   "cell_type": "markdown",
   "id": "f0345e5d",
   "metadata": {},
   "source": [
    "Finally, `nothing` is a good way to indicate an optional parameter in a function"
   ]
  },
  {
   "cell_type": "markdown",
   "id": "db6f7875",
   "metadata": {
    "hide-output": false
   },
   "source": [
    "```julia\n",
    "function f(x; z = nothing)\n",
    "\n",
    "    if isnothing(z)\n",
    "        println(\"No z given with $x\")\n",
    "    else\n",
    "        println(\"z = $z given with $x\")\n",
    "    end\n",
    "end\n",
    "\n",
    "f(1.0)\n",
    "f(1.0, z=3.0)\n",
    "```\n"
   ]
  },
  {
   "cell_type": "markdown",
   "id": "1a8b27c1",
   "metadata": {},
   "source": [
    "An alternative to `nothing`, which can be useful and sometimes higher performance,\n",
    "is to use `NaN` to signal that a value is invalid returning from a function."
   ]
  },
  {
   "cell_type": "markdown",
   "id": "379aad3d",
   "metadata": {
    "hide-output": false
   },
   "source": [
    "```julia\n",
    "function f(x)\n",
    "    if x > 0.0\n",
    "        return x\n",
    "    else\n",
    "        return NaN\n",
    "    end\n",
    "end\n",
    "\n",
    "f(0.1)\n",
    "f(-1.0)\n",
    "\n",
    "@show typeof(f(-1.0))\n",
    "@show f(-1.0) == NaN  # note, this fails!\n",
    "@show isnan(f(-1.0))  # check with this\n",
    "```\n"
   ]
  },
  {
   "cell_type": "markdown",
   "id": "4110343a",
   "metadata": {},
   "source": [
    "Note that in this case, the return type is `Float64` regardless of the input for `Float64` input.\n",
    "\n",
    "Keep in mind, though, that this only works if the return type of a function is `Float64`."
   ]
  },
  {
   "cell_type": "markdown",
   "id": "e0bef33a",
   "metadata": {},
   "source": [
    "### Exceptions\n",
    "\n",
    "(See [exceptions documentation](https://docs.julialang.org/en/v1/manual/control-flow/index.html#Exception-Handling-1))\n",
    "\n",
    "While returning a `nothing` can be a good way to deal with functions which may or may not return values, a more robust error handling method is to use exceptions.\n",
    "\n",
    "Unless you are writing a package, you will rarely want to define and throw your own exceptions, but will need to deal with them from other libraries.\n",
    "\n",
    "The key distinction for when to use an exceptions vs. return a `nothing` is whether an error is unexpected rather than a normal path of execution.\n",
    "\n",
    "An example of an exception is a `DomainError`, which signifies that a value passed to a function is invalid."
   ]
  },
  {
   "cell_type": "markdown",
   "id": "06d4c848",
   "metadata": {
    "hide-output": false
   },
   "source": [
    "```julia\n",
    "# throws exception, turned off to prevent breaking notebook\n",
    "# sqrt(-1.0)\n",
    "\n",
    "# to see the error\n",
    "try sqrt(-1.0); catch err; err end  # catches the exception and prints it\n",
    "```\n"
   ]
  },
  {
   "cell_type": "markdown",
   "id": "f7dbcdc3",
   "metadata": {},
   "source": [
    "Another example you will see is when the compiler cannot convert between types."
   ]
  },
  {
   "cell_type": "markdown",
   "id": "995f237e",
   "metadata": {
    "hide-output": false
   },
   "source": [
    "```julia\n",
    "# throws exception, turned off to prevent breaking notebook\n",
    "# convert(Int64, 3.12)\n",
    "\n",
    "# to see the error\n",
    "try convert(Int64, 3.12); catch err; err end  # catches the exception and prints it.\n",
    "```\n"
   ]
  },
  {
   "cell_type": "markdown",
   "id": "db673003",
   "metadata": {},
   "source": [
    "If these exceptions are generated from unexpected cases in your code, it may be appropriate simply let them occur and ensure you can read the error.\n",
    "\n",
    "Occasionally you will want to catch these errors and try to recover, as we did above in the `try` block."
   ]
  },
  {
   "cell_type": "markdown",
   "id": "cb1b31bc",
   "metadata": {
    "hide-output": false
   },
   "source": [
    "```julia\n",
    "function f(x)\n",
    "    try\n",
    "        sqrt(x)\n",
    "    catch err                # enters if exception thrown\n",
    "        sqrt(complex(x, 0))  # convert to complex number\n",
    "    end\n",
    "end\n",
    "\n",
    "f(0.0)\n",
    "f(-1.0)\n",
    "```\n"
   ]
  },
  {
   "cell_type": "markdown",
   "id": "d0ec0351",
   "metadata": {},
   "source": [
    "\n",
    "<a id='missing'></a>"
   ]
  },
  {
   "cell_type": "markdown",
   "id": "6fff9734",
   "metadata": {},
   "source": [
    "### Missing\n",
    "\n",
    "(see [“missing” documentation](https://docs.julialang.org/en/v1/manual/missing/))\n",
    "\n",
    "The value `missing` of type `Missing` is used to represent missing value in a statistical sense.\n",
    "\n",
    "For example, if you loaded data from a panel, and gaps existed"
   ]
  },
  {
   "cell_type": "markdown",
   "id": "118f4678",
   "metadata": {
    "hide-output": false
   },
   "source": [
    "```julia\n",
    "x = [3.0, missing, 5.0, missing, missing]\n",
    "```\n"
   ]
  },
  {
   "cell_type": "markdown",
   "id": "6e67ff3e",
   "metadata": {},
   "source": [
    "A key feature of `missing` is that it propagates through other function calls - unlike `nothing`"
   ]
  },
  {
   "cell_type": "markdown",
   "id": "6ab35069",
   "metadata": {
    "hide-output": false
   },
   "source": [
    "```julia\n",
    "f(x) = x^2\n",
    "\n",
    "@show missing + 1.0\n",
    "@show missing * 2\n",
    "@show missing * \"test\"\n",
    "@show f(missing);      # even user-defined functions\n",
    "@show mean(x);\n",
    "```\n"
   ]
  },
  {
   "cell_type": "markdown",
   "id": "2fca86bf",
   "metadata": {},
   "source": [
    "The purpose of this is to ensure that failures do not silently fail and provide meaningless numerical results.\n",
    "\n",
    "This even applies for the comparison of values, which"
   ]
  },
  {
   "cell_type": "markdown",
   "id": "267a6d37",
   "metadata": {
    "hide-output": false
   },
   "source": [
    "```julia\n",
    "x = missing\n",
    "\n",
    "@show x == missing\n",
    "@show x === missing  # an exception\n",
    "@show ismissing(x);\n",
    "```\n"
   ]
  },
  {
   "cell_type": "markdown",
   "id": "1e22fe52",
   "metadata": {},
   "source": [
    "Where `ismissing` is the canonical way to test the value.\n",
    "\n",
    "In the case where you would like to calculate a value without the missing values, you can use `skipmissing`."
   ]
  },
  {
   "cell_type": "markdown",
   "id": "d2a2dc4e",
   "metadata": {
    "hide-output": false
   },
   "source": [
    "```julia\n",
    "x = [1.0, missing, 2.0, missing, missing, 5.0]\n",
    "\n",
    "@show mean(x)\n",
    "@show mean(skipmissing(x))\n",
    "@show coalesce.(x, 0.0);  # replace missing with 0.0;\n",
    "```\n"
   ]
  },
  {
   "cell_type": "markdown",
   "id": "09501c4d",
   "metadata": {},
   "source": [
    "As `missing` is similar to R’s `NA` type, we will see more of `missing` when we cover `DataFrames`."
   ]
  },
  {
   "cell_type": "markdown",
   "id": "5ce5548b",
   "metadata": {},
   "source": [
    "## Exercises\n",
    "\n",
    "\n",
    "<a id='np-ex1'></a>"
   ]
  },
  {
   "cell_type": "markdown",
   "id": "40ae2763",
   "metadata": {},
   "source": [
    "### Exercise 1\n",
    "\n",
    "This exercise uses matrix operations that arise in certain problems,\n",
    "including when dealing with linear stochastic difference equations.\n",
    "\n",
    "If you aren’t familiar with all the terminology don’t be concerned – you can\n",
    "skim read the background discussion and focus purely on the matrix exercise.\n",
    "\n",
    "With that said, consider the stochastic difference equation\n",
    "\n",
    "\n",
    "<a id='equation-ja-sde'></a>\n",
    "$$\n",
    "X_{t+1} = A X_t + b + \\Sigma W_{t+1} \\tag{1}\n",
    "$$\n",
    "\n",
    "Here\n",
    "\n",
    "- $ X_t, b $ and $ X_{t+1} $ are $ n \\times 1 $  \n",
    "- $ A $ is $ n \\times n $  \n",
    "- $ \\Sigma $ is $ n \\times k $  \n",
    "- $ W_t $ is $ k \\times 1 $ and $ \\{W_t\\} $ is iid with zero mean and variance-covariance matrix equal to the identity matrix  \n",
    "\n",
    "\n",
    "Let $ S_t $ denote the $ n \\times n $ variance-covariance matrix of $ X_t $.\n",
    "\n",
    "Using the rules for computing variances in matrix expressions, it can be shown from [(5.1)](#equation-ja-sde) that $ \\{S_t\\} $ obeys\n",
    "\n",
    "\n",
    "<a id='equation-ja-sde-v'></a>\n",
    "$$\n",
    "S_{t+1} = A S_t A' + \\Sigma \\Sigma' \\tag{2}\n",
    "$$\n",
    "\n",
    "It can be shown that, provided all eigenvalues of $ A $ lie within the unit circle, the sequence $ \\{S_t\\} $ converges to a unique limit $ S $.\n",
    "\n",
    "This is the **unconditional variance** or **asymptotic variance** of the stochastic difference equation.\n",
    "\n",
    "As an exercise, try writing a simple function that solves for the limit $ S $ by iterating on [(5.2)](#equation-ja-sde-v) given $ A $ and $ \\Sigma $.\n",
    "\n",
    "To test your solution, observe that the limit $ S $ is a solution to the matrix equation\n",
    "\n",
    "\n",
    "<a id='equation-ja-dle'></a>\n",
    "$$\n",
    "S = A S A' + Q\n",
    "\\quad \\text{where} \\quad Q := \\Sigma \\Sigma' \\tag{3}\n",
    "$$\n",
    "\n",
    "This kind of equation is known as a **discrete time Lyapunov equation**.\n",
    "\n",
    "The [QuantEcon package](http://quantecon.org/quantecon-jl)\n",
    "provides a function called `solve_discrete_lyapunov` that implements a fast\n",
    "“doubling” algorithm to solve this equation.\n",
    "\n",
    "Test your iterative method against `solve_discrete_lyapunov` using matrices\n",
    "\n",
    "$$\n",
    "A =\n",
    "\\begin{bmatrix}\n",
    "    0.8 & -0.2  \\\\\n",
    "    -0.1 & 0.7\n",
    "\\end{bmatrix}\n",
    "\\qquad\n",
    "\\Sigma =\n",
    "\\begin{bmatrix}\n",
    "    0.5 & 0.4 \\\\\n",
    "    0.4 & 0.6\n",
    "\\end{bmatrix}\n",
    "$$"
   ]
  },
  {
   "cell_type": "markdown",
   "id": "bf61558f",
   "metadata": {},
   "source": [
    "### Exercise 2\n",
    "\n",
    "Take a stochastic process for $ \\{y_t\\}_{t=0}^T $\n",
    "\n",
    "$$\n",
    "y_{t+1} = \\gamma + \\theta y_t + \\sigma w_{t+1}\n",
    "$$\n",
    "\n",
    "where\n",
    "\n",
    "- $ w_{t+1} $ is distributed `Normal(0,1)`  \n",
    "- $ \\gamma=1, \\sigma=1, y_0 = 0 $  \n",
    "- $ \\theta \\in \\Theta \\equiv \\{0.8, 0.9, 0.98\\} $  \n",
    "\n",
    "\n",
    "Given these parameters\n",
    "\n",
    "- Simulate a single $ y_t $ series for each $ \\theta \\in \\Theta $\n",
    "  for $ T = 150 $.  Feel free to experiment with different $ T $.  \n",
    "- Overlay plots of the rolling mean of the process for each $ \\theta \\in \\Theta $,\n",
    "  i.e. for each $ 1 \\leq \\tau \\leq T $ plot  \n",
    "\n",
    "\n",
    "$$\n",
    "\\frac{1}{\\tau}\\sum_{t=1}^{\\tau}y_T\n",
    "$$\n",
    "\n",
    "- Simulate $ N=200 $ paths of the stochastic process above to the $ T $,\n",
    "  for each $ \\theta \\in \\Theta $, where we refer to an element of a particular\n",
    "  simulation as $ y^n_t $.  \n",
    "- Overlay plots a histogram of the stationary distribution of the final\n",
    "  $ y^n_T $ for each $ \\theta \\in \\Theta $.  Hint: pass `alpha`\n",
    "  to a plot to make it transparent (e.g. `histogram(vals, alpha = 0.5)`) or\n",
    "  use `stephist(vals)` to show just the step function for the histogram.  \n",
    "- Numerically find the mean and variance of this as an ensemble average, i.e.\n",
    "  $ \\sum_{n=1}^N\\frac{y^n_T}{N} $ and\n",
    "  $ \\sum_{n=1}^N\\frac{(y_T^n)^2}{N} -\\left(\\sum_{n=1}^N\\frac{y^n_T}{N}\\right)^2 $.  \n",
    "\n",
    "\n",
    "Later, we will interpret some of these in [this lecture](https://julia.quantecon.org/../tools_and_techniques/lln_clt.html)."
   ]
  },
  {
   "cell_type": "markdown",
   "id": "77b09143",
   "metadata": {},
   "source": [
    "### Exercise 3\n",
    "\n",
    "Let the data generating process for a variable be\n",
    "\n",
    "$$\n",
    "y = a x_1 + b x_1^2 + c x_2 + d + \\sigma w\n",
    "$$\n",
    "\n",
    "where $ y, x_1, x_2 $ are scalar observables, $ a,b,c,d $ are parameters to estimate, and $ w $ are iid normal with mean 0 and variance 1.\n",
    "\n",
    "First, let’s simulate data we can use to estimate the parameters\n",
    "\n",
    "- Draw $ N=50 $ values for $ x_1, x_2 $ from iid normal distributions.  \n",
    "\n",
    "\n",
    "Then, simulate with different $ w $\n",
    "\n",
    "- Draw a $ w $ vector for the `N` values and then `y` from this simulated data if the parameters were $ a = 0.1, b = 0.2 c = 0.5, d = 1.0, \\sigma = 0.1 $.  \n",
    "- Repeat that so you have `M = 20` different simulations of the `y` for the `N` values.  \n",
    "\n",
    "\n",
    "Finally, calculate order least squares manually (i.e., put the observables\n",
    "into matrices and vectors, and directly use the equations for\n",
    "[OLS](https://en.wikipedia.org/wiki/Ordinary_least_squares) rather than a package).\n",
    "\n",
    "- For each of the `M=20` simulations, calculate the OLS estimates for $ a, b, c, d, \\sigma $.  \n",
    "- Plot a histogram of these estimates for each variable.  "
   ]
  },
  {
   "cell_type": "markdown",
   "id": "1fa6a41c",
   "metadata": {},
   "source": [
    "### Exercise 4\n",
    "\n",
    "Redo Exercise 1 using the `fixedpoint` function from `NLsolve` [this lecture](https://julia.quantecon.org/julia_by_example.html).\n",
    "\n",
    "Compare the number of iterations of the NLsolve’s Anderson Acceleration to the handcoded iteration used in Exercise 1.\n",
    "\n",
    "Hint: Convert the matrix to a vector to use `fixedpoint`. e.g. `A = [1 2; 3 4]` then `x = reshape(A, 4)` turns it into a vector.  To reverse, `reshape(x, 2, 2)`."
   ]
  },
  {
   "cell_type": "markdown",
   "id": "08cda11e",
   "metadata": {},
   "source": [
    "## Solutions"
   ]
  },
  {
   "cell_type": "markdown",
   "id": "5176e384",
   "metadata": {},
   "source": [
    "### Exercise 1\n",
    "\n",
    "Here’s the iterative approach"
   ]
  },
  {
   "cell_type": "markdown",
   "id": "a4f11c63",
   "metadata": {
    "hide-output": false
   },
   "source": [
    "```julia\n",
    "function compute_asymptotic_var(A, Σ;\n",
    "                                S0 = Σ * Σ',\n",
    "                                tolerance = 1e-6,\n",
    "                                maxiter = 500)\n",
    "    V = Σ * Σ'\n",
    "    S = S0\n",
    "    err = tolerance + 1\n",
    "    i = 1\n",
    "    while err > tolerance && i ≤ maxiter\n",
    "        next_S = A * S * A' + V\n",
    "        err = norm(S - next_S)\n",
    "        S = next_S\n",
    "        i += 1\n",
    "    end\n",
    "    return S\n",
    "end\n",
    "```\n"
   ]
  },
  {
   "cell_type": "markdown",
   "id": "3e73e5ee",
   "metadata": {
    "hide-output": false
   },
   "source": [
    "```julia\n",
    "A = [0.8  -0.2;\n",
    "     -0.1  0.7]\n",
    "\n",
    "Σ = [0.5 0.4;\n",
    "     0.4 0.6]\n",
    "```\n"
   ]
  },
  {
   "cell_type": "markdown",
   "id": "990b60ec",
   "metadata": {},
   "source": [
    "Note that all eigenvalues of $ A $ lie inside the unit disc."
   ]
  },
  {
   "cell_type": "markdown",
   "id": "431b20e7",
   "metadata": {
    "hide-output": false
   },
   "source": [
    "```julia\n",
    "maximum(abs, eigvals(A))\n",
    "```\n"
   ]
  },
  {
   "cell_type": "markdown",
   "id": "03af42a9",
   "metadata": {},
   "source": [
    "Let’s compute the asymptotic variance"
   ]
  },
  {
   "cell_type": "markdown",
   "id": "76a727d1",
   "metadata": {
    "hide-output": false
   },
   "source": [
    "```julia\n",
    "our_solution = compute_asymptotic_var(A, Σ)\n",
    "```\n"
   ]
  },
  {
   "cell_type": "markdown",
   "id": "febd5fcf",
   "metadata": {},
   "source": [
    "Now let’s do the same thing using QuantEcon’s `solve_discrete_lyapunov()` function and check we get the same result."
   ]
  },
  {
   "cell_type": "markdown",
   "id": "6cc7b061",
   "metadata": {
    "hide-output": false
   },
   "source": [
    "```julia\n",
    "using QuantEcon\n",
    "```\n"
   ]
  },
  {
   "cell_type": "markdown",
   "id": "8eb9e858",
   "metadata": {
    "hide-output": false
   },
   "source": [
    "```julia\n",
    "norm(our_solution - solve_discrete_lyapunov(A, Σ * Σ'))\n",
    "```\n"
   ]
  }
 ],
 "metadata": {
  "date": 1628582927.9499507,
  "filename": "fundamental_types.md",
  "kernelspec": {
   "display_name": "Julia",
   "language": "julia",
   "name": "julia"
  },
  "title": "Arrays, Tuples, Ranges, and Other Fundamental Types"
 },
 "nbformat": 4,
 "nbformat_minor": 5
}