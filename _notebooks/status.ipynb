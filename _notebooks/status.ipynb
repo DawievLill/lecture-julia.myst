{
 "cells": [
  {
   "cell_type": "markdown",
   "id": "16fcc72c",
   "metadata": {},
   "source": [
    "\n",
    "<a id='status'></a>"
   ]
  },
  {
   "cell_type": "markdown",
   "id": "4d7e7858",
   "metadata": {},
   "source": [
    "# Lecture Status"
   ]
  }
 ],
 "metadata": {
  "date": 1628582931.8859947,
  "filename": "status.md",
  "kernelspec": {
   "display_name": "Julia",
   "language": "julia",
   "name": "julia"
  },
  "title": "Lecture Status"
 },
 "nbformat": 4,
 "nbformat_minor": 5
}