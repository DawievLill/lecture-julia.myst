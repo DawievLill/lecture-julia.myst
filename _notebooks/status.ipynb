{
 "cells": [
  {
   "cell_type": "markdown",
   "id": "95ad7b73",
   "metadata": {},
   "source": [
    "\n",
    "<a id='status'></a>"
   ]
  },
  {
   "cell_type": "markdown",
   "id": "f16face1",
   "metadata": {},
   "source": [
    "# Lecture Status"
   ]
  }
 ],
 "metadata": {
  "date": 1628652598.0127249,
  "filename": "status.md",
  "kernelspec": {
   "display_name": "Julia",
   "language": "julia",
   "name": "julia"
  },
  "title": "Lecture Status"
 },
 "nbformat": 4,
 "nbformat_minor": 5
}