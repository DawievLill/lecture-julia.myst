{
 "cells": [
  {
   "cell_type": "markdown",
   "metadata": {},
   "source": [
    "(status)=\n",
    "# Lecture Status\n",
    "\n",
    "```{nb-exec-table}\n",
    "```"
   ]
  }
 ],
 "metadata": {
  "jupytext": {
   "text_representation": {
    "extension": ".md",
    "format_name": "myst"
   }
  },
  "kernelspec": {
   "display_name": "Python 3",
   "language": "python",
   "name": "python3"
  },
  "source_map": [
   10
  ]
 },
 "nbformat": 4,
 "nbformat_minor": 4
}