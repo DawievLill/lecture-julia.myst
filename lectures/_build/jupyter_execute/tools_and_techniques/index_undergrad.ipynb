{
 "cells": [
  {
   "cell_type": "markdown",
   "metadata": {},
   "source": [
    "(tools_and_techniques)=\n",
    "```{raw} html\n",
    "<div id=\"qe-notebook-header\" style=\"text-align:right;\">\n",
    "        <a href=\"https://quantecon.org/\" title=\"quantecon.org\">\n",
    "                <img style=\"width:250px;display:inline;\" src=\"https://assets.quantecon.org/img/qe-menubar-logo.svg\" alt=\"QuantEcon\">\n",
    "        </a>\n",
    "</div>\n",
    "```\n",
    "\n",
    "# Tools and Techniques\n",
    "\n",
    "This section of the course contains foundational mathematical and statistical\n",
    "tools and techniques.\n",
    "\n",
    "```{only} html\n",
    "## Lectures\n",
    "```\n",
    "\n",
    "```{toctree}\n",
    ":maxdepth: 2\n",
    "\n",
    "tools_and_techniques/linear_algebra\n",
    "tools_and_techniques/lln_clt\n",
    "tools_and_techniques/linear_models\n",
    "tools_and_techniques/finite_markov\n",
    "tools_and_techniques/kalman\n",
    "```"
   ]
  }
 ],
 "metadata": {
  "jupytext": {
   "text_representation": {
    "extension": ".md",
    "format_name": "myst"
   }
  },
  "kernelspec": {
   "display_name": "Python 3",
   "language": "python",
   "name": "python3"
  },
  "source_map": [
   10
  ]
 },
 "nbformat": 4,
 "nbformat_minor": 4
}