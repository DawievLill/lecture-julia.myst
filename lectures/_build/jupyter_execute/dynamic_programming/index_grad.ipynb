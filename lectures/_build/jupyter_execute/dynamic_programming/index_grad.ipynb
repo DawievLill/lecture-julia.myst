{
 "cells": [
  {
   "cell_type": "markdown",
   "metadata": {},
   "source": [
    "(single_agent_models)=\n",
    "```{raw} html\n",
    "<div id=\"qe-notebook-header\" style=\"text-align:right;\">\n",
    "        <a href=\"https://quantecon.org/\" title=\"quantecon.org\">\n",
    "                <img style=\"width:250px;display:inline;\" src=\"https://assets.quantecon.org/img/qe-menubar-logo.svg\" alt=\"QuantEcon\">\n",
    "        </a>\n",
    "</div>\n",
    "```\n",
    "\n",
    "# Dynamic Programming\n",
    "\n",
    "This section of the course contains foundational models for dynamic economic\n",
    "modeling.   Most are single agent problems that take the activities of other\n",
    "agents as given.  Later we will look at full equilibrium problems.\n",
    "\n",
    "```{only} html\n",
    "## Lectures\n",
    "```\n",
    "\n",
    "```{toctree}\n",
    ":maxdepth: 2\n",
    "\n",
    "dynamic_programming/mccall_model\n",
    "dynamic_programming/mccall_model_with_separation\n",
    "dynamic_programming/wald_friedman\n",
    "dynamic_programming/odu\n",
    "dynamic_programming/career\n",
    "dynamic_programming/jv\n",
    "dynamic_programming/optgrowth\n",
    "dynamic_programming/coleman_policy_iter\n",
    "dynamic_programming/egm_policy_iter\n",
    "dynamic_programming/lqcontrol\n",
    "dynamic_programming/ifp\n",
    "dynamic_programming/robustness\n",
    "dynamic_programming/discrete_dp\n",
    "```"
   ]
  }
 ],
 "metadata": {
  "jupytext": {
   "text_representation": {
    "extension": ".md",
    "format_name": "myst"
   }
  },
  "kernelspec": {
   "display_name": "Python 3",
   "language": "python",
   "name": "python3"
  },
  "source_map": [
   10
  ]
 },
 "nbformat": 4,
 "nbformat_minor": 4
}