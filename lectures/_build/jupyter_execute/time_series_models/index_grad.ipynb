{
 "cells": [
  {
   "cell_type": "markdown",
   "metadata": {},
   "source": [
    "```{raw} html\n",
    "<div id=\"qe-notebook-header\" style=\"text-align:right;\">\n",
    "        <a href=\"https://quantecon.org/\" title=\"quantecon.org\">\n",
    "                <img style=\"width:250px;display:inline;\" src=\"https://assets.quantecon.org/img/qe-menubar-logo.svg\" alt=\"QuantEcon\">\n",
    "        </a>\n",
    "</div>\n",
    "```\n",
    "\n",
    "# Time Series Models\n",
    "\n",
    "These lectures look at important concepts in time series that are used in economics.\n",
    "\n",
    "```{only} html\n",
    "## Lectures\n",
    "```\n",
    "\n",
    "```{toctree}\n",
    ":maxdepth: 2\n",
    "\n",
    "time_series_models/arma\n",
    "time_series_models/estspec\n",
    "time_series_models/additive_functionals\n",
    "time_series_models/multiplicative_functionals\n",
    "time_series_models/lu_tricks\n",
    "time_series_models/classical_filtering\n",
    "```"
   ]
  }
 ],
 "metadata": {
  "jupytext": {
   "text_representation": {
    "extension": ".md",
    "format_name": "myst"
   }
  },
  "kernelspec": {
   "display_name": "Python 3",
   "language": "python",
   "name": "python3"
  },
  "source_map": [
   10
  ]
 },
 "nbformat": 4,
 "nbformat_minor": 4
}