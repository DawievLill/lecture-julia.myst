{
 "cells": [
  {
   "cell_type": "markdown",
   "id": "ac3195b9",
   "metadata": {},
   "source": [
    "(tools_editors)=\n",
    "```{raw} html\n",
    "<div id=\"qe-notebook-header\" style=\"text-align:right;\">\n",
    "        <a href=\"https://quantecon.org/\" title=\"quantecon.org\">\n",
    "                <img style=\"width:250px;display:inline;\" src=\"https://assets.quantecon.org/img/qe-menubar-logo.svg\" alt=\"QuantEcon\">\n",
    "        </a>\n",
    "</div>\n",
    "```\n",
    "\n",
    "# Julia Tools and Editors\n",
    "\n",
    "```{contents} Contents\n",
    ":depth: 2\n",
    "```\n",
    "\n",
    "Co-authored with Arnav Sood\n",
    "\n",
    "While Jupyter notebooks are a great way to get started with the language, eventually you will want to use more powerful tools.\n",
    "\n",
    "We'll discuss a few of them here, such as\n",
    "\n",
    "* Text editors like Atom, which come with rich Julia support for debugging, documentation, git integration, plotting and inspecting data, and code execution.\n",
    "* The Julia REPL, which has specialized modes for package management, shell commands, and help.\n",
    "\n",
    "Note that we assume you've already completed the {doc}`getting started <../getting_started_julia/getting_started>` and {doc}`interacting with Julia <../getting_started_julia/julia_environment>` lectures.\n",
    "\n",
    "## Preliminary Setup\n",
    "\n",
    "Follow the instructions for setting up Julia {ref}`on your local computer <jl_jupyterlocal>`.\n",
    "\n",
    "(repl_main)=\n",
    "## The REPL\n",
    "\n",
    "Previously, we discussed basic use of the Julia REPL (\"Read-Evaluate-Print Loop\").\n",
    "\n",
    "Here, we'll consider some more advanced features.\n",
    "\n",
    "### Shell Mode\n",
    "\n",
    "Hitting `;` brings you into shell mode, which lets you run bash commands (PowerShell on Windows)"
   ]
  },
  {
   "cell_type": "code",
   "execution_count": null,
   "id": "1497340a",
   "metadata": {},
   "outputs": [],
   "source": [
    "; pwd"
   ]
  },
  {
   "cell_type": "markdown",
   "id": "00731860",
   "metadata": {},
   "source": [
    "You can also use Julia variables from shell mode"
   ]
  },
  {
   "cell_type": "code",
   "execution_count": null,
   "id": "a5d5cdc7",
   "metadata": {},
   "outputs": [],
   "source": [
    "x = 2"
   ]
  },
  {
   "cell_type": "code",
   "execution_count": null,
   "id": "cf0d3797",
   "metadata": {},
   "outputs": [],
   "source": [
    "; echo $x"
   ]
  },
  {
   "cell_type": "markdown",
   "id": "2c933f59",
   "metadata": {},
   "source": [
    "### Package Mode\n",
    "\n",
    "Hitting `]` brings you into package mode.\n",
    "\n",
    "* `] add Expectations` will add a package (here, `Expectations.jl`).\n",
    "* Likewise, `] rm Expectations` will remove that package.\n",
    "* `] st` will show you a snapshot of what you have installed.\n",
    "* `] up` will (intelligently) upgrade versions of your packages.\n",
    "* `] precompile` will precompile everything possible.\n",
    "* `] build` will execute build scripts for all packages.\n",
    "* Running `] preview` before a command (i.e., `] preview up`) will display the changes without executing.\n",
    "\n",
    "You can get a full list of package mode commands by running"
   ]
  },
  {
   "cell_type": "code",
   "execution_count": null,
   "id": "efffcbb0",
   "metadata": {},
   "outputs": [],
   "source": [
    "] ?"
   ]
  },
  {
   "cell_type": "markdown",
   "id": "b6783f59",
   "metadata": {},
   "source": [
    "On some operating systems (such as OSX) REPL pasting may not work for package mode, and you will need to access it in the standard way (i.e., hit `]` first and then run your commands).\n",
    "\n",
    "### Help Mode\n",
    "\n",
    "Hitting `?` will bring you into help mode.\n",
    "\n",
    "The key use case is to find docstrings for functions and macros, e.g.\n",
    "\n",
    "```{code-block} julia\n",
    "? print\n",
    "```\n",
    "\n",
    "Note that objects must be loaded for Julia to return their documentation, e.g.\n",
    "\n",
    "```{code-block} julia\n",
    "? @test\n",
    "```\n",
    "\n",
    "will fail, but\n",
    "\n",
    "```{code-block} julia\n",
    "using Test\n",
    "```\n",
    "\n",
    "```{code-block} julia\n",
    "? @test\n",
    "```\n",
    "\n",
    "will succeed.\n",
    "\n",
    "## Atom\n",
    "\n",
    "As discussed {doc}`previously <../getting_started_julia/getting_started>`, eventually you will want to use a fully fledged text editor.\n",
    "\n",
    "The most feature-rich one for Julia development is [Atom](https://atom.io/), with the [Juno](http://junolab.org/) package.\n",
    "\n",
    "There are several reasons to use a text editor like Atom, including\n",
    "\n",
    "* Git integration (more on this in the {doc}`next lecture <../more_julia/version_control>`).\n",
    "* Painless inspection of variables and data.\n",
    "* Easily run code blocks, and drop in custom snippets of code.\n",
    "* Integration with Julia documentation and plots.\n",
    "\n",
    "### Installation and Configuration\n",
    "\n",
    "#### Installing Atom\n",
    "\n",
    "1. Download and Install Atom from the [Atom website](https://atom.io/).\n",
    "1. (Optional, but recommended): Change default Atom settings\n",
    "    * Use `Ctrl-,` to get the `Settings` pane\n",
    "    * Choose the `Packages` tab\n",
    "    * Type `line-ending-selector` into the Filter and then click \"Settings\" for that package\n",
    "        * Change the default line ending to `LF` (only necessary on Windows)\n",
    "    * Choose the Editor tab\n",
    "        * Turn on `Soft Wrap`\n",
    "        * Set the `Tab Length` default to `4`\n",
    "\n",
    "#### Installing Juno\n",
    "\n",
    "1. Use `Ctrl-,` to get the Settings pane.\n",
    "1. Go to the `Install` tab.\n",
    "1. Type `uber-juno` into the search box and then click Install on the package that appears.\n",
    "1. Wait while Juno installs dependencies.\n",
    "1. When it asks you whether or not to use the standard layout, click `yes`.\n",
    "\n",
    "At that point, you should see a built-in REPL at the bottom of the screen and be able to start using Julia and Atom.\n",
    "\n",
    "(atom_troubleshooting)=\n",
    "#### Troubleshooting\n",
    "\n",
    "Sometimes, Juno will fail to find the Julia executable (say, if it's installed somewhere nonstandard, or you have multiple).\n",
    "\n",
    "To do this\n",
    "1. `Ctrl-,` to get Settings pane, and select the Packages tab.\n",
    "2. Type in `julia-client` and choose Settings.\n",
    "3. Find the Julia Path, and fill it in with the location of the Julia binary.\n",
    "\n",
    "* To find the binary, you could run `Sys.BINDIR` in the REPL, then add in an additional `/julia` to the end of the screen.\n",
    "* e.g. `C:\\Users\\YOURUSERNAME\\AppData\\Local\\Julia-1.0.1\\bin\\julia.exe` on Windows as `/Applications/Julia-1.0.app/Contents/Resources/julia/bin/julia` on OSX.\n",
    "\n",
    "> \n",
    "\n",
    "See the [setup instructions for Juno](http://docs.junolab.org/latest/man/installation.html)  if you have further issues.\n",
    "\n",
    "If you upgrade Atom and it breaks Juno, run the following in a terminal.\n",
    "\n",
    "```{code-block} none\n",
    "apm uninstall ink julia-client\n",
    "apm install ink julia-client\n",
    "```\n",
    "\n",
    "If you aren't able to install `apm` in your PATH, you can do the above by running the following in PowerShell:\n",
    "\n",
    "```{code-block} none\n",
    "cd $ENV:LOCALAPPDATA/atom/bin\n",
    "```\n",
    "\n",
    "Then navigating to a folder like `C:\\Users\\USERNAME\\AppData\\Local\\atom\\bin` (which will contain the `apm` tool), and running:\n",
    "\n",
    "```{code-block} none\n",
    "./apm uninstall ink julia-client\n",
    "./apm install ink julia-client\n",
    "```\n",
    "\n",
    "(upgrading_julia)=\n",
    "#### Upgrading Julia\n",
    "\n",
    "To get a new release working with Jupyter, run (in the new version's REPL)\n",
    "\n",
    "```{code-block} julia\n",
    "] add IJulia\n",
    "] build IJulia\n",
    "```\n",
    "\n",
    "This will install (and build) the `IJulia` kernel.\n",
    "\n",
    "To get it working with Atom, open the command palette and type \"Julia Client: Settings.\"\n",
    "\n",
    "Then, in the box labelled \"Julia Path,\" enter the path to yor Julia executabe.\n",
    "\n",
    "You can find the folder by running `Sys.BINDIR` in a new REPL, and then add the `/julia` at the end to give the exact path.\n",
    "\n",
    "For example:\n",
    "\n",
    "```{figure} /_static/figures/julia-path.png\n",
    ":width: 100%\n",
    "```\n",
    "\n",
    "### Standard Layout\n",
    "\n",
    "If you follow the instructions, you should see something like this when you open a new file.\n",
    "\n",
    "If you don't, simply go to the command palette and type \"Julia standard layout\"\n",
    "\n",
    "```{figure} /_static/figures/juno-standard-layout.png\n",
    ":width: 100%\n",
    "```\n",
    "\n",
    "The bottom pane is a standard REPL, which supports the different modes above.\n",
    "\n",
    "The \"workspace\" pane is a snapshot of currently-defined objects.\n",
    "\n",
    "For example, if we define an object in the REPL"
   ]
  },
  {
   "cell_type": "code",
   "execution_count": null,
   "id": "b13776d3",
   "metadata": {},
   "outputs": [],
   "source": [
    "x = 2"
   ]
  },
  {
   "cell_type": "markdown",
   "id": "c295a2d4",
   "metadata": {},
   "source": [
    "Our workspace should read\n",
    "\n",
    "```{figure} /_static/figures/juno-workspace-1.png\n",
    ":width: 100%\n",
    "```\n",
    "\n",
    "The `ans` variable simply captures the result of the last computation.\n",
    "\n",
    "The `Documentation` pane simply lets us query Julia documentation\n",
    "\n",
    "```{figure} /_static/figures/juno-docs.png\n",
    ":width: 100%\n",
    "```\n",
    "\n",
    "The `Plots` pane captures Julia plots output (the code is as follows)\n",
    "\n",
    "```{code-block} julia\n",
    "using Plots\n",
    "gr(fmt = :png);\n",
    "data = rand(10, 10)\n",
    "h = heatmap(data)\n",
    "```\n",
    "\n",
    "```{figure} /_static/figures/juno-plots.png\n",
    ":width: 100%\n",
    "```\n",
    "\n",
    "**Note:** The plots feature is not perfectly reliable across all plotting backends, see [the Basic Usage](http://docs.junolab.org/latest/man/basic_usage.html) page.\n",
    "\n",
    "### Other Features\n",
    "\n",
    "* `` Shift + Enter `` will evaluate a highlighted selection or line (as above).\n",
    "* The run symbol in the left sidebar (or `Ctrl+Shift+Enter`) will run the whole file.\n",
    "\n",
    "See [basic usage](http://docs.junolab.org/latest/man/basic_usage.html) for an exploration of features, and  the [FAQ](http://docs.junolab.org/latest/man/faq.html) for more advanced steps.\n",
    "\n",
    "(jl_packages)=\n",
    "## Package Environments\n",
    "\n",
    "Julia's package manager lets you set up Python-style \"virtualenvs,\" or subsets of packages that draw from an underlying pool of assets on the machine.\n",
    "\n",
    "This way, you can work with (and specify) the dependencies (i.e., required packages) for one project without worrying about impacts on other projects.\n",
    "\n",
    "* An `environment` is a set of packages specified by a `Project.toml` (and optionally, a `Manifest.toml`).\n",
    "* A `registry` is a git repository corresponding to a list of (typically) registered packages, from which Julia can pull (for more on git repositories, see {doc}`version control <../more_julia/version_control>`).\n",
    "* A `depot` is a directory, like `~/.julia`, which contains assets (compile caches, registries, package source directories, etc.).\n",
    "\n",
    "Essentially, an environment is a dependency tree for a project, or a \"frame of mind\" for Julia's package manager.\n",
    "\n",
    "* We can see the default (`v1.1`) environment as such"
   ]
  },
  {
   "cell_type": "code",
   "execution_count": null,
   "id": "883d26fe",
   "metadata": {},
   "outputs": [],
   "source": [
    "] st"
   ]
  },
  {
   "cell_type": "markdown",
   "id": "ac3bc192",
   "metadata": {},
   "source": [
    "* We can also create and activate a new environment"
   ]
  },
  {
   "cell_type": "code",
   "execution_count": null,
   "id": "0f86b593",
   "metadata": {},
   "outputs": [],
   "source": [
    "] generate ExampleEnvironment"
   ]
  },
  {
   "cell_type": "markdown",
   "id": "d0df4119",
   "metadata": {},
   "source": [
    "* And go to it"
   ]
  },
  {
   "cell_type": "code",
   "execution_count": null,
   "id": "c4271f6e",
   "metadata": {},
   "outputs": [],
   "source": [
    "; cd ExampleEnvironment"
   ]
  },
  {
   "cell_type": "markdown",
   "id": "7321de4e",
   "metadata": {},
   "source": [
    "* To activate the directory, simply"
   ]
  },
  {
   "cell_type": "code",
   "execution_count": null,
   "id": "7b368935",
   "metadata": {},
   "outputs": [],
   "source": [
    "] activate ."
   ]
  },
  {
   "cell_type": "markdown",
   "id": "5549d82b",
   "metadata": {},
   "source": [
    "where \".\" stands in for the \"present working directory\".\n",
    "\n",
    "* Let's make some changes to this"
   ]
  },
  {
   "cell_type": "code",
   "execution_count": null,
   "id": "a326cf51",
   "metadata": {},
   "outputs": [],
   "source": [
    "] add Expectations Parameters"
   ]
  },
  {
   "cell_type": "markdown",
   "id": "2fd3f161",
   "metadata": {},
   "source": [
    "Note the lack of commas\n",
    "\n",
    "* To see the changes, simply open the `ExampleEnvironment` directory in an editor like Atom.\n",
    "\n",
    "The Project TOML should look something like this\n",
    "\n",
    "```{code-block} none\n",
    "name = \"ExampleEnvironment\"\n",
    "uuid = \"14d3e79e-e2e5-11e8-28b9-19823016c34c\"\n",
    "authors = [\"QuantEcon User <quanteconuser@gmail.com>\"]\n",
    "version = \"0.1.0\"\n",
    "\n",
    "[deps]\n",
    "Expectations = \"2fe49d83-0758-5602-8f54-1f90ad0d522b\"\n",
    "Parameters = \"d96e819e-fc66-5662-9728-84c9c7592b0a\"\n",
    "```\n",
    "\n",
    "We can also"
   ]
  },
  {
   "cell_type": "code",
   "execution_count": null,
   "id": "07948157",
   "metadata": {},
   "outputs": [],
   "source": [
    "] precompile"
   ]
  },
  {
   "cell_type": "markdown",
   "id": "4d8f281b",
   "metadata": {},
   "source": [
    "**Note** The TOML files are independent of the actual assets (which live in `~/.julia/packages`, `~/.julia/dev`, and `~/.julia/compiled`).\n",
    "\n",
    "You can think of the TOML as specifying demands for resources, which are supplied by the `~/.julia` user depot.\n",
    "\n",
    "* To return to the default Julia environment, simply"
   ]
  },
  {
   "cell_type": "code",
   "execution_count": null,
   "id": "0250c084",
   "metadata": {},
   "outputs": [],
   "source": [
    "] activate"
   ]
  },
  {
   "cell_type": "markdown",
   "id": "66020052",
   "metadata": {},
   "source": [
    "without any arguments.\n",
    "\n",
    "* Lastly, let's clean up"
   ]
  },
  {
   "cell_type": "code",
   "execution_count": null,
   "id": "87faa9cd",
   "metadata": {},
   "outputs": [],
   "source": [
    "; cd .."
   ]
  },
  {
   "cell_type": "code",
   "execution_count": null,
   "id": "97d39924",
   "metadata": {},
   "outputs": [],
   "source": [
    "; rm -rf ExampleEnvironment"
   ]
  },
  {
   "cell_type": "markdown",
   "id": "82073acb",
   "metadata": {},
   "source": [
    "### InstantiateFromURL\n",
    "\n",
    "With this knowledge, we can explain the operation of the setup block\n",
    "\n",
    "\n",
    "What this `github_project` function does is activate (and if necessary, download, instantiate and precompile) a particular Julia environment.\n",
    "\n",
    "(docker_main)="
   ]
  }
 ],
 "metadata": {
  "kernelspec": {
   "display_name": "Julia 1.5.2",
   "language": "julia",
   "name": "julia-1.5"
  }
 },
 "nbformat": 4,
 "nbformat_minor": 5
}
